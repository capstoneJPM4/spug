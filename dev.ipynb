{
 "cells": [
  {
   "cell_type": "code",
   "execution_count": 1,
   "id": "bc401feb",
   "metadata": {
    "ExecuteTime": {
     "end_time": "2021-10-21T23:45:14.410676Z",
     "start_time": "2021-10-21T23:45:14.382885Z"
    }
   },
   "outputs": [],
   "source": [
    "%load_ext autoreload\n",
    "%autoreload 2"
   ]
  },
  {
   "cell_type": "code",
   "execution_count": 32,
   "id": "4a0f0651",
   "metadata": {
    "ExecuteTime": {
     "end_time": "2021-10-22T00:22:05.195250Z",
     "start_time": "2021-10-22T00:22:05.148764Z"
    }
   },
   "outputs": [],
   "source": [
    "import json\n",
    "import yaml"
   ]
  },
  {
   "cell_type": "code",
   "execution_count": 2,
   "id": "0cd11647",
   "metadata": {
    "ExecuteTime": {
     "end_time": "2021-10-21T23:45:15.098850Z",
     "start_time": "2021-10-21T23:45:14.831783Z"
    }
   },
   "outputs": [],
   "source": [
    "import pandas as pd"
   ]
  },
  {
   "cell_type": "code",
   "execution_count": 90,
   "id": "c5b39c0e",
   "metadata": {
    "ExecuteTime": {
     "end_time": "2021-10-22T01:33:42.292259Z",
     "start_time": "2021-10-22T01:33:42.224894Z"
    }
   },
   "outputs": [],
   "source": [
    "import datetime as dt\n",
    "\n",
    "from apulu.data_pipeline.sources import twitterFetcher, stockFetcher"
   ]
  },
  {
   "cell_type": "code",
   "execution_count": 42,
   "id": "431f16f7",
   "metadata": {
    "ExecuteTime": {
     "end_time": "2021-10-22T00:43:04.271435Z",
     "start_time": "2021-10-22T00:43:04.226586Z"
    }
   },
   "outputs": [],
   "source": [
    "df = pd.read_csv('./data/dowjones.csv')\n",
    "df = df.assign(\n",
    "    symbol_ = '$' + df['Symbol']\n",
    ")[['symbol_','Symbol', 'Description', 'Alternative name']]\n",
    "df.index = df['Symbol'].str.lower()\n",
    "df.sort_index()\n",
    "params = {\"companies\": df.assign(\n",
    "    alias = df.apply(lambda x: ','.join(x.str.lower()).split(',') ,axis = 1),\n",
    ")[['alias']].apply(lambda x: {x.name: {'alias': x['alias']}}, axis = 1).tolist()}\n",
    "\n",
    "params['data_root'] = \"./data\"\n",
    "params['twitter_conifg'] = {\n",
    "    \"sleep_time\": 5\n",
    "}"
   ]
  },
  {
   "cell_type": "code",
   "execution_count": 46,
   "id": "33cd077f",
   "metadata": {
    "ExecuteTime": {
     "end_time": "2021-10-22T01:00:17.038787Z",
     "start_time": "2021-10-22T01:00:17.006868Z"
    }
   },
   "outputs": [
    {
     "data": {
      "text/plain": [
       "<apulu.data_pipeline.sources.twitter.twitterFetcher at 0x7fd1fa94da90>"
      ]
     },
     "execution_count": 46,
     "metadata": {},
     "output_type": "execute_result"
    }
   ],
   "source": []
  },
  {
   "cell_type": "code",
   "execution_count": 43,
   "id": "0ce37379",
   "metadata": {
    "ExecuteTime": {
     "end_time": "2021-10-22T00:43:09.213191Z",
     "start_time": "2021-10-22T00:43:09.175094Z"
    }
   },
   "outputs": [],
   "source": [
    "with open('configs/etl.yaml', 'w+') as f:\n",
    "    yaml.dump(params, f, allow_unicode = True)"
   ]
  },
  {
   "cell_type": "code",
   "execution_count": 48,
   "id": "d1dcffa3",
   "metadata": {
    "ExecuteTime": {
     "end_time": "2021-10-22T01:01:03.228804Z",
     "start_time": "2021-10-22T01:01:03.199739Z"
    }
   },
   "outputs": [],
   "source": []
  },
  {
   "cell_type": "code",
   "execution_count": 98,
   "id": "ebb7823d",
   "metadata": {
    "ExecuteTime": {
     "end_time": "2021-10-22T01:36:46.165578Z",
     "start_time": "2021-10-22T01:36:46.141679Z"
    }
   },
   "outputs": [],
   "source": [
    "start = dt.datetime(2019, 10, 1)\n",
    "end = dt.datetime(2021, 10, 1)"
   ]
  },
  {
   "cell_type": "code",
   "execution_count": 99,
   "id": "c97721b5",
   "metadata": {
    "ExecuteTime": {
     "end_time": "2021-10-22T01:36:46.795337Z",
     "start_time": "2021-10-22T01:36:46.769412Z"
    }
   },
   "outputs": [],
   "source": [
    "twitter_fetcher = twitterFetcher(**params)"
   ]
  },
  {
   "cell_type": "code",
   "execution_count": 100,
   "id": "d2125fa1",
   "metadata": {
    "ExecuteTime": {
     "end_time": "2021-10-22T01:36:47.241414Z",
     "start_time": "2021-10-22T01:36:47.218589Z"
    }
   },
   "outputs": [],
   "source": [
    "stock_fetcher = stockFetcher(**params)"
   ]
  },
  {
   "cell_type": "code",
   "execution_count": 104,
   "id": "7022222f",
   "metadata": {
    "ExecuteTime": {
     "end_time": "2021-10-22T01:42:53.248756Z",
     "start_time": "2021-10-22T01:42:53.217516Z"
    }
   },
   "outputs": [
    {
     "data": {
      "text/plain": [
       "'./data'"
      ]
     },
     "execution_count": 104,
     "metadata": {},
     "output_type": "execute_result"
    }
   ],
   "source": [
    "stock_fetcher.data_root"
   ]
  },
  {
   "cell_type": "code",
   "execution_count": 101,
   "id": "c2429d81",
   "metadata": {
    "ExecuteTime": {
     "end_time": "2021-10-22T01:37:09.961800Z",
     "start_time": "2021-10-22T01:36:47.762330Z"
    }
   },
   "outputs": [
    {
     "name": "stderr",
     "output_type": "stream",
     "text": [
      "\r",
      "  0%|                                                                                                                           | 0/30 [00:00<?, ?it/s]"
     ]
    },
    {
     "name": "stdout",
     "output_type": "stream",
     "text": [
      "wba\n"
     ]
    },
    {
     "name": "stderr",
     "output_type": "stream",
     "text": [
      "\r",
      "  3%|███▊                                                                                                               | 1/30 [00:00<00:21,  1.32it/s]"
     ]
    },
    {
     "name": "stdout",
     "output_type": "stream",
     "text": [
      "v\n"
     ]
    },
    {
     "name": "stderr",
     "output_type": "stream",
     "text": [
      "\r",
      "  7%|███████▋                                                                                                           | 2/30 [00:01<00:25,  1.09it/s]"
     ]
    },
    {
     "name": "stdout",
     "output_type": "stream",
     "text": [
      "crm\n"
     ]
    },
    {
     "name": "stderr",
     "output_type": "stream",
     "text": [
      "\r",
      " 10%|███████████▌                                                                                                       | 3/30 [00:02<00:22,  1.23it/s]"
     ]
    },
    {
     "name": "stdout",
     "output_type": "stream",
     "text": [
      "cvx\n"
     ]
    },
    {
     "name": "stderr",
     "output_type": "stream",
     "text": [
      "\r",
      " 13%|███████████████▎                                                                                                   | 4/30 [00:03<00:19,  1.33it/s]"
     ]
    },
    {
     "name": "stdout",
     "output_type": "stream",
     "text": [
      "pg\n"
     ]
    },
    {
     "name": "stderr",
     "output_type": "stream",
     "text": [
      "\r",
      " 17%|███████████████████▏                                                                                               | 5/30 [00:03<00:17,  1.41it/s]"
     ]
    },
    {
     "name": "stdout",
     "output_type": "stream",
     "text": [
      "vz\n"
     ]
    },
    {
     "name": "stderr",
     "output_type": "stream",
     "text": [
      "\r",
      " 20%|███████████████████████                                                                                            | 6/30 [00:04<00:17,  1.39it/s]"
     ]
    },
    {
     "name": "stdout",
     "output_type": "stream",
     "text": [
      "wmt\n"
     ]
    },
    {
     "name": "stderr",
     "output_type": "stream",
     "text": [
      "\r",
      " 23%|██████████████████████████▊                                                                                        | 7/30 [00:05<00:16,  1.38it/s]"
     ]
    },
    {
     "name": "stdout",
     "output_type": "stream",
     "text": [
      "unh\n"
     ]
    },
    {
     "name": "stderr",
     "output_type": "stream",
     "text": [
      "\r",
      " 27%|██████████████████████████████▋                                                                                    | 8/30 [00:05<00:15,  1.38it/s]"
     ]
    },
    {
     "name": "stdout",
     "output_type": "stream",
     "text": [
      "trv\n"
     ]
    },
    {
     "name": "stderr",
     "output_type": "stream",
     "text": [
      "\r",
      " 30%|██████████████████████████████████▌                                                                                | 9/30 [00:06<00:15,  1.39it/s]"
     ]
    },
    {
     "name": "stdout",
     "output_type": "stream",
     "text": [
      "mcd\n"
     ]
    },
    {
     "name": "stderr",
     "output_type": "stream",
     "text": [
      "\r",
      " 33%|██████████████████████████████████████                                                                            | 10/30 [00:07<00:15,  1.32it/s]"
     ]
    },
    {
     "name": "stdout",
     "output_type": "stream",
     "text": [
      "mmm\n"
     ]
    },
    {
     "name": "stderr",
     "output_type": "stream",
     "text": [
      "\r",
      " 37%|█████████████████████████████████████████▊                                                                        | 11/30 [00:08<00:14,  1.32it/s]"
     ]
    },
    {
     "name": "stdout",
     "output_type": "stream",
     "text": [
      "nke\n"
     ]
    },
    {
     "name": "stderr",
     "output_type": "stream",
     "text": [
      "\r",
      " 40%|█████████████████████████████████████████████▌                                                                    | 12/30 [00:09<00:13,  1.29it/s]"
     ]
    },
    {
     "name": "stdout",
     "output_type": "stream",
     "text": [
      "mrk\n"
     ]
    },
    {
     "name": "stderr",
     "output_type": "stream",
     "text": [
      "\r",
      " 43%|█████████████████████████████████████████████████▍                                                                | 13/30 [00:09<00:12,  1.35it/s]"
     ]
    },
    {
     "name": "stdout",
     "output_type": "stream",
     "text": [
      "msft\n"
     ]
    },
    {
     "name": "stderr",
     "output_type": "stream",
     "text": [
      "\r",
      " 47%|█████████████████████████████████████████████████████▏                                                            | 14/30 [00:10<00:11,  1.40it/s]"
     ]
    },
    {
     "name": "stdout",
     "output_type": "stream",
     "text": [
      "jpm\n"
     ]
    },
    {
     "name": "stderr",
     "output_type": "stream",
     "text": [
      "\r",
      " 50%|█████████████████████████████████████████████████████████                                                         | 15/30 [00:11<00:10,  1.39it/s]"
     ]
    },
    {
     "name": "stdout",
     "output_type": "stream",
     "text": [
      "ko\n"
     ]
    },
    {
     "name": "stderr",
     "output_type": "stream",
     "text": [
      "\r",
      " 53%|████████████████████████████████████████████████████████████▊                                                     | 16/30 [00:11<00:10,  1.37it/s]"
     ]
    },
    {
     "name": "stdout",
     "output_type": "stream",
     "text": [
      "jnj\n"
     ]
    },
    {
     "name": "stderr",
     "output_type": "stream",
     "text": [
      "\r",
      " 57%|████████████████████████████████████████████████████████████████▌                                                 | 17/30 [00:12<00:09,  1.36it/s]"
     ]
    },
    {
     "name": "stdout",
     "output_type": "stream",
     "text": [
      "gs\n"
     ]
    },
    {
     "name": "stderr",
     "output_type": "stream",
     "text": [
      "\r",
      " 60%|████████████████████████████████████████████████████████████████████▍                                             | 18/30 [00:13<00:08,  1.35it/s]"
     ]
    },
    {
     "name": "stdout",
     "output_type": "stream",
     "text": [
      "hd\n"
     ]
    },
    {
     "name": "stderr",
     "output_type": "stream",
     "text": [
      "\r",
      " 63%|████████████████████████████████████████████████████████████████████████▏                                         | 19/30 [00:13<00:07,  1.43it/s]"
     ]
    },
    {
     "name": "stdout",
     "output_type": "stream",
     "text": [
      "hon\n"
     ]
    },
    {
     "name": "stderr",
     "output_type": "stream",
     "text": [
      "\r",
      " 67%|████████████████████████████████████████████████████████████████████████████                                      | 20/30 [00:14<00:07,  1.41it/s]"
     ]
    },
    {
     "name": "stdout",
     "output_type": "stream",
     "text": [
      "ibm\n"
     ]
    },
    {
     "name": "stderr",
     "output_type": "stream",
     "text": [
      "\r",
      " 70%|███████████████████████████████████████████████████████████████████████████████▊                                  | 21/30 [00:15<00:06,  1.40it/s]"
     ]
    },
    {
     "name": "stdout",
     "output_type": "stream",
     "text": [
      "intc\n"
     ]
    },
    {
     "name": "stderr",
     "output_type": "stream",
     "text": [
      "\r",
      " 73%|███████████████████████████████████████████████████████████████████████████████████▌                              | 22/30 [00:16<00:05,  1.35it/s]"
     ]
    },
    {
     "name": "stdout",
     "output_type": "stream",
     "text": [
      "dis\n"
     ]
    },
    {
     "name": "stderr",
     "output_type": "stream",
     "text": [
      "\r",
      " 77%|███████████████████████████████████████████████████████████████████████████████████████▍                          | 23/30 [00:16<00:05,  1.35it/s]"
     ]
    },
    {
     "name": "stdout",
     "output_type": "stream",
     "text": [
      "cat\n"
     ]
    },
    {
     "name": "stderr",
     "output_type": "stream",
     "text": [
      "\r",
      " 80%|███████████████████████████████████████████████████████████████████████████████████████████▏                      | 24/30 [00:17<00:04,  1.35it/s]"
     ]
    },
    {
     "name": "stdout",
     "output_type": "stream",
     "text": [
      "csco\n"
     ]
    },
    {
     "name": "stderr",
     "output_type": "stream",
     "text": [
      "\r",
      " 83%|███████████████████████████████████████████████████████████████████████████████████████████████                   | 25/30 [00:18<00:03,  1.31it/s]"
     ]
    },
    {
     "name": "stdout",
     "output_type": "stream",
     "text": [
      "axp\n"
     ]
    },
    {
     "name": "stderr",
     "output_type": "stream",
     "text": [
      "\r",
      " 87%|██████████████████████████████████████████████████████████████████████████████████████████████████▊               | 26/30 [00:19<00:03,  1.27it/s]"
     ]
    },
    {
     "name": "stdout",
     "output_type": "stream",
     "text": [
      "ba\n"
     ]
    },
    {
     "name": "stderr",
     "output_type": "stream",
     "text": [
      "\r",
      " 90%|██████████████████████████████████████████████████████████████████████████████████████████████████████▌           | 27/30 [00:20<00:02,  1.31it/s]"
     ]
    },
    {
     "name": "stdout",
     "output_type": "stream",
     "text": [
      "amgn\n"
     ]
    },
    {
     "name": "stderr",
     "output_type": "stream",
     "text": [
      "\r",
      " 93%|██████████████████████████████████████████████████████████████████████████████████████████████████████████▍       | 28/30 [00:20<00:01,  1.35it/s]"
     ]
    },
    {
     "name": "stdout",
     "output_type": "stream",
     "text": [
      "aapl\n"
     ]
    },
    {
     "name": "stderr",
     "output_type": "stream",
     "text": [
      "\r",
      " 97%|██████████████████████████████████████████████████████████████████████████████████████████████████████████████▏   | 29/30 [00:21<00:00,  1.41it/s]"
     ]
    },
    {
     "name": "stdout",
     "output_type": "stream",
     "text": [
      "dow\n"
     ]
    },
    {
     "name": "stderr",
     "output_type": "stream",
     "text": [
      "100%|██████████████████████████████████████████████████████████████████████████████████████████████████████████████████| 30/30 [00:22<00:00,  1.35it/s]\n"
     ]
    },
    {
     "data": {
      "text/html": [
       "<div>\n",
       "<style scoped>\n",
       "    .dataframe tbody tr th:only-of-type {\n",
       "        vertical-align: middle;\n",
       "    }\n",
       "\n",
       "    .dataframe tbody tr th {\n",
       "        vertical-align: top;\n",
       "    }\n",
       "\n",
       "    .dataframe thead th {\n",
       "        text-align: right;\n",
       "    }\n",
       "</style>\n",
       "<table border=\"1\" class=\"dataframe\">\n",
       "  <thead>\n",
       "    <tr style=\"text-align: right;\">\n",
       "      <th></th>\n",
       "      <th>Date</th>\n",
       "      <th>High</th>\n",
       "      <th>Low</th>\n",
       "      <th>Open</th>\n",
       "      <th>Close</th>\n",
       "      <th>Volume</th>\n",
       "      <th>Adj Close</th>\n",
       "      <th>ticker_symbol</th>\n",
       "    </tr>\n",
       "  </thead>\n",
       "  <tbody>\n",
       "    <tr>\n",
       "      <th>0</th>\n",
       "      <td>2019-10-01</td>\n",
       "      <td>55.869999</td>\n",
       "      <td>54.279999</td>\n",
       "      <td>55.259998</td>\n",
       "      <td>54.700001</td>\n",
       "      <td>4824700.0</td>\n",
       "      <td>50.570091</td>\n",
       "      <td>wba</td>\n",
       "    </tr>\n",
       "    <tr>\n",
       "      <th>1</th>\n",
       "      <td>2019-10-02</td>\n",
       "      <td>54.619999</td>\n",
       "      <td>52.730000</td>\n",
       "      <td>54.529999</td>\n",
       "      <td>52.830002</td>\n",
       "      <td>5016000.0</td>\n",
       "      <td>48.841282</td>\n",
       "      <td>wba</td>\n",
       "    </tr>\n",
       "    <tr>\n",
       "      <th>2</th>\n",
       "      <td>2019-10-03</td>\n",
       "      <td>53.049999</td>\n",
       "      <td>51.570000</td>\n",
       "      <td>52.830002</td>\n",
       "      <td>52.599998</td>\n",
       "      <td>3625100.0</td>\n",
       "      <td>48.628639</td>\n",
       "      <td>wba</td>\n",
       "    </tr>\n",
       "    <tr>\n",
       "      <th>3</th>\n",
       "      <td>2019-10-04</td>\n",
       "      <td>53.060001</td>\n",
       "      <td>52.060001</td>\n",
       "      <td>52.740002</td>\n",
       "      <td>52.970001</td>\n",
       "      <td>3895400.0</td>\n",
       "      <td>48.970707</td>\n",
       "      <td>wba</td>\n",
       "    </tr>\n",
       "    <tr>\n",
       "      <th>4</th>\n",
       "      <td>2019-10-07</td>\n",
       "      <td>53.119999</td>\n",
       "      <td>52.570000</td>\n",
       "      <td>52.830002</td>\n",
       "      <td>52.759998</td>\n",
       "      <td>4427000.0</td>\n",
       "      <td>48.776558</td>\n",
       "      <td>wba</td>\n",
       "    </tr>\n",
       "    <tr>\n",
       "      <th>...</th>\n",
       "      <td>...</td>\n",
       "      <td>...</td>\n",
       "      <td>...</td>\n",
       "      <td>...</td>\n",
       "      <td>...</td>\n",
       "      <td>...</td>\n",
       "      <td>...</td>\n",
       "      <td>...</td>\n",
       "    </tr>\n",
       "    <tr>\n",
       "      <th>15175</th>\n",
       "      <td>2021-09-27</td>\n",
       "      <td>60.380001</td>\n",
       "      <td>56.880001</td>\n",
       "      <td>56.880001</td>\n",
       "      <td>59.689999</td>\n",
       "      <td>12374000.0</td>\n",
       "      <td>59.689999</td>\n",
       "      <td>dow</td>\n",
       "    </tr>\n",
       "    <tr>\n",
       "      <th>15176</th>\n",
       "      <td>2021-09-28</td>\n",
       "      <td>60.645000</td>\n",
       "      <td>59.139999</td>\n",
       "      <td>60.150002</td>\n",
       "      <td>59.459999</td>\n",
       "      <td>6681800.0</td>\n",
       "      <td>59.459999</td>\n",
       "      <td>dow</td>\n",
       "    </tr>\n",
       "    <tr>\n",
       "      <th>15177</th>\n",
       "      <td>2021-09-29</td>\n",
       "      <td>59.599998</td>\n",
       "      <td>58.770000</td>\n",
       "      <td>59.459999</td>\n",
       "      <td>58.820000</td>\n",
       "      <td>4578800.0</td>\n",
       "      <td>58.820000</td>\n",
       "      <td>dow</td>\n",
       "    </tr>\n",
       "    <tr>\n",
       "      <th>15178</th>\n",
       "      <td>2021-09-30</td>\n",
       "      <td>59.169998</td>\n",
       "      <td>57.549999</td>\n",
       "      <td>58.919998</td>\n",
       "      <td>57.560001</td>\n",
       "      <td>4929000.0</td>\n",
       "      <td>57.560001</td>\n",
       "      <td>dow</td>\n",
       "    </tr>\n",
       "    <tr>\n",
       "      <th>15179</th>\n",
       "      <td>2021-10-01</td>\n",
       "      <td>59.009998</td>\n",
       "      <td>57.250000</td>\n",
       "      <td>57.669998</td>\n",
       "      <td>58.580002</td>\n",
       "      <td>6925300.0</td>\n",
       "      <td>58.580002</td>\n",
       "      <td>dow</td>\n",
       "    </tr>\n",
       "  </tbody>\n",
       "</table>\n",
       "<p>15180 rows × 8 columns</p>\n",
       "</div>"
      ],
      "text/plain": [
       "            Date       High        Low       Open      Close      Volume  \\\n",
       "0     2019-10-01  55.869999  54.279999  55.259998  54.700001   4824700.0   \n",
       "1     2019-10-02  54.619999  52.730000  54.529999  52.830002   5016000.0   \n",
       "2     2019-10-03  53.049999  51.570000  52.830002  52.599998   3625100.0   \n",
       "3     2019-10-04  53.060001  52.060001  52.740002  52.970001   3895400.0   \n",
       "4     2019-10-07  53.119999  52.570000  52.830002  52.759998   4427000.0   \n",
       "...          ...        ...        ...        ...        ...         ...   \n",
       "15175 2021-09-27  60.380001  56.880001  56.880001  59.689999  12374000.0   \n",
       "15176 2021-09-28  60.645000  59.139999  60.150002  59.459999   6681800.0   \n",
       "15177 2021-09-29  59.599998  58.770000  59.459999  58.820000   4578800.0   \n",
       "15178 2021-09-30  59.169998  57.549999  58.919998  57.560001   4929000.0   \n",
       "15179 2021-10-01  59.009998  57.250000  57.669998  58.580002   6925300.0   \n",
       "\n",
       "       Adj Close ticker_symbol  \n",
       "0      50.570091           wba  \n",
       "1      48.841282           wba  \n",
       "2      48.628639           wba  \n",
       "3      48.970707           wba  \n",
       "4      48.776558           wba  \n",
       "...          ...           ...  \n",
       "15175  59.689999           dow  \n",
       "15176  59.459999           dow  \n",
       "15177  58.820000           dow  \n",
       "15178  57.560001           dow  \n",
       "15179  58.580002           dow  \n",
       "\n",
       "[15180 rows x 8 columns]"
      ]
     },
     "execution_count": 101,
     "metadata": {},
     "output_type": "execute_result"
    }
   ],
   "source": [
    "stock_fetcher.get_data(start, end)"
   ]
  },
  {
   "cell_type": "code",
   "execution_count": 61,
   "id": "4cd3a23f",
   "metadata": {
    "ExecuteTime": {
     "end_time": "2021-10-22T01:13:44.731797Z",
     "start_time": "2021-10-22T01:07:07.042414Z"
    }
   },
   "outputs": [
    {
     "data": {
      "application/vnd.jupyter.widget-view+json": {
       "model_id": "789f4334fe1b46e0849643df4d364788",
       "version_major": 2,
       "version_minor": 0
      },
      "text/plain": [
       "  0%|          | 0/30 [00:00<?, ?it/s]"
      ]
     },
     "metadata": {},
     "output_type": "display_data"
    },
    {
     "ename": "KeyboardInterrupt",
     "evalue": "",
     "output_type": "error",
     "traceback": [
      "\u001b[0;31m---------------------------------------------------------------------------\u001b[0m",
      "\u001b[0;31mKeyboardInterrupt\u001b[0m                         Traceback (most recent call last)",
      "\u001b[0;32m/var/folders/n5/gw9wgd8j759416q9p1ws4v2h0000gn/T/ipykernel_26057/3073239726.py\u001b[0m in \u001b[0;36m<module>\u001b[0;34m\u001b[0m\n\u001b[1;32m      1\u001b[0m \u001b[0mtwitter_fetcher\u001b[0m \u001b[0;34m=\u001b[0m \u001b[0mtwitterFetcher\u001b[0m\u001b[0;34m(\u001b[0m\u001b[0;34m**\u001b[0m\u001b[0mparams\u001b[0m\u001b[0;34m)\u001b[0m\u001b[0;34m\u001b[0m\u001b[0;34m\u001b[0m\u001b[0m\n\u001b[0;32m----> 2\u001b[0;31m \u001b[0mdf\u001b[0m \u001b[0;34m=\u001b[0m \u001b[0mtwitter_fetcher\u001b[0m\u001b[0;34m.\u001b[0m\u001b[0mget_data\u001b[0m\u001b[0;34m(\u001b[0m\u001b[0mstart\u001b[0m\u001b[0;34m,\u001b[0m \u001b[0mend\u001b[0m\u001b[0;34m)\u001b[0m\u001b[0;34m\u001b[0m\u001b[0;34m\u001b[0m\u001b[0m\n\u001b[0m",
      "\u001b[0;32m~/Desktop/fall2021/capstone/apulu/apulu/data_pipeline/sources/twitter.py\u001b[0m in \u001b[0;36mget_data\u001b[0;34m(self, start, end)\u001b[0m\n\u001b[1;32m     97\u001b[0m             \u001b[0msymbol\u001b[0m\u001b[0;34m,\u001b[0m \u001b[0malias\u001b[0m \u001b[0;34m=\u001b[0m \u001b[0mlist\u001b[0m\u001b[0;34m(\u001b[0m\u001b[0mcompany\u001b[0m\u001b[0;34m.\u001b[0m\u001b[0mitems\u001b[0m\u001b[0;34m(\u001b[0m\u001b[0;34m)\u001b[0m\u001b[0;34m)\u001b[0m\u001b[0;34m[\u001b[0m\u001b[0;36m0\u001b[0m\u001b[0;34m]\u001b[0m\u001b[0;34m\u001b[0m\u001b[0;34m\u001b[0m\u001b[0m\n\u001b[1;32m     98\u001b[0m             \u001b[0malias\u001b[0m \u001b[0;34m=\u001b[0m \u001b[0malias\u001b[0m\u001b[0;34m[\u001b[0m\u001b[0;34m\"alias\"\u001b[0m\u001b[0;34m]\u001b[0m\u001b[0;34m\u001b[0m\u001b[0;34m\u001b[0m\u001b[0m\n\u001b[0;32m---> 99\u001b[0;31m             \u001b[0mtime\u001b[0m\u001b[0;34m.\u001b[0m\u001b[0msleep\u001b[0m\u001b[0;34m(\u001b[0m\u001b[0mself\u001b[0m\u001b[0;34m.\u001b[0m\u001b[0mtwitter_conifg\u001b[0m\u001b[0;34m[\u001b[0m\u001b[0;34m\"sleep_time\"\u001b[0m\u001b[0;34m]\u001b[0m\u001b[0;34m)\u001b[0m\u001b[0;34m\u001b[0m\u001b[0;34m\u001b[0m\u001b[0m\n\u001b[0m\u001b[1;32m    100\u001b[0m             \u001b[0mprocessed_query\u001b[0m \u001b[0;34m=\u001b[0m \u001b[0m_preprocess_query\u001b[0m\u001b[0;34m(\u001b[0m\u001b[0malias\u001b[0m\u001b[0;34m,\u001b[0m \u001b[0mstart\u001b[0m\u001b[0;34m,\u001b[0m \u001b[0mend\u001b[0m\u001b[0;34m)\u001b[0m\u001b[0;34m\u001b[0m\u001b[0;34m\u001b[0m\u001b[0m\n\u001b[1;32m    101\u001b[0m             \u001b[0mscraped_tweets\u001b[0m \u001b[0;34m=\u001b[0m \u001b[0m_call_twitter_api\u001b[0m\u001b[0;34m(\u001b[0m\u001b[0mprocessed_query\u001b[0m\u001b[0;34m)\u001b[0m\u001b[0;34m\u001b[0m\u001b[0;34m\u001b[0m\u001b[0m\n",
      "\u001b[0;31mKeyboardInterrupt\u001b[0m: "
     ]
    }
   ],
   "source": [
    "\n",
    "df = twitter_fetcher.get_data(start, end)"
   ]
  },
  {
   "cell_type": "code",
   "execution_count": 59,
   "id": "4eca0700",
   "metadata": {
    "ExecuteTime": {
     "end_time": "2021-10-22T01:06:54.001363Z",
     "start_time": "2021-10-22T01:06:53.974155Z"
    }
   },
   "outputs": [
    {
     "data": {
      "text/plain": [
       "[]"
      ]
     },
     "execution_count": 59,
     "metadata": {},
     "output_type": "execute_result"
    }
   ],
   "source": [
    "list({}.items())"
   ]
  },
  {
   "cell_type": "code",
   "execution_count": 54,
   "id": "aa61bf1b",
   "metadata": {
    "ExecuteTime": {
     "end_time": "2021-10-22T01:04:17.901746Z",
     "start_time": "2021-10-22T01:04:17.869607Z"
    }
   },
   "outputs": [
    {
     "data": {
      "text/plain": [
       "[{'wba': {'alias': ['$wba',\n",
       "    'wba',\n",
       "    'walgreen boots alliance inc',\n",
       "    'walgreen boots alliance',\n",
       "    'walgreenbootsalliance']}},\n",
       " {'v': {'alias': ['$v', 'v', 'visa inc class a', 'visa']}},\n",
       " {'crm': {'alias': ['$crm', 'crm', 'salesforce.com inc', 'salesforce']}},\n",
       " {'cvx': {'alias': ['$cvx', 'cvx', 'chevron corp', 'chevron']}},\n",
       " {'pg': {'alias': ['$pg', 'pg', 'procter & gamble', 'procter&gamble']}},\n",
       " {'vz': {'alias': ['$vz', 'vz', 'verizon communications inc', 'verizon']}},\n",
       " {'wmt': {'alias': ['$wmt',\n",
       "    'wmt',\n",
       "    'walmart stores inc',\n",
       "    'walmart stores',\n",
       "    'walmart']}},\n",
       " {'unh': {'alias': ['$unh',\n",
       "    'unh',\n",
       "    'unitedhealth group inc',\n",
       "    'unitedhealth group',\n",
       "    'unitedhealthgroup']}},\n",
       " {'trv': {'alias': ['$trv',\n",
       "    'trv',\n",
       "    'travelers companies inc',\n",
       "    'travelers companies',\n",
       "    'travelers',\n",
       "    'travelerscompanies']}},\n",
       " {'mcd': {'alias': ['$mcd', 'mcd', 'mcdonalds corp', 'mcdonalds']}},\n",
       " {'mmm': {'alias': ['$mmm', 'mmm', '3m', '3m']}},\n",
       " {'nke': {'alias': ['$nke', 'nke', 'nike inc class b', 'nike']}},\n",
       " {'mrk': {'alias': ['$mrk',\n",
       "    'mrk',\n",
       "    'merck & co inc',\n",
       "    'merck & co',\n",
       "    'merck&co']}},\n",
       " {'msft': {'alias': ['$msft', 'msft', 'microsoft corp', 'microsoft']}},\n",
       " {'jpm': {'alias': ['$jpm',\n",
       "    'jpm',\n",
       "    'jp morgan chase & co',\n",
       "    'jp morgan chase',\n",
       "    'jpmorgan',\n",
       "    ' j.p. morgan',\n",
       "    ' jp morgan',\n",
       "    'jpm']}},\n",
       " {'ko': {'alias': ['$ko', 'ko', 'coca-cola', 'cocacola']}},\n",
       " {'jnj': {'alias': ['$jnj', 'jnj', 'johnson & johnson', 'johnson&johnson']}},\n",
       " {'gs': {'alias': ['$gs',\n",
       "    'gs',\n",
       "    'goldman sachs group inc',\n",
       "    'goldman sachs group',\n",
       "    'goldman sachs',\n",
       "    'goldman']}},\n",
       " {'hd': {'alias': ['$hd', 'hd', 'home depot inc', 'home depot']}},\n",
       " {'hon': {'alias': ['$hon',\n",
       "    'hon',\n",
       "    'honeywell international inc',\n",
       "    'honeywell international',\n",
       "    'honeywell']}},\n",
       " {'ibm': {'alias': ['$ibm',\n",
       "    'ibm',\n",
       "    'international business machines co',\n",
       "    'international business machines',\n",
       "    'internationalbusinessmachines']}},\n",
       " {'intc': {'alias': ['$intc',\n",
       "    'intc',\n",
       "    'intel corporation corp',\n",
       "    'intel corporation',\n",
       "    'intel']}},\n",
       " {'dis': {'alias': ['$dis', 'dis', 'walt disney', 'disney', 'waltdisney']}},\n",
       " {'cat': {'alias': ['$cat',\n",
       "    'cat',\n",
       "    'caterpillar inc',\n",
       "    'caterpillar inc',\n",
       "    'caterpillarinc']}},\n",
       " {'csco': {'alias': ['$csco',\n",
       "    'csco',\n",
       "    'cisco systems inc',\n",
       "    'cisco systems',\n",
       "    'cisco']}},\n",
       " {'axp': {'alias': ['$axp',\n",
       "    'axp',\n",
       "    'american express',\n",
       "    'american express',\n",
       "    'amex',\n",
       "    'americanexpress']}},\n",
       " {'ba': {'alias': ['$ba', 'ba', 'boeing', 'boeing']}},\n",
       " {'amgn': {'alias': ['$amgn', 'amgn', 'amgen inc', 'amgen']}},\n",
       " {'aapl': {'alias': ['$aapl', 'aapl', 'apple inc', 'apple inc', 'appleinc']}},\n",
       " {'dow': {'alias': ['$dow', 'dow', 'dow inc.', 'dow']}}]"
      ]
     },
     "execution_count": 54,
     "metadata": {},
     "output_type": "execute_result"
    }
   ],
   "source": [
    "twitter_fetcher.companies"
   ]
  },
  {
   "cell_type": "code",
   "execution_count": 8,
   "id": "747eee57",
   "metadata": {
    "ExecuteTime": {
     "end_time": "2021-10-21T23:45:59.460058Z",
     "start_time": "2021-10-21T23:45:59.414487Z"
    }
   },
   "outputs": [
    {
     "data": {
      "text/html": [
       "<div>\n",
       "<style scoped>\n",
       "    .dataframe tbody tr th:only-of-type {\n",
       "        vertical-align: middle;\n",
       "    }\n",
       "\n",
       "    .dataframe tbody tr th {\n",
       "        vertical-align: top;\n",
       "    }\n",
       "\n",
       "    .dataframe thead th {\n",
       "        text-align: right;\n",
       "    }\n",
       "</style>\n",
       "<table border=\"1\" class=\"dataframe\">\n",
       "  <thead>\n",
       "    <tr style=\"text-align: right;\">\n",
       "      <th></th>\n",
       "      <th>datetime</th>\n",
       "      <th>tweet_id</th>\n",
       "      <th>text</th>\n",
       "      <th>username</th>\n",
       "      <th>ticker_symbol</th>\n",
       "      <th>date</th>\n",
       "      <th>month</th>\n",
       "    </tr>\n",
       "  </thead>\n",
       "  <tbody>\n",
       "    <tr>\n",
       "      <th>0</th>\n",
       "      <td>2016-12-03 02:45:16+00:00</td>\n",
       "      <td>804879143645102080</td>\n",
       "      <td>Insider Selling: Walgreens Boots Alliance Inc....</td>\n",
       "      <td>TickerReport</td>\n",
       "      <td>wba</td>\n",
       "      <td>2016-12-03</td>\n",
       "      <td>12</td>\n",
       "    </tr>\n",
       "    <tr>\n",
       "      <th>1</th>\n",
       "      <td>2016-12-03 02:43:14+00:00</td>\n",
       "      <td>804878633785556992</td>\n",
       "      <td>Insider Selling: Walgreens Boots Alliance Inc....</td>\n",
       "      <td>TickerReport</td>\n",
       "      <td>wba</td>\n",
       "      <td>2016-12-03</td>\n",
       "      <td>12</td>\n",
       "    </tr>\n",
       "    <tr>\n",
       "      <th>2</th>\n",
       "      <td>2016-11-30 03:53:22+00:00</td>\n",
       "      <td>803809117081047040</td>\n",
       "      <td>Walgreens Boots Alliance Inc. (WBA) EVP Sells ...</td>\n",
       "      <td>CFinancialNews</td>\n",
       "      <td>wba</td>\n",
       "      <td>2016-11-30</td>\n",
       "      <td>11</td>\n",
       "    </tr>\n",
       "    <tr>\n",
       "      <th>3</th>\n",
       "      <td>2016-11-14 22:26:01+00:00</td>\n",
       "      <td>798290920848228352</td>\n",
       "      <td>Walgreens Boots Alliance Inc. (WBA) Given a $9...</td>\n",
       "      <td>bfsi_financial</td>\n",
       "      <td>wba</td>\n",
       "      <td>2016-11-14</td>\n",
       "      <td>11</td>\n",
       "    </tr>\n",
       "    <tr>\n",
       "      <th>4</th>\n",
       "      <td>2016-11-14 22:26:01+00:00</td>\n",
       "      <td>798290920793722880</td>\n",
       "      <td>Walgreens Boots Alliance Inc. (WBA) Given a $9...</td>\n",
       "      <td>bfsi_ibb</td>\n",
       "      <td>wba</td>\n",
       "      <td>2016-11-14</td>\n",
       "      <td>11</td>\n",
       "    </tr>\n",
       "    <tr>\n",
       "      <th>...</th>\n",
       "      <td>...</td>\n",
       "      <td>...</td>\n",
       "      <td>...</td>\n",
       "      <td>...</td>\n",
       "      <td>...</td>\n",
       "      <td>...</td>\n",
       "      <td>...</td>\n",
       "    </tr>\n",
       "    <tr>\n",
       "      <th>251</th>\n",
       "      <td>2016-10-13 17:46:41+00:00</td>\n",
       "      <td>786624212119064576</td>\n",
       "      <td>Help identify a burglar\\n\\nOn 10-11-16, at app...</td>\n",
       "      <td>CalCoSheriffAL</td>\n",
       "      <td>cvx</td>\n",
       "      <td>2016-10-13</td>\n",
       "      <td>10</td>\n",
       "    </tr>\n",
       "    <tr>\n",
       "      <th>252</th>\n",
       "      <td>2016-10-11 00:32:19+00:00</td>\n",
       "      <td>785639129279266817</td>\n",
       "      <td>Chevron Corp.'s equal weight rating reiterated...</td>\n",
       "      <td>MarketBeatCom</td>\n",
       "      <td>cvx</td>\n",
       "      <td>2016-10-11</td>\n",
       "      <td>10</td>\n",
       "    </tr>\n",
       "    <tr>\n",
       "      <th>253</th>\n",
       "      <td>2016-10-08 11:07:10+00:00</td>\n",
       "      <td>784711732035891200</td>\n",
       "      <td>#VintageJewelry Silver Bracelet Chevron Silver...</td>\n",
       "      <td>VJSE2</td>\n",
       "      <td>cvx</td>\n",
       "      <td>2016-10-08</td>\n",
       "      <td>10</td>\n",
       "    </tr>\n",
       "    <tr>\n",
       "      <th>254</th>\n",
       "      <td>2016-10-04 05:52:52+00:00</td>\n",
       "      <td>783183082127962112</td>\n",
       "      <td>Ohne Titel Chevron Sweater Dress - $100.00  \\n...</td>\n",
       "      <td>Blacktradelines</td>\n",
       "      <td>cvx</td>\n",
       "      <td>2016-10-04</td>\n",
       "      <td>10</td>\n",
       "    </tr>\n",
       "    <tr>\n",
       "      <th>255</th>\n",
       "      <td>2016-10-01 19:12:32+00:00</td>\n",
       "      <td>782297161216262144</td>\n",
       "      <td>9-h15 Stcl #Postmark #Anthropologie Chevron St...</td>\n",
       "      <td>BudAngisPlace</td>\n",
       "      <td>cvx</td>\n",
       "      <td>2016-10-01</td>\n",
       "      <td>10</td>\n",
       "    </tr>\n",
       "  </tbody>\n",
       "</table>\n",
       "<p>256 rows × 7 columns</p>\n",
       "</div>"
      ],
      "text/plain": [
       "                     datetime            tweet_id  \\\n",
       "0   2016-12-03 02:45:16+00:00  804879143645102080   \n",
       "1   2016-12-03 02:43:14+00:00  804878633785556992   \n",
       "2   2016-11-30 03:53:22+00:00  803809117081047040   \n",
       "3   2016-11-14 22:26:01+00:00  798290920848228352   \n",
       "4   2016-11-14 22:26:01+00:00  798290920793722880   \n",
       "..                        ...                 ...   \n",
       "251 2016-10-13 17:46:41+00:00  786624212119064576   \n",
       "252 2016-10-11 00:32:19+00:00  785639129279266817   \n",
       "253 2016-10-08 11:07:10+00:00  784711732035891200   \n",
       "254 2016-10-04 05:52:52+00:00  783183082127962112   \n",
       "255 2016-10-01 19:12:32+00:00  782297161216262144   \n",
       "\n",
       "                                                  text         username  \\\n",
       "0    Insider Selling: Walgreens Boots Alliance Inc....     TickerReport   \n",
       "1    Insider Selling: Walgreens Boots Alliance Inc....     TickerReport   \n",
       "2    Walgreens Boots Alliance Inc. (WBA) EVP Sells ...   CFinancialNews   \n",
       "3    Walgreens Boots Alliance Inc. (WBA) Given a $9...   bfsi_financial   \n",
       "4    Walgreens Boots Alliance Inc. (WBA) Given a $9...         bfsi_ibb   \n",
       "..                                                 ...              ...   \n",
       "251  Help identify a burglar\\n\\nOn 10-11-16, at app...   CalCoSheriffAL   \n",
       "252  Chevron Corp.'s equal weight rating reiterated...    MarketBeatCom   \n",
       "253  #VintageJewelry Silver Bracelet Chevron Silver...            VJSE2   \n",
       "254  Ohne Titel Chevron Sweater Dress - $100.00  \\n...  Blacktradelines   \n",
       "255  9-h15 Stcl #Postmark #Anthropologie Chevron St...    BudAngisPlace   \n",
       "\n",
       "    ticker_symbol        date  month  \n",
       "0             wba  2016-12-03     12  \n",
       "1             wba  2016-12-03     12  \n",
       "2             wba  2016-11-30     11  \n",
       "3             wba  2016-11-14     11  \n",
       "4             wba  2016-11-14     11  \n",
       "..            ...         ...    ...  \n",
       "251           cvx  2016-10-13     10  \n",
       "252           cvx  2016-10-11     10  \n",
       "253           cvx  2016-10-08     10  \n",
       "254           cvx  2016-10-04     10  \n",
       "255           cvx  2016-10-01     10  \n",
       "\n",
       "[256 rows x 7 columns]"
      ]
     },
     "execution_count": 8,
     "metadata": {},
     "output_type": "execute_result"
    }
   ],
   "source": [
    "tweets"
   ]
  },
  {
   "cell_type": "code",
   "execution_count": 41,
   "id": "abd9cb20",
   "metadata": {
    "ExecuteTime": {
     "end_time": "2021-10-21T23:40:01.041217Z",
     "start_time": "2021-10-21T23:40:01.011156Z"
    }
   },
   "outputs": [],
   "source": [
    "tweets.to_csv('quarter_1.csv', index=False)"
   ]
  },
  {
   "cell_type": "code",
   "execution_count": 9,
   "id": "036795eb",
   "metadata": {
    "ExecuteTime": {
     "end_time": "2021-10-21T23:49:36.738949Z",
     "start_time": "2021-10-21T23:49:36.700387Z"
    }
   },
   "outputs": [
    {
     "data": {
      "text/html": [
       "<div>\n",
       "<style scoped>\n",
       "    .dataframe tbody tr th:only-of-type {\n",
       "        vertical-align: middle;\n",
       "    }\n",
       "\n",
       "    .dataframe tbody tr th {\n",
       "        vertical-align: top;\n",
       "    }\n",
       "\n",
       "    .dataframe thead th {\n",
       "        text-align: right;\n",
       "    }\n",
       "</style>\n",
       "<table border=\"1\" class=\"dataframe\">\n",
       "  <thead>\n",
       "    <tr style=\"text-align: right;\">\n",
       "      <th></th>\n",
       "      <th>datetime</th>\n",
       "      <th>tweet_id</th>\n",
       "      <th>text</th>\n",
       "      <th>username</th>\n",
       "      <th>ticker_symbol</th>\n",
       "      <th>date</th>\n",
       "      <th>month</th>\n",
       "    </tr>\n",
       "  </thead>\n",
       "  <tbody>\n",
       "    <tr>\n",
       "      <th>0</th>\n",
       "      <td>2016-12-03 02:45:16+00:00</td>\n",
       "      <td>804879143645102080</td>\n",
       "      <td>Insider Selling: Walgreens Boots Alliance Inc....</td>\n",
       "      <td>TickerReport</td>\n",
       "      <td>wba</td>\n",
       "      <td>2016-12-03</td>\n",
       "      <td>12</td>\n",
       "    </tr>\n",
       "    <tr>\n",
       "      <th>1</th>\n",
       "      <td>2016-12-03 02:43:14+00:00</td>\n",
       "      <td>804878633785556992</td>\n",
       "      <td>Insider Selling: Walgreens Boots Alliance Inc....</td>\n",
       "      <td>TickerReport</td>\n",
       "      <td>wba</td>\n",
       "      <td>2016-12-03</td>\n",
       "      <td>12</td>\n",
       "    </tr>\n",
       "    <tr>\n",
       "      <th>2</th>\n",
       "      <td>2016-11-30 03:53:22+00:00</td>\n",
       "      <td>803809117081047040</td>\n",
       "      <td>Walgreens Boots Alliance Inc. (WBA) EVP Sells ...</td>\n",
       "      <td>CFinancialNews</td>\n",
       "      <td>wba</td>\n",
       "      <td>2016-11-30</td>\n",
       "      <td>11</td>\n",
       "    </tr>\n",
       "    <tr>\n",
       "      <th>3</th>\n",
       "      <td>2016-11-14 22:26:01+00:00</td>\n",
       "      <td>798290920848228352</td>\n",
       "      <td>Walgreens Boots Alliance Inc. (WBA) Given a $9...</td>\n",
       "      <td>bfsi_financial</td>\n",
       "      <td>wba</td>\n",
       "      <td>2016-11-14</td>\n",
       "      <td>11</td>\n",
       "    </tr>\n",
       "    <tr>\n",
       "      <th>4</th>\n",
       "      <td>2016-11-14 22:26:01+00:00</td>\n",
       "      <td>798290920793722880</td>\n",
       "      <td>Walgreens Boots Alliance Inc. (WBA) Given a $9...</td>\n",
       "      <td>bfsi_ibb</td>\n",
       "      <td>wba</td>\n",
       "      <td>2016-11-14</td>\n",
       "      <td>11</td>\n",
       "    </tr>\n",
       "    <tr>\n",
       "      <th>...</th>\n",
       "      <td>...</td>\n",
       "      <td>...</td>\n",
       "      <td>...</td>\n",
       "      <td>...</td>\n",
       "      <td>...</td>\n",
       "      <td>...</td>\n",
       "      <td>...</td>\n",
       "    </tr>\n",
       "    <tr>\n",
       "      <th>251</th>\n",
       "      <td>2016-10-13 17:46:41+00:00</td>\n",
       "      <td>786624212119064576</td>\n",
       "      <td>Help identify a burglar\\n\\nOn 10-11-16, at app...</td>\n",
       "      <td>CalCoSheriffAL</td>\n",
       "      <td>cvx</td>\n",
       "      <td>2016-10-13</td>\n",
       "      <td>10</td>\n",
       "    </tr>\n",
       "    <tr>\n",
       "      <th>252</th>\n",
       "      <td>2016-10-11 00:32:19+00:00</td>\n",
       "      <td>785639129279266817</td>\n",
       "      <td>Chevron Corp.'s equal weight rating reiterated...</td>\n",
       "      <td>MarketBeatCom</td>\n",
       "      <td>cvx</td>\n",
       "      <td>2016-10-11</td>\n",
       "      <td>10</td>\n",
       "    </tr>\n",
       "    <tr>\n",
       "      <th>253</th>\n",
       "      <td>2016-10-08 11:07:10+00:00</td>\n",
       "      <td>784711732035891200</td>\n",
       "      <td>#VintageJewelry Silver Bracelet Chevron Silver...</td>\n",
       "      <td>VJSE2</td>\n",
       "      <td>cvx</td>\n",
       "      <td>2016-10-08</td>\n",
       "      <td>10</td>\n",
       "    </tr>\n",
       "    <tr>\n",
       "      <th>254</th>\n",
       "      <td>2016-10-04 05:52:52+00:00</td>\n",
       "      <td>783183082127962112</td>\n",
       "      <td>Ohne Titel Chevron Sweater Dress - $100.00  \\n...</td>\n",
       "      <td>Blacktradelines</td>\n",
       "      <td>cvx</td>\n",
       "      <td>2016-10-04</td>\n",
       "      <td>10</td>\n",
       "    </tr>\n",
       "    <tr>\n",
       "      <th>255</th>\n",
       "      <td>2016-10-01 19:12:32+00:00</td>\n",
       "      <td>782297161216262144</td>\n",
       "      <td>9-h15 Stcl #Postmark #Anthropologie Chevron St...</td>\n",
       "      <td>BudAngisPlace</td>\n",
       "      <td>cvx</td>\n",
       "      <td>2016-10-01</td>\n",
       "      <td>10</td>\n",
       "    </tr>\n",
       "  </tbody>\n",
       "</table>\n",
       "<p>256 rows × 7 columns</p>\n",
       "</div>"
      ],
      "text/plain": [
       "                     datetime            tweet_id  \\\n",
       "0   2016-12-03 02:45:16+00:00  804879143645102080   \n",
       "1   2016-12-03 02:43:14+00:00  804878633785556992   \n",
       "2   2016-11-30 03:53:22+00:00  803809117081047040   \n",
       "3   2016-11-14 22:26:01+00:00  798290920848228352   \n",
       "4   2016-11-14 22:26:01+00:00  798290920793722880   \n",
       "..                        ...                 ...   \n",
       "251 2016-10-13 17:46:41+00:00  786624212119064576   \n",
       "252 2016-10-11 00:32:19+00:00  785639129279266817   \n",
       "253 2016-10-08 11:07:10+00:00  784711732035891200   \n",
       "254 2016-10-04 05:52:52+00:00  783183082127962112   \n",
       "255 2016-10-01 19:12:32+00:00  782297161216262144   \n",
       "\n",
       "                                                  text         username  \\\n",
       "0    Insider Selling: Walgreens Boots Alliance Inc....     TickerReport   \n",
       "1    Insider Selling: Walgreens Boots Alliance Inc....     TickerReport   \n",
       "2    Walgreens Boots Alliance Inc. (WBA) EVP Sells ...   CFinancialNews   \n",
       "3    Walgreens Boots Alliance Inc. (WBA) Given a $9...   bfsi_financial   \n",
       "4    Walgreens Boots Alliance Inc. (WBA) Given a $9...         bfsi_ibb   \n",
       "..                                                 ...              ...   \n",
       "251  Help identify a burglar\\n\\nOn 10-11-16, at app...   CalCoSheriffAL   \n",
       "252  Chevron Corp.'s equal weight rating reiterated...    MarketBeatCom   \n",
       "253  #VintageJewelry Silver Bracelet Chevron Silver...            VJSE2   \n",
       "254  Ohne Titel Chevron Sweater Dress - $100.00  \\n...  Blacktradelines   \n",
       "255  9-h15 Stcl #Postmark #Anthropologie Chevron St...    BudAngisPlace   \n",
       "\n",
       "    ticker_symbol        date  month  \n",
       "0             wba  2016-12-03     12  \n",
       "1             wba  2016-12-03     12  \n",
       "2             wba  2016-11-30     11  \n",
       "3             wba  2016-11-14     11  \n",
       "4             wba  2016-11-14     11  \n",
       "..            ...         ...    ...  \n",
       "251           cvx  2016-10-13     10  \n",
       "252           cvx  2016-10-11     10  \n",
       "253           cvx  2016-10-08     10  \n",
       "254           cvx  2016-10-04     10  \n",
       "255           cvx  2016-10-01     10  \n",
       "\n",
       "[256 rows x 7 columns]"
      ]
     },
     "execution_count": 9,
     "metadata": {},
     "output_type": "execute_result"
    }
   ],
   "source": [
    "tweets"
   ]
  },
  {
   "cell_type": "code",
   "execution_count": null,
   "id": "c402c937",
   "metadata": {},
   "outputs": [],
   "source": []
  },
  {
   "cell_type": "code",
   "execution_count": null,
   "id": "6b4ddeee",
   "metadata": {},
   "outputs": [],
   "source": []
  },
  {
   "cell_type": "code",
   "execution_count": 49,
   "id": "29ff1ee3",
   "metadata": {
    "ExecuteTime": {
     "end_time": "2021-10-21T23:42:32.326691Z",
     "start_time": "2021-10-21T23:42:32.297142Z"
    }
   },
   "outputs": [],
   "source": [
    "tweets_df = pd.read_csv('quarter_1.csv')"
   ]
  },
  {
   "cell_type": "code",
   "execution_count": 50,
   "id": "c6735d2d",
   "metadata": {
    "ExecuteTime": {
     "end_time": "2021-10-21T23:42:37.320267Z",
     "start_time": "2021-10-21T23:42:37.290458Z"
    }
   },
   "outputs": [],
   "source": [
    "tweets_df.datetime = pd.to_datetime(tweets_df.datetime)"
   ]
  },
  {
   "cell_type": "code",
   "execution_count": 51,
   "id": "2da96130",
   "metadata": {
    "ExecuteTime": {
     "end_time": "2021-10-21T23:42:44.126163Z",
     "start_time": "2021-10-21T23:42:44.087516Z"
    }
   },
   "outputs": [
    {
     "data": {
      "text/html": [
       "<div>\n",
       "<style scoped>\n",
       "    .dataframe tbody tr th:only-of-type {\n",
       "        vertical-align: middle;\n",
       "    }\n",
       "\n",
       "    .dataframe tbody tr th {\n",
       "        vertical-align: top;\n",
       "    }\n",
       "\n",
       "    .dataframe thead th {\n",
       "        text-align: right;\n",
       "    }\n",
       "</style>\n",
       "<table border=\"1\" class=\"dataframe\">\n",
       "  <thead>\n",
       "    <tr style=\"text-align: right;\">\n",
       "      <th></th>\n",
       "      <th>datetime</th>\n",
       "      <th>tweet_id</th>\n",
       "      <th>text</th>\n",
       "      <th>username</th>\n",
       "      <th>ticker_symbol</th>\n",
       "      <th>date</th>\n",
       "      <th>month</th>\n",
       "    </tr>\n",
       "  </thead>\n",
       "  <tbody>\n",
       "    <tr>\n",
       "      <th>0</th>\n",
       "      <td>2016-12-03 02:45:16+00:00</td>\n",
       "      <td>804879143645102080</td>\n",
       "      <td>Insider Selling: Walgreens Boots Alliance Inc....</td>\n",
       "      <td>TickerReport</td>\n",
       "      <td>wba</td>\n",
       "      <td>2016-12-03</td>\n",
       "      <td>12</td>\n",
       "    </tr>\n",
       "    <tr>\n",
       "      <th>1</th>\n",
       "      <td>2016-12-03 02:43:14+00:00</td>\n",
       "      <td>804878633785556992</td>\n",
       "      <td>Insider Selling: Walgreens Boots Alliance Inc....</td>\n",
       "      <td>TickerReport</td>\n",
       "      <td>wba</td>\n",
       "      <td>2016-12-03</td>\n",
       "      <td>12</td>\n",
       "    </tr>\n",
       "    <tr>\n",
       "      <th>2</th>\n",
       "      <td>2016-11-30 03:53:22+00:00</td>\n",
       "      <td>803809117081047040</td>\n",
       "      <td>Walgreens Boots Alliance Inc. (WBA) EVP Sells ...</td>\n",
       "      <td>CFinancialNews</td>\n",
       "      <td>wba</td>\n",
       "      <td>2016-11-30</td>\n",
       "      <td>11</td>\n",
       "    </tr>\n",
       "    <tr>\n",
       "      <th>3</th>\n",
       "      <td>2016-11-14 22:26:01+00:00</td>\n",
       "      <td>798290920848228352</td>\n",
       "      <td>Walgreens Boots Alliance Inc. (WBA) Given a $9...</td>\n",
       "      <td>bfsi_financial</td>\n",
       "      <td>wba</td>\n",
       "      <td>2016-11-14</td>\n",
       "      <td>11</td>\n",
       "    </tr>\n",
       "    <tr>\n",
       "      <th>4</th>\n",
       "      <td>2016-11-14 22:26:01+00:00</td>\n",
       "      <td>798290920793722880</td>\n",
       "      <td>Walgreens Boots Alliance Inc. (WBA) Given a $9...</td>\n",
       "      <td>bfsi_ibb</td>\n",
       "      <td>wba</td>\n",
       "      <td>2016-11-14</td>\n",
       "      <td>11</td>\n",
       "    </tr>\n",
       "    <tr>\n",
       "      <th>...</th>\n",
       "      <td>...</td>\n",
       "      <td>...</td>\n",
       "      <td>...</td>\n",
       "      <td>...</td>\n",
       "      <td>...</td>\n",
       "      <td>...</td>\n",
       "      <td>...</td>\n",
       "    </tr>\n",
       "    <tr>\n",
       "      <th>251</th>\n",
       "      <td>2016-10-13 17:46:41+00:00</td>\n",
       "      <td>786624212119064576</td>\n",
       "      <td>Help identify a burglar\\n\\nOn 10-11-16, at app...</td>\n",
       "      <td>CalCoSheriffAL</td>\n",
       "      <td>cvx</td>\n",
       "      <td>2016-10-13</td>\n",
       "      <td>10</td>\n",
       "    </tr>\n",
       "    <tr>\n",
       "      <th>252</th>\n",
       "      <td>2016-10-11 00:32:19+00:00</td>\n",
       "      <td>785639129279266817</td>\n",
       "      <td>Chevron Corp.'s equal weight rating reiterated...</td>\n",
       "      <td>MarketBeatCom</td>\n",
       "      <td>cvx</td>\n",
       "      <td>2016-10-11</td>\n",
       "      <td>10</td>\n",
       "    </tr>\n",
       "    <tr>\n",
       "      <th>253</th>\n",
       "      <td>2016-10-08 11:07:10+00:00</td>\n",
       "      <td>784711732035891200</td>\n",
       "      <td>#VintageJewelry Silver Bracelet Chevron Silver...</td>\n",
       "      <td>VJSE2</td>\n",
       "      <td>cvx</td>\n",
       "      <td>2016-10-08</td>\n",
       "      <td>10</td>\n",
       "    </tr>\n",
       "    <tr>\n",
       "      <th>254</th>\n",
       "      <td>2016-10-04 05:52:52+00:00</td>\n",
       "      <td>783183082127962112</td>\n",
       "      <td>Ohne Titel Chevron Sweater Dress - $100.00  \\n...</td>\n",
       "      <td>Blacktradelines</td>\n",
       "      <td>cvx</td>\n",
       "      <td>2016-10-04</td>\n",
       "      <td>10</td>\n",
       "    </tr>\n",
       "    <tr>\n",
       "      <th>255</th>\n",
       "      <td>2016-10-01 19:12:32+00:00</td>\n",
       "      <td>782297161216262144</td>\n",
       "      <td>9-h15 Stcl #Postmark #Anthropologie Chevron St...</td>\n",
       "      <td>BudAngisPlace</td>\n",
       "      <td>cvx</td>\n",
       "      <td>2016-10-01</td>\n",
       "      <td>10</td>\n",
       "    </tr>\n",
       "  </tbody>\n",
       "</table>\n",
       "<p>256 rows × 7 columns</p>\n",
       "</div>"
      ],
      "text/plain": [
       "                     datetime            tweet_id  \\\n",
       "0   2016-12-03 02:45:16+00:00  804879143645102080   \n",
       "1   2016-12-03 02:43:14+00:00  804878633785556992   \n",
       "2   2016-11-30 03:53:22+00:00  803809117081047040   \n",
       "3   2016-11-14 22:26:01+00:00  798290920848228352   \n",
       "4   2016-11-14 22:26:01+00:00  798290920793722880   \n",
       "..                        ...                 ...   \n",
       "251 2016-10-13 17:46:41+00:00  786624212119064576   \n",
       "252 2016-10-11 00:32:19+00:00  785639129279266817   \n",
       "253 2016-10-08 11:07:10+00:00  784711732035891200   \n",
       "254 2016-10-04 05:52:52+00:00  783183082127962112   \n",
       "255 2016-10-01 19:12:32+00:00  782297161216262144   \n",
       "\n",
       "                                                  text         username  \\\n",
       "0    Insider Selling: Walgreens Boots Alliance Inc....     TickerReport   \n",
       "1    Insider Selling: Walgreens Boots Alliance Inc....     TickerReport   \n",
       "2    Walgreens Boots Alliance Inc. (WBA) EVP Sells ...   CFinancialNews   \n",
       "3    Walgreens Boots Alliance Inc. (WBA) Given a $9...   bfsi_financial   \n",
       "4    Walgreens Boots Alliance Inc. (WBA) Given a $9...         bfsi_ibb   \n",
       "..                                                 ...              ...   \n",
       "251  Help identify a burglar\\n\\nOn 10-11-16, at app...   CalCoSheriffAL   \n",
       "252  Chevron Corp.'s equal weight rating reiterated...    MarketBeatCom   \n",
       "253  #VintageJewelry Silver Bracelet Chevron Silver...            VJSE2   \n",
       "254  Ohne Titel Chevron Sweater Dress - $100.00  \\n...  Blacktradelines   \n",
       "255  9-h15 Stcl #Postmark #Anthropologie Chevron St...    BudAngisPlace   \n",
       "\n",
       "    ticker_symbol        date  month  \n",
       "0             wba  2016-12-03     12  \n",
       "1             wba  2016-12-03     12  \n",
       "2             wba  2016-11-30     11  \n",
       "3             wba  2016-11-14     11  \n",
       "4             wba  2016-11-14     11  \n",
       "..            ...         ...    ...  \n",
       "251           cvx  2016-10-13     10  \n",
       "252           cvx  2016-10-11     10  \n",
       "253           cvx  2016-10-08     10  \n",
       "254           cvx  2016-10-04     10  \n",
       "255           cvx  2016-10-01     10  \n",
       "\n",
       "[256 rows x 7 columns]"
      ]
     },
     "execution_count": 51,
     "metadata": {},
     "output_type": "execute_result"
    }
   ],
   "source": [
    "tweets_df.assign(\n",
    "    date = tweets_df.datetime.dt.date,\n",
    "    month = tweets_df.datetime.dt.month\n",
    ")"
   ]
  },
  {
   "cell_type": "code",
   "execution_count": null,
   "id": "dcbb4b4c",
   "metadata": {},
   "outputs": [],
   "source": []
  },
  {
   "cell_type": "code",
   "execution_count": null,
   "id": "35827ff6",
   "metadata": {},
   "outputs": [],
   "source": []
  }
 ],
 "metadata": {
  "kernelspec": {
   "display_name": "Python 3 (ipykernel)",
   "language": "python",
   "name": "python3"
  },
  "language_info": {
   "codemirror_mode": {
    "name": "ipython",
    "version": 3
   },
   "file_extension": ".py",
   "mimetype": "text/x-python",
   "name": "python",
   "nbconvert_exporter": "python",
   "pygments_lexer": "ipython3",
   "version": "3.8.5"
  }
 },
 "nbformat": 4,
 "nbformat_minor": 5
}
