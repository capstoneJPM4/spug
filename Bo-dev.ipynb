{
 "cells": [
  {
   "cell_type": "code",
   "execution_count": 1,
   "id": "53579143",
   "metadata": {
    "ExecuteTime": {
     "end_time": "2021-10-21T23:45:14.410676Z",
     "start_time": "2021-10-21T23:45:14.382885Z"
    }
   },
   "outputs": [],
   "source": [
    "%load_ext autoreload\n",
    "%autoreload 2"
   ]
  },
  {
   "cell_type": "code",
   "execution_count": 1,
   "id": "f58af5e6",
   "metadata": {
    "ExecuteTime": {
     "end_time": "2021-10-22T00:22:05.195250Z",
     "start_time": "2021-10-22T00:22:05.148764Z"
    }
   },
   "outputs": [],
   "source": [
    "import json\n",
    "import yaml"
   ]
  },
  {
   "cell_type": "code",
   "execution_count": 2,
   "id": "756d988f",
   "metadata": {
    "ExecuteTime": {
     "end_time": "2021-10-21T23:45:15.098850Z",
     "start_time": "2021-10-21T23:45:14.831783Z"
    }
   },
   "outputs": [],
   "source": [
    "import pandas as pd"
   ]
  },
  {
   "cell_type": "code",
   "execution_count": 3,
   "id": "530202b3",
   "metadata": {
    "ExecuteTime": {
     "end_time": "2021-10-22T01:33:42.292259Z",
     "start_time": "2021-10-22T01:33:42.224894Z"
    }
   },
   "outputs": [
    {
     "name": "stderr",
     "output_type": "stream",
     "text": [
      "[nltk_data] Downloading package stopwords to\n",
      "[nltk_data]     /Users/balalabala/nltk_data...\n",
      "[nltk_data]   Package stopwords is already up-to-date!\n",
      "[nltk_data] Downloading package punkt to\n",
      "[nltk_data]     /Users/balalabala/nltk_data...\n",
      "[nltk_data]   Package punkt is already up-to-date!\n"
     ]
    }
   ],
   "source": [
    "import datetime as dt\n",
    "\n",
    "from apulu.data_pipeline.sources import SecFetcher\n",
    "from apulu.data_pipeline.extraction import SecMatrixConstructor"
   ]
  },
  {
   "cell_type": "code",
   "execution_count": 4,
   "id": "bb2e3ad6",
   "metadata": {},
   "outputs": [],
   "source": [
    "from apulu.data_pipeline import DataPipeline\n",
    "data_pipeline = DataPipeline(\n",
    "    \"configs/test/etl.yaml\",\n",
    "    [\"sec\"]\n",
    ")"
   ]
  },
  {
   "cell_type": "code",
   "execution_count": 5,
   "id": "3b980c51",
   "metadata": {},
   "outputs": [
    {
     "name": "stdout",
     "output_type": "stream",
     "text": [
      "starting pipeline\n",
      "starting requesting data downloading\n",
      "working on downloading data for sec\n"
     ]
    },
    {
     "data": {
      "application/vnd.jupyter.widget-view+json": {
       "model_id": "6e5f2098e5bb4a7b8d06fd87cd66773b",
       "version_major": 2,
       "version_minor": 0
      },
      "text/plain": [
       "  0%|          | 0/1 [00:00<?, ?it/s]"
      ]
     },
     "metadata": {},
     "output_type": "display_data"
    },
    {
     "name": "stdout",
     "output_type": "stream",
     "text": [
      "0 companies 10-Ks failed to be downloaded to the directory specified at etl.yaml sec_config section\n"
     ]
    },
    {
     "data": {
      "application/vnd.jupyter.widget-view+json": {
       "model_id": "6672cfbbcb5d414791578e8a375c379a",
       "version_major": 2,
       "version_minor": 0
      },
      "text/plain": [
       "  0%|          | 0/1 [00:00<?, ?it/s]"
      ]
     },
     "metadata": {},
     "output_type": "display_data"
    },
    {
     "name": "stdout",
     "output_type": "stream",
     "text": [
      "=======================================\n",
      "working on constructing matrices for sec\n"
     ]
    },
    {
     "name": "stderr",
     "output_type": "stream",
     "text": [
      "100%|█████████████████████████████████████████████| 1/1 [00:03<00:00,  3.53s/it]"
     ]
    },
    {
     "name": "stdout",
     "output_type": "stream",
     "text": [
      "removing middle part directories...\n",
      "removing ./data/raw/sec/parsed\n",
      "removing ./data/raw/sec/sec-edgar-filings\n",
      "=======================================\n",
      "data pipeline executed successfully\n"
     ]
    },
    {
     "name": "stderr",
     "output_type": "stream",
     "text": [
      "\n"
     ]
    }
   ],
   "source": [
    "data_pipeline.run_pipeline(\n",
    "    redownload=True\n",
    ")"
   ]
  },
  {
   "cell_type": "code",
   "execution_count": 6,
   "id": "603c6d67",
   "metadata": {},
   "outputs": [],
   "source": [
    "import numpy as np\n"
   ]
  },
  {
   "cell_type": "code",
   "execution_count": 7,
   "id": "2db3582a",
   "metadata": {},
   "outputs": [
    {
     "data": {
      "text/plain": [
       "array([ 9.65166278e-03,  1.45418709e-02, -1.27652707e-02, -3.43964173e-04,\n",
       "        2.99072787e-02,  2.90278755e-02,  2.68280692e-02,  2.02614516e-02,\n",
       "       -2.79700831e-02,  1.94078162e-02, -7.14031747e-04,  1.69101860e-02,\n",
       "        1.68684945e-02,  6.32492527e-02, -1.09878751e-02, -5.16133336e-03,\n",
       "        4.29364368e-02, -2.92357360e-03, -8.88430804e-04, -2.57036346e-03,\n",
       "       -2.10769437e-02,  4.98781539e-03,  7.45755341e-03, -1.12477224e-02,\n",
       "       -7.46604474e-03,  8.66493955e-03,  3.30247805e-02, -1.99219678e-02,\n",
       "       -2.78028916e-03, -1.33027378e-02,  4.11721282e-02, -5.80146816e-03,\n",
       "       -1.65132934e-03, -5.54490499e-02,  1.51404242e-06, -1.75600909e-02,\n",
       "       -3.84289622e-02, -8.51785764e-04, -1.32712619e-02, -7.77644478e-03,\n",
       "       -9.38756298e-03,  1.20291328e-02,  7.82906543e-03,  1.78185850e-02,\n",
       "       -3.81322764e-02, -2.03107800e-02, -3.10564210e-04, -3.64137185e-03,\n",
       "       -1.01949396e-02,  1.51093798e-02,  1.80845603e-03,  1.71727538e-02,\n",
       "       -4.98952419e-02, -1.85617711e-02, -2.69061364e-02, -4.02384661e-02,\n",
       "       -7.09545799e-03,  3.08035705e-02, -1.44050466e-02,  1.49337035e-02,\n",
       "       -8.42017308e-03,  1.14594121e-02,  9.41132661e-03, -4.45723417e-04,\n",
       "        3.56055684e-02,  2.27267370e-02,  1.75242946e-02, -3.14816199e-02,\n",
       "        9.52841714e-03,  3.39345890e-03,  3.82989720e-02,  1.28393341e-03,\n",
       "        1.64433774e-02,  2.38746963e-02,  2.65351799e-03, -2.42511816e-02,\n",
       "       -1.04454476e-02,  1.40343942e-02, -1.61351846e-03,  7.90418498e-03,\n",
       "        3.86132561e-02,  3.31699029e-02, -2.33012484e-03,  2.11167503e-02,\n",
       "        2.00078147e-03,  9.95164458e-03, -1.16757965e-02, -1.67921409e-02,\n",
       "        7.67032802e-03,  1.87818911e-02, -1.44554414e-02, -2.49164067e-02,\n",
       "        1.52036482e-02, -1.60472766e-02, -2.49543716e-03,  9.43298265e-03,\n",
       "        1.51250418e-03,  1.04322899e-02,  3.40924934e-02, -6.58414140e-02,\n",
       "       -4.65051979e-02,  1.88422743e-02, -1.56632962e-03,  3.06232572e-02,\n",
       "       -3.47027220e-02,  1.86219122e-02, -2.37618908e-02, -6.64571160e-03,\n",
       "       -1.07521778e-02,  2.39811912e-02,  4.21611825e-03, -3.76855792e-03,\n",
       "       -2.41942145e-02,  5.52199557e-02, -9.79495328e-03,  1.93405915e-02,\n",
       "       -3.10824607e-02,  7.40315858e-03, -3.82341538e-03,  2.65500620e-02,\n",
       "        4.26871106e-02,  5.37297316e-03, -2.20188722e-02,  5.02309849e-05,\n",
       "        7.43361656e-03,  4.03699130e-02, -3.78593616e-02,  1.97592545e-02,\n",
       "        1.96155440e-02,  2.31562778e-02,  1.37862982e-03, -2.80085169e-02,\n",
       "        2.38367971e-02, -1.10861026e-02,  1.04355849e-02,  2.36353185e-02,\n",
       "        3.77532691e-02,  1.01830019e-02,  4.65451833e-03, -1.31171085e-02,\n",
       "        1.63672911e-03,  1.42981310e-03, -1.96771752e-02,  2.62211915e-02,\n",
       "       -3.46896276e-02,  6.50339643e-04, -2.90885405e-03,  1.35401255e-02,\n",
       "       -2.70560221e-03, -7.94455037e-03, -3.36682126e-02, -3.26341018e-03,\n",
       "        1.69922493e-03, -1.95594337e-02, -7.23348744e-03,  2.23007072e-02,\n",
       "        3.64794172e-02, -3.06292605e-02, -1.94493737e-02, -9.60417558e-03,\n",
       "       -6.30492670e-03, -1.16172340e-02, -2.64650900e-02, -7.03883264e-03,\n",
       "       -1.58346575e-02,  1.96523336e-03,  3.24612260e-02, -8.86417832e-03,\n",
       "       -3.57372966e-03, -3.44202332e-02,  1.52876275e-03, -1.72443409e-02,\n",
       "       -7.56127294e-03,  4.32169624e-03,  3.18622179e-02, -4.09698039e-02,\n",
       "        9.29315481e-03, -8.02070741e-03, -2.77542397e-02, -1.32494485e-02,\n",
       "       -1.50609892e-02, -2.17683576e-02, -3.49565479e-03,  6.59452798e-03,\n",
       "       -2.92917714e-02,  1.39552271e-02,  5.24765858e-03,  2.97210366e-03,\n",
       "       -2.63118632e-02, -1.58401467e-02, -5.52604208e-04,  1.37295322e-02,\n",
       "       -3.14558148e-02,  2.36623008e-02, -8.95181019e-03,  3.25368457e-02,\n",
       "       -1.54274516e-02,  1.38172582e-02,  1.66083109e-02, -6.48351666e-03,\n",
       "        1.02965944e-02, -1.02534564e-02,  3.37101743e-02,  1.43627562e-02,\n",
       "       -1.20756114e-04,  1.51171107e-02, -2.17787270e-02,  4.97672055e-03,\n",
       "       -3.37511972e-02,  1.17842490e-02,  3.27876508e-02,  2.24812552e-02,\n",
       "        4.52194689e-03,  2.30237022e-02,  4.17614169e-03,  2.08181348e-02,\n",
       "        2.03762632e-02,  1.72032919e-02, -5.14730737e-02,  5.10987313e-03,\n",
       "       -3.18662599e-02,  3.11620198e-02,  2.06698515e-02, -1.21337185e-02,\n",
       "        5.32683730e-02,  4.50711930e-03,  3.81415506e-04,  3.15190875e-03,\n",
       "       -7.23150698e-03,  5.76299662e-03,  5.67772519e-03,  1.14715397e-02,\n",
       "       -1.28099993e-02, -8.37740581e-03, -2.26134900e-02,  2.62694154e-02,\n",
       "        5.10909827e-03,  6.25223070e-02,  9.02763475e-03,  2.72385087e-02,\n",
       "       -2.31913291e-02, -6.15231469e-02,  1.81891583e-02,  1.40495449e-02,\n",
       "        3.08098719e-02,  3.86016257e-02,  1.31292408e-02, -1.21096596e-02,\n",
       "        1.07964994e-02,  1.29674198e-02,  6.38428261e-04,  2.16295701e-02,\n",
       "        3.00899837e-02, -9.65801999e-03,  2.12026536e-02, -2.71527097e-03,\n",
       "       -1.32554993e-02, -1.96043379e-03, -2.76773050e-02,  2.66286694e-02,\n",
       "        2.61322805e-03, -2.51785908e-02, -3.13278735e-02,  8.61480087e-03,\n",
       "       -1.21417465e-02, -7.17351679e-03,  3.71791609e-02,  1.62501037e-02,\n",
       "       -2.43410114e-02, -1.28710747e-03,  1.71467979e-02,  2.21264623e-02,\n",
       "        1.86143741e-02, -1.80671588e-02, -6.23031287e-03, -3.13676568e-03,\n",
       "       -1.93388537e-02,  3.21668945e-02,  1.10388063e-02,  1.63969267e-02,\n",
       "        7.00939354e-03, -1.36124361e-02, -2.48172563e-02, -1.45495581e-02,\n",
       "       -8.19812343e-03,  1.44241685e-02,  1.13604777e-02, -1.12116523e-02,\n",
       "       -6.64015254e-03, -5.63547132e-04,  1.08962189e-02,  8.07675347e-03,\n",
       "        1.00953020e-02, -2.39734370e-02, -1.12199867e-02, -4.36177524e-03,\n",
       "       -8.83869920e-03,  2.10505053e-02, -1.17265200e-02,  3.45959440e-02,\n",
       "       -3.22577357e-02, -2.31879912e-02, -6.66831899e-03, -1.58629771e-02,\n",
       "       -2.96399812e-04,  1.71766505e-02,  2.70145535e-02, -1.77261652e-03,\n",
       "        9.90343746e-03,  1.19025875e-02,  5.93004515e-03,  9.56637599e-03,\n",
       "       -2.12183222e-03,  1.76898986e-02, -1.42778801e-02, -2.58966312e-02,\n",
       "       -2.17348966e-03, -3.47109069e-03, -2.89543276e-03,  5.93589544e-02,\n",
       "        2.59961132e-02, -4.79773898e-03, -1.20652998e-02, -8.11487902e-03,\n",
       "       -2.25580521e-02,  1.46679080e-03, -2.44592857e-02, -6.69490360e-03,\n",
       "       -4.41210866e-02, -5.95875829e-02,  1.57104223e-03, -9.08822659e-03,\n",
       "       -3.59875672e-02, -6.65919483e-03, -1.72343652e-03,  1.88355427e-02,\n",
       "       -2.52501643e-03, -1.29865455e-02,  1.22617101e-02, -5.40127931e-03,\n",
       "       -1.14347851e-02, -1.69055704e-02,  1.45320427e-02, -3.70321237e-02,\n",
       "        4.88133766e-02,  1.26475282e-02,  8.20630044e-03, -5.33049786e-03,\n",
       "       -5.95708704e-03,  6.51084306e-03, -3.01930383e-02, -1.38434758e-02,\n",
       "       -1.37944967e-02,  3.42972390e-03, -1.23164430e-02,  1.16525311e-02,\n",
       "       -5.25778346e-03, -4.68502976e-02, -1.18448092e-02, -2.49918457e-02,\n",
       "        2.81351246e-02, -2.62162052e-02, -4.49661575e-02, -4.99045802e-03,\n",
       "       -1.16802882e-02,  5.04247621e-02, -9.97096580e-03,  2.46552750e-02,\n",
       "       -1.60717331e-02, -3.68610024e-03, -4.47444618e-02, -5.74965449e-03,\n",
       "       -1.37019567e-02,  5.83180226e-03, -2.66267750e-02,  3.54871247e-03,\n",
       "       -1.18077481e-02,  2.14777272e-02, -2.50926316e-02, -1.30837597e-02,\n",
       "        2.13344861e-02, -2.40777750e-02,  6.78407624e-02, -1.04183340e-02,\n",
       "       -2.02251673e-02,  1.18819354e-02, -2.04161685e-02, -5.47277369e-02,\n",
       "       -1.65710784e-02,  3.03377975e-02, -2.88209841e-02,  6.00788230e-03,\n",
       "       -3.16573605e-02, -7.27182114e-03, -4.58539790e-03, -1.26931863e-02,\n",
       "       -4.71611420e-05,  4.66612447e-03, -2.71324045e-03,  1.18744327e-02,\n",
       "        1.02154631e-02, -5.42843267e-02,  2.27904487e-02, -4.73545678e-03,\n",
       "        1.02597047e-02, -8.89874399e-02,  8.60993192e-03,  3.12870857e-03,\n",
       "       -1.65414624e-02,  2.42316932e-03, -1.01830186e-02, -2.62415167e-02,\n",
       "       -7.66920112e-03, -2.21260097e-02, -1.07709849e-02, -5.31095825e-03,\n",
       "       -2.80091334e-02,  2.19792519e-02,  1.10661192e-02,  7.04832142e-03,\n",
       "        3.06325778e-02, -1.93804204e-02, -1.03133917e-02, -3.49239446e-02,\n",
       "       -1.08031305e-02,  1.50730293e-02,  4.12807353e-02, -1.91326067e-02,\n",
       "        8.95710103e-03,  9.39378142e-03, -1.94277000e-02, -1.01665789e-02,\n",
       "       -1.44857103e-02, -1.08822193e-02, -2.70434283e-02,  2.83839703e-02,\n",
       "       -7.88366795e-03, -1.09598804e-02,  1.72673296e-02, -1.50414072e-02,\n",
       "       -1.04666296e-02,  1.71383973e-02,  1.68659575e-02,  5.55378292e-03,\n",
       "       -6.49876520e-03,  1.10504357e-02,  8.42516962e-03,  1.34522067e-02,\n",
       "       -2.46632714e-02, -1.56538654e-02, -3.25689442e-03, -4.67513502e-03,\n",
       "        2.04705205e-02, -1.28675522e-02,  1.29950615e-02, -1.70939807e-02,\n",
       "       -3.91319543e-02, -3.66190448e-02, -3.96541459e-03,  9.05876339e-04,\n",
       "        2.59072781e-02,  2.76628826e-02, -3.60544287e-02, -8.11229274e-03,\n",
       "        4.44100872e-02, -1.72955953e-02,  3.07638268e-03, -1.16193090e-02,\n",
       "       -2.71403734e-02, -6.18576352e-03, -3.00916517e-03,  6.39362074e-03,\n",
       "       -3.93112982e-03,  1.32615380e-02,  7.70453038e-03, -5.02931513e-03,\n",
       "        3.42931179e-03, -2.29546987e-02, -2.05374882e-02,  2.57808436e-02,\n",
       "        6.86099054e-03,  1.07528232e-02, -1.06896530e-03, -3.90529307e-03,\n",
       "       -2.38033757e-02,  5.38318371e-03,  8.03647563e-03,  1.33639490e-02,\n",
       "       -4.92336636e-04,  1.06873624e-02,  9.64366272e-03,  1.32801598e-02,\n",
       "       -1.62362512e-02,  2.81097163e-02,  3.03550018e-03,  1.79747120e-04,\n",
       "        3.40544954e-02,  4.59382012e-02, -1.60211846e-02,  2.07403079e-02,\n",
       "        2.13015284e-02,  1.20622348e-02, -6.64580101e-03, -2.37129219e-02,\n",
       "        1.64787183e-04,  8.60831514e-03,  1.31825842e-02,  1.49692213e-02,\n",
       "       -1.97593272e-02,  8.11086968e-03,  4.82273614e-03,  1.09397527e-02,\n",
       "        1.12860408e-02, -2.13769972e-02,  3.49200424e-03,  1.34427892e-02,\n",
       "       -2.09964793e-02, -1.44034754e-02, -1.53788943e-02, -3.63063589e-02,\n",
       "        1.84669588e-02,  3.77498567e-03,  2.08912268e-02,  5.36591746e-03,\n",
       "       -1.00617371e-02,  9.13991593e-03, -9.28706117e-03, -1.51729155e-02,\n",
       "       -1.41372420e-02,  3.72043177e-02,  2.05784459e-02, -3.28357108e-02,\n",
       "       -4.70813029e-02,  3.36915813e-02, -6.84061041e-03,  6.82480261e-03,\n",
       "        3.93333696e-02, -1.06186233e-02,  2.18639374e-02,  8.43484048e-03,\n",
       "       -1.57966018e-02, -1.89480316e-02,  2.12411284e-02, -2.51334962e-02,\n",
       "        4.81937639e-03,  7.31724827e-03, -2.20549870e-02, -7.69009674e-03,\n",
       "       -4.65338118e-03,  5.08221798e-03,  2.58491505e-02, -1.86060574e-02,\n",
       "       -5.24319671e-02,  1.52994655e-02, -1.49280019e-02, -5.50936496e-33,\n",
       "       -2.37833802e-02, -2.45416071e-02,  4.72523086e-03,  4.26603705e-02,\n",
       "        1.92121044e-02,  4.69703637e-02, -1.26855075e-02, -6.05042931e-03,\n",
       "       -3.73749025e-02, -2.96342373e-02, -1.78676117e-02,  1.21622812e-02,\n",
       "        2.04868354e-02,  1.23220347e-02,  2.89993081e-02, -2.83592520e-03,\n",
       "       -5.74499276e-03, -1.41561329e-02,  6.49411976e-03, -1.93753634e-02,\n",
       "       -1.13376528e-02,  1.76410675e-02,  7.79619366e-02,  1.10663529e-02,\n",
       "        1.35556124e-02,  1.24783218e-02, -3.15794200e-02,  4.19611670e-03,\n",
       "        2.44385824e-02,  8.76320235e-04,  7.44911050e-03, -3.72347422e-02,\n",
       "        9.47143976e-03, -7.11709186e-02, -2.42883572e-03,  8.87460634e-03,\n",
       "       -1.27549367e-02, -2.40086447e-02, -8.77065863e-03,  1.61329343e-03,\n",
       "        1.07969232e-02, -2.88747475e-02,  5.32720750e-03,  2.21615303e-02,\n",
       "        2.42315326e-03, -1.75147746e-02, -1.91226378e-02, -1.23618580e-02,\n",
       "       -1.25403330e-03, -1.63056143e-02, -2.12780852e-02,  8.75978172e-03,\n",
       "        1.56957321e-02,  1.15045890e-01, -9.79386736e-03,  5.02483062e-02,\n",
       "       -1.65219288e-02,  2.72206310e-03,  1.22665828e-02, -6.13913173e-03,\n",
       "        4.34391713e-03,  5.24132177e-02, -1.16742253e-02, -2.59746574e-02,\n",
       "       -1.65601750e-03, -4.21043159e-03, -8.05970207e-02,  2.99145970e-02,\n",
       "        9.52318311e-03, -1.57339673e-03, -7.80765782e-04,  3.11219767e-02,\n",
       "       -2.14593653e-02,  2.44615600e-02,  8.65745917e-03, -2.07302477e-02,\n",
       "       -2.46642623e-03,  2.83405557e-02,  1.86250787e-02,  4.67441902e-02,\n",
       "        1.84467901e-02, -5.35962824e-03,  1.98440272e-02, -2.19677086e-03,\n",
       "       -1.15846992e-02,  5.75461425e-03, -2.08915062e-02, -3.70696606e-03,\n",
       "        2.16847323e-02, -3.50010651e-03,  3.73726822e-02,  6.07478768e-02,\n",
       "        6.62215147e-03,  2.88461684e-03, -1.72432475e-02,  1.45147592e-02,\n",
       "        2.83425711e-02, -2.11556884e-03, -1.27098151e-02, -2.78688744e-02,\n",
       "        2.09255815e-02,  1.10667304e-03, -1.76221840e-02, -1.88836362e-02,\n",
       "        7.65573792e-03,  8.07686523e-03,  2.06421595e-03, -3.39728296e-02,\n",
       "       -1.23369358e-02, -8.61840975e-03,  1.30097913e-02,  8.75587203e-03,\n",
       "        2.43131947e-02,  6.11508684e-03, -1.45457722e-02, -1.64743140e-02,\n",
       "        6.71721809e-03, -4.31386987e-03, -2.29028682e-03,  4.13461775e-02,\n",
       "        1.62821710e-02,  8.80670920e-03,  1.46800196e-02,  3.28755341e-02,\n",
       "        5.57148270e-03, -3.07057169e-03,  1.87183451e-02,  2.41425112e-02,\n",
       "        3.97748314e-03, -1.87146403e-02,  4.03928105e-03,  2.64401119e-02,\n",
       "        2.20367738e-07, -3.98427993e-03,  2.71680616e-02, -1.13742631e-02,\n",
       "        1.63697992e-02, -8.17835983e-03, -3.94728594e-03, -1.82734244e-02,\n",
       "        1.14733130e-02,  7.74860149e-03,  1.88314170e-02,  5.46909571e-02,\n",
       "       -2.33663395e-02,  2.04914957e-02,  4.63518128e-03, -3.16197351e-02,\n",
       "       -4.55272198e-02, -8.34030565e-03, -4.77698855e-02, -3.61533016e-02,\n",
       "       -1.97095033e-02, -3.52509413e-03,  1.51659959e-04, -1.75928753e-02,\n",
       "       -2.26515029e-02, -2.73202546e-03, -2.03961153e-02,  1.11402180e-02,\n",
       "       -4.32438143e-02, -1.27168065e-02, -2.92413235e-02,  1.63606293e-02,\n",
       "        1.89263560e-02,  1.93768404e-02,  1.03455726e-02, -1.76429022e-02,\n",
       "       -1.97938439e-02,  2.59480961e-02, -5.27868001e-03,  3.46948244e-02,\n",
       "       -1.92590728e-02,  1.04428582e-04, -3.40031609e-02, -2.81539895e-02,\n",
       "       -3.33297602e-03, -6.50574965e-03,  1.64047945e-02, -4.72817151e-03,\n",
       "       -2.97428835e-02, -2.75147036e-02,  3.68678160e-02,  1.73351429e-02,\n",
       "        1.66909695e-02, -1.38415629e-02,  9.93293058e-03,  5.91634586e-03,\n",
       "        8.86634458e-03,  1.38414213e-02,  2.40351371e-02,  1.41218323e-02,\n",
       "        4.33524102e-02, -1.67705640e-02,  1.59876943e-02, -2.28541973e-03,\n",
       "        6.98436722e-02,  2.63647940e-02,  9.53274034e-03, -7.74084777e-03,\n",
       "        1.85125116e-34,  1.05958676e-03, -5.77099770e-02,  2.76078377e-02,\n",
       "        7.41777802e-03,  1.61972195e-02,  2.34453660e-03, -3.42014283e-02,\n",
       "        6.45803986e-03, -8.95882957e-03, -5.38995713e-02, -5.07052569e-03],\n",
       "      dtype=float32)"
      ]
     },
     "execution_count": 7,
     "metadata": {},
     "output_type": "execute_result"
    }
   ],
   "source": [
    "np.load(\"./data/raw/sec/MMM.npy\")"
   ]
  },
  {
   "cell_type": "code",
   "execution_count": 4,
   "id": "eb806eda",
   "metadata": {
    "ExecuteTime": {
     "end_time": "2021-10-22T00:43:04.271435Z",
     "start_time": "2021-10-22T00:43:04.226586Z"
    }
   },
   "outputs": [],
   "source": [
    "df = pd.read_csv('./data/dowjones.csv')\n",
    "df = df.assign(\n",
    "    symbol_ = '$' + df['Symbol']\n",
    ")[['symbol_','Symbol', 'Description', 'Alternative name']]\n",
    "df.index = df['Symbol'].str.lower()\n",
    "df.sort_index()\n",
    "params = {\"companies\": df.assign(\n",
    "    alias = df.apply(lambda x: ','.join(x.str.lower()).split(',') ,axis = 1),\n",
    ")[['alias']].apply(lambda x: {x.name: {'alias': x['alias']}}, axis = 1).tolist()}\n",
    "\n",
    "params['data_root'] = \"./data\"\n",
    "params['twitter_conifg'] = {\n",
    "    \"sleep_time\": 5\n",
    "}"
   ]
  },
  {
   "cell_type": "code",
   "execution_count": 11,
   "id": "588c5b71",
   "metadata": {},
   "outputs": [],
   "source": [
    "with open(\"configs/dow_jones/etl.yaml\", \"r\") as stream:\n",
    "    params = yaml.safe_load(stream)"
   ]
  },
  {
   "cell_type": "code",
   "execution_count": 12,
   "id": "6649316c",
   "metadata": {},
   "outputs": [
    {
     "data": {
      "text/plain": [
       "{'parser_config': {'tickers': ['MMM'],\n",
       "  'directory': './data/raw/sec',\n",
       "  'amount': 5,\n",
       "  'items': ['1A', '1B', '7A', '8'],\n",
       "  'external_fp': './data/external'},\n",
       " 'emb_config': {'input_dir': './data/raw/sec/parsed',\n",
       "  'output_dir': './data/raw/sec/emb',\n",
       "  'top_k': 20,\n",
       "  'model_name': 'all-mpnet-base-v2'}}"
      ]
     },
     "execution_count": 12,
     "metadata": {},
     "output_type": "execute_result"
    }
   ],
   "source": [
    "params['sec_config']"
   ]
  },
  {
   "cell_type": "code",
   "execution_count": 13,
   "id": "c1269124",
   "metadata": {
    "ExecuteTime": {
     "end_time": "2021-10-22T01:00:17.038787Z",
     "start_time": "2021-10-22T01:00:17.006868Z"
    }
   },
   "outputs": [
    {
     "data": {
      "application/vnd.jupyter.widget-view+json": {
       "model_id": "66cfda7cd36944d98a2aa6e8da6415ff",
       "version_major": 2,
       "version_minor": 0
      },
      "text/plain": [
       "  0%|          | 0/1 [00:00<?, ?it/s]"
      ]
     },
     "metadata": {},
     "output_type": "display_data"
    },
    {
     "name": "stdout",
     "output_type": "stream",
     "text": [
      "0 companies 10-Ks failed to be downloaded to the directory specified at etl.yaml sec_config section\n"
     ]
    }
   ],
   "source": [
    "a = SecFetcher(**params)"
   ]
  },
  {
   "cell_type": "code",
   "execution_count": 17,
   "id": "bdf82e58",
   "metadata": {},
   "outputs": [
    {
     "data": {
      "application/vnd.jupyter.widget-view+json": {
       "model_id": "59d5f482d0b849c9be5100c792ac6652",
       "version_major": 2,
       "version_minor": 0
      },
      "text/plain": [
       "  0%|          | 0/1 [00:00<?, ?it/s]"
      ]
     },
     "metadata": {},
     "output_type": "display_data"
    },
    {
     "data": {
      "text/plain": [
       "'>Item 7A. \\n\\nQuantitative\\n\\n and Qualitative Disclosures About Market Risk.\\n\\n\\n\\n\\n\\n\\n\\n\\n\\n\\n\\xa0\\n\\n\\n\\n\\n\\n\\n\\n\\n\\n\\nIn the context of Item 7A, 3M is exposed to market risk due to the risk of loss arising from adverse changes in foreign currency exchange rates, interest rates and commodity prices. Changes in those factors could cause fluctuations in earnings and cash flows. Senior management provides oversight for risk management and derivative activities, determines certain of the Company’s financial risk policies and objectives, and provides guidelines for derivative instrument utilization. Senior management also establishes certain associated procedures relative to control and valuation, risk analysis, counterparty credit approval, and ongoing monitoring and reporting.\\n\\n\\n\\n\\n\\n\\n\\n\\n\\n\\n\\xa0\\n\\n\\n\\n\\n\\n\\n\\n\\n\\n\\nThe Company is exposed to credit loss in the event of nonperformance by counterparties in interest rate swaps, currency swaps, commodity price swaps, and forward and option contracts. However, the Company’s risk is limited to the fair value of the instruments. The Company actively monitors its exposure to credit risk through the use of credit approvals and credit limits, and by selecting major international banks and financial institutions as counterparties. The Company does not anticipate nonperformance by any of these counterparties.\\n\\n\\n\\n\\n\\n\\n\\n\\n\\n\\n\\xa0\\n\\n\\n\\n\\n\\n\\n\\n\\n\\n\\nForeign Exchange Rates Risk:\\n\\n\\n\\n\\n\\n\\n\\n\\n\\n\\n\\xa0\\n\\n\\n\\n\\n\\n\\n\\n\\n\\n\\nForeign currency exchange rates and fluctuations in those rates may affect the Company’s net investment in foreign subsidiaries and may cause fluctuations in cash flows related to foreign denominated transactions. 3M is also exposed to the translation of foreign currency earnings to the U.S. dollar. The Company enters into foreign exchange forward and option contracts to hedge against the effect of exchange rate fluctuations on cash flows denominated in foreign \\n\\n\\n\\n\\n \\n\\n\\n\\n\\n\\n\\n\\n50\\n\\n\\n\\n\\n\\n\\n\\n\\xa0\\n\\n\\n\\n\\n\\n\\n\\nTable of Contents\\n\\n\\xa0\\n\\n\\t\\t\\n\\n\\n\\n\\ncurrencies. These transactions are designated as cash flow hedges. 3M may dedesignate these cash flow hedge relationships in advance of the occurrence of the forecasted transaction. Beginning in the second quarter of 2014, 3M began extending the maximum length of time over which it hedges its exposure to the variability in future cash flows of the forecasted transactions from a previous term of 12 months to a longer term of 24 months, with certain currencies being extended further to 36 months starting in the first quarter of 2015. In addition, 3M enters into foreign currency forward contracts that are not designated in hedging relationships to offset, in part, the impacts of certain intercompany activities (primarily associated with intercompany licensing arrangements and intercompany financing transactions). As circumstances warrant, the Company also uses foreign currency forward contracts and foreign currency denominated debt as hedging instruments to hedge portions of the Company’s net investments in foreign operations. The dollar equivalent gross notional amount of the Company’s foreign exchange forward and option contracts designated as cash flow hedges and those not designated as hedging instruments were $3.2 billion and $5.7 billion, respectively, at December\\xa031, 2016. As of December\\xa031, 2016, the Company had 150 million Euros and 248 billion South Korean Won in notional amount of foreign currency forward contracts designated as net investment hedges along with 4.4 billion Euros in principal amount of foreign currency denominated debt designated as non-derivative hedging instruments in certain net investment hedges as discussed in Note 12 in the “Net Investment Hedges” section.\\n\\n\\n\\n\\n\\n\\n\\n\\n\\n\\n\\xa0\\n\\n\\n\\n\\n\\n\\n\\n\\n\\n\\nInterest Rates Risk:\\n\\n\\n\\n\\n\\n\\n\\n\\n\\n\\n\\xa0\\n\\n\\n\\n\\n\\n\\n\\n\\n\\n\\nThe Company may be impacted by interest rate volatility with respect to existing debt and future debt issuances. 3M manages interest rate risk and expense using a mix of fixed and floating rate debt. In addition, the Company may enter into interest rate swaps that are designated and qualify as fair value hedges. Under these arrangements, the Company agrees to exchange, at specified intervals, the difference between fixed and floating interest amounts calculated by reference to an agreed-upon notional principal amount. The dollar equivalent (based on inception date foreign currency exchange rates) gross notional amount of the Company’s interest rate swaps at December\\xa031, 2016 was $2.0 billion. Additional details about 3M’s long-term debt can be found in Note 10, including references to information regarding derivatives and/or hedging instruments associated with the Company’s long-term debt.\\n\\n\\n\\n\\n\\n\\n\\n\\n\\n\\n\\xa0\\n\\n\\n\\n\\n\\n\\n\\n\\n\\n\\nCommodity Prices Risk:\\n\\n\\n\\n\\n\\n\\n\\n\\n\\n\\n\\xa0\\n\\n\\n\\n\\n\\n\\n\\n\\n\\n\\nThe Company manages commodity price risks through negotiated supply contracts, price protection agreements and commodity price swaps. 3M used commodity price swaps as cash flow hedges of forecasted commodity transactions to manage price volatility, but discontinued this practice in the first quarter of 2015. The related mark-to-market gain or loss on qualifying hedges was included in other comprehensive income to the extent effective, and reclassified into cost of sales in the period during which the hedged transaction affected earnings. The Company may enter into other commodity price swaps to offset, in part, fluctuation and costs associated with the use of certain commodities and precious metals. These instruments are not designated in hedged relationships and the extent to which they were outstanding at December 31, 2016 was not material.\\n\\n\\n\\n\\n\\n\\n\\n\\n\\n\\n\\xa0\\n\\n\\n\\n\\n\\n\\n\\n\\n\\n\\n\\n\\n\\n \\n\\n\\n\\n\\n\\n\\n\\n51\\n\\n\\n\\n\\n\\n\\n\\n\\xa0\\n\\n\\n\\n\\n\\n\\n\\nTable of Contents\\n\\n\\xa0\\n\\n\\t\\t\\n\\n\\n\\n\\n\\n\\n\\n\\n\\n\\n\\n\\n\\nValue At Risk:\\n\\n\\n\\n\\n\\n\\n\\n\\n\\n\\n\\xa0\\n\\n\\n\\n\\n\\n\\n\\n\\n\\n\\nThe value at risk analysis is performed annually to assess the Company’s sensitivity to changes in currency rates, interest rates, and commodity prices. A Monte Carlo simulation technique was used to test the impact on after-tax earnings related to financial instruments (primarily debt), derivatives and underlying exposures outstanding at December\\xa031, 2016. The model (third-party bank dataset) used a 95 percent confidence level over a 12-month time horizon. The exposure to changes in currency rates model used 18 currencies, interest rates related to three currencies, and commodity prices related to five commodities. This model does not purport to represent what actually will be experienced by the Company. This model does not include certain hedge transactions, because the Company believes their inclusion would not materially impact the results. The following table summarizes the possible adverse and positive impacts to after-tax earnings related to these exposures.\\n\\n\\n\\n\\n\\n\\n\\n\\n\\n\\n\\xa0\\n\\n\\n\\n\\n\\n\\n\\n\\n\\n\\n\\n\\n\\n\\n\\n\\n\\n\\n\\n\\xa0\\n\\n\\n\\n\\n\\n\\n\\n\\n\\n\\n\\n\\n\\n\\xa0\\n\\n\\n\\n\\n\\n\\n\\n\\n\\n\\n\\n\\n\\n\\xa0\\n\\n\\n\\n\\n\\n\\n\\n\\n\\n\\n\\n\\n\\n\\xa0\\n\\n\\n\\n\\n\\n\\n\\n\\n\\n\\n\\n\\n\\n\\xa0\\n\\n\\n\\n\\n\\n\\n\\n\\n\\n\\n\\n\\n\\n\\xa0\\n\\n\\n\\n\\n\\n\\n\\n\\n\\n\\n\\n\\n\\n\\xa0\\n\\n\\n\\n\\n\\n\\n\\n\\n\\n\\n\\n\\n\\n\\xa0\\n\\n\\n\\n\\n\\n\\n\\n\\n\\n\\n\\n\\n\\n\\xa0\\n\\n\\n\\n\\n\\n\\n\\n\\n\\n\\n\\n\\n\\n\\xa0\\n\\n\\n\\n\\n\\n\\n\\n\\n\\n\\n\\n\\n\\n\\xa0\\n\\n\\n\\n\\n\\n\\n\\n\\n\\n\\n\\n\\n\\n\\xa0\\n\\n\\n\\n\\n\\n\\n\\n\\n\\n\\n\\n\\n\\n\\xa0\\n\\n\\n\\n\\n\\n\\n\\n\\n\\n\\n\\n\\n\\n\\xa0\\n\\n\\n\\n\\n\\n\\n\\n\\n\\n\\n\\n\\n\\n\\n\\n\\n\\n\\n\\n\\xa0\\n\\n\\n\\n\\n\\n\\n\\n\\n\\n\\n\\n\\n\\n\\xa0\\n\\n\\n\\n\\n\\n\\n\\n\\n\\n\\n\\n\\n\\nAdverse\\xa0impact\\xa0on\\xa0after-tax\\n\\n\\n\\n\\n\\n\\n\\n\\n\\n\\n\\n\\n\\n\\xa0\\n\\n\\n\\n\\n\\n\\n\\n\\n\\n\\n\\n\\n\\nPositive\\xa0impact\\xa0on\\xa0after-tax\\n\\n\\n\\n\\n\\n\\n\\n\\n\\n\\n\\n\\n\\n\\xa0\\n\\n\\n\\n\\n\\n\\n\\n\\n\\n\\n\\n\\n\\n\\n\\n\\n\\n\\n\\n\\xa0\\n\\n\\n\\n\\n\\n\\n\\n\\n\\n\\n\\n\\n\\n\\xa0\\n\\n\\n\\n\\n\\n\\n\\n\\n\\n\\n\\n\\n\\nearnings\\n\\n\\n\\n\\n\\n\\n\\n\\n\\n\\n\\n\\n\\n\\xa0\\n\\n\\n\\n\\n\\n\\n\\n\\n\\n\\n\\n\\n\\nearnings\\n\\n\\n\\n\\n\\n\\n\\n\\n\\n\\n\\n\\n\\n\\xa0\\n\\n\\n\\n\\n\\n\\n\\n\\n\\n\\n\\n\\n\\n\\n\\n\\n\\n\\n\\n(Millions)\\n\\n\\n\\n\\n\\n\\n\\n\\n\\n\\n\\n\\n\\n\\xa0\\xa0\\xa0\\xa0\\n\\n\\n\\n\\n\\n\\n\\n\\n\\n\\n\\n\\n\\n2016\\n\\n\\n\\n\\n\\n\\n\\n\\n\\n\\n\\n\\n\\n\\xa0\\xa0\\xa0\\xa0\\n\\n\\n\\n\\n\\n\\n\\n\\n\\n\\n\\n\\n\\n2015\\n\\n\\n\\n\\n\\n\\n\\n\\n\\n\\n\\n\\n\\n\\xa0\\xa0\\xa0\\xa0\\n\\n\\n\\n\\n\\n\\n\\n\\n\\n\\n\\n\\n\\n2016\\n\\n\\n\\n\\n\\n\\n\\n\\n\\n\\n\\n\\n\\n\\xa0\\xa0\\xa0\\xa0\\n\\n\\n\\n\\n\\n\\n\\n\\n\\n\\n\\n\\n\\n2015\\n\\n\\n\\n\\n\\n\\n\\n\\n\\n\\n\\n\\n\\n\\xa0\\n\\n\\n\\n\\n\\n\\n\\n\\n\\n\\n\\n\\n\\n\\n\\n\\n\\n\\n\\nForeign exchange rates\\n\\n\\n\\n\\n\\n\\n\\n\\n\\n\\n\\n\\n\\n\\xa0\\n\\n\\n\\n\\n\\n\\n\\n\\n\\n\\n\\n\\n\\n$\\n\\n\\n\\n\\n\\n\\n\\n(245)\\n\\t\\t\\t\\t\\n\\n\\n\\n\\n\\n\\n\\n\\n\\n\\n\\xa0\\n\\n\\n\\n\\n\\n\\n\\n\\n\\n\\n\\n\\n\\n$\\n\\n\\n\\n\\n\\n\\n\\n(254)\\n\\t\\t\\t\\t\\n\\n\\n\\n\\n\\n\\n\\n\\n\\n\\n\\xa0\\n\\n\\n\\n\\n\\n\\n\\n\\n\\n\\n\\n\\n\\n$\\n\\n\\n\\n\\n\\n\\n\\n264\\n\\t\\t\\t\\t\\n\\n\\n\\n\\n\\n\\n\\n\\n\\n\\n\\xa0\\n\\n\\n\\n\\n\\n\\n\\n\\n\\n\\n\\n\\n\\n$\\n\\n\\n\\n\\n\\n\\n\\n273\\n\\t\\t\\t\\t\\n\\n\\n\\n\\n\\n\\n\\n\\n\\n\\n\\xa0\\n\\n\\n\\n\\n\\n\\n\\n\\n\\n\\n\\n\\n\\n\\n\\n\\n\\n\\n\\nInterest rates\\n\\n\\n\\n\\n\\n\\n\\n\\n\\n\\n\\n\\n\\n\\xa0\\n\\n\\n\\n\\n\\n\\n\\n\\n\\n\\n\\n\\n\\n\\xa0\\n\\n\\n\\n\\n\\n\\n\\n(13)\\n\\t\\t\\t\\t\\n\\n\\n\\n\\n\\n\\n\\n\\n\\n\\n\\xa0\\n\\n\\n\\n\\n\\n\\n\\n\\n\\n\\n\\n\\n\\n\\xa0\\n\\n\\n\\n\\n\\n\\n\\n(13)\\n\\t\\t\\t\\t\\n\\n\\n\\n\\n\\n\\n\\n\\n\\n\\n\\xa0\\n\\n\\n\\n\\n\\n\\n\\n\\n\\n\\n\\n\\n\\n\\xa0\\n\\n\\n\\n\\n\\n\\n\\n(2)\\n\\t\\t\\t\\t\\n\\n\\n\\n\\n\\n\\n\\n\\n\\n\\n\\xa0\\n\\n\\n\\n\\n\\n\\n\\n\\n\\n\\n\\n\\n\\n\\xa0\\n\\n\\n\\n\\n\\n\\n\\n9\\n\\t\\t\\t\\t\\n\\n\\n\\n\\n\\n\\n\\n\\n\\n\\n\\xa0\\n\\n\\n\\n\\n\\n\\n\\n\\n\\n\\n\\n\\n\\n\\n\\n\\n\\n\\n\\nCommodity prices\\n\\n\\n\\n\\n\\n\\n\\n\\n\\n\\n\\n\\n\\n\\xa0\\n\\n\\n\\n\\n\\n\\n\\n\\n\\n\\n\\n\\n\\n\\xa0\\n\\n\\n\\n\\n\\n\\n\\n(2)\\n\\t\\t\\t\\t\\n\\n\\n\\n\\n\\n\\n\\n\\n\\n\\n\\xa0\\n\\n\\n\\n\\n\\n\\n\\n\\n\\n\\n\\n\\n\\n\\xa0\\n\\n\\n\\n\\n\\n\\n\\n(1)\\n\\t\\t\\t\\t\\n\\n\\n\\n\\n\\n\\n\\n\\n\\n\\n\\xa0\\n\\n\\n\\n\\n\\n\\n\\n\\n\\n\\n\\n\\n\\n\\xa0\\n\\n\\n\\n\\n\\n\\n\\n1\\n\\t\\t\\t\\t\\n\\n\\n\\n\\n\\n\\n\\n\\n\\n\\n\\xa0\\n\\n\\n\\n\\n\\n\\n\\n\\n\\n\\n\\n\\n\\n\\xa0\\n\\n\\n\\n\\n\\n\\n\\n1\\n\\t\\t\\t\\t\\n\\n\\n\\n\\n\\n\\n\\n\\n\\n\\n\\xa0\\n\\n\\n\\n\\n\\n\\n\\n\\n\\n\\n\\n\\n\\n\\n\\n\\n\\xa0\\n\\n\\n\\n\\n\\n\\n\\n\\n\\n\\nIn addition to the possible adverse and positive impacts discussed in the preceding table related to foreign exchange rates, recent historical information is as follows. 3M estimates that year-on-year currency effects, including hedging impacts, had the following effects on pre-tax income: 2016 ($127 million decrease) and 2015 ($390 million decrease). This estimate includes the effect of translating profits from local currencies into U.S. dollars; the impact of currency fluctuations on the transfer of goods between 3M operations in the United States and abroad; and transaction gains and losses, including derivative instruments designed to reduce foreign currency exchange rate risks. 3M estimates that year-on-year derivative and other transaction gains and losses had the following effects on pre-tax income: 2016 ($69 million decrease) and 2015 ($180 million increase).\\n\\n\\n\\n\\n\\n\\n\\n\\n\\n\\n\\xa0\\n\\n\\n\\n\\n\\n\\n\\n\\n\\n\\nAn analysis of the global exposures related to purchased components and materials is performed at each year-end. A one percent price change would result in a pre-tax cost or savings of approximately $70 million per year. The global energy exposure is such that a ten percent price change would result in a pre-tax cost or savings of approximately $40 million per year. Global energy exposure includes energy costs used in 3M production and other facilities, primarily electricity and natural gas.\\n\\n\\n\\n\\n\\n\\n\\n\\n\\n\\n\\n\\n\\n\\n\\n\\n\\n\\n\\n\\n\\n\\n \\n\\n\\n\\n\\n\\n\\n\\n52\\n\\n\\n\\n\\n\\n\\n\\n\\xa0\\n\\n\\n\\n\\n\\n\\n\\nTable of Contents\\n\\n\\xa0\\n\\n\\t\\t\\n\\n\\n\\n\\n\\n\\n\\n\\n\\n\\n\\n'"
      ]
     },
     "execution_count": 17,
     "metadata": {},
     "output_type": "execute_result"
    }
   ],
   "source": [
    "a.get_data()[\"MMM\"]['17']['item7a']"
   ]
  },
  {
   "cell_type": "code",
   "execution_count": 5,
   "id": "60b0d9b7",
   "metadata": {
    "ExecuteTime": {
     "end_time": "2021-10-22T00:43:09.213191Z",
     "start_time": "2021-10-22T00:43:09.175094Z"
    }
   },
   "outputs": [],
   "source": [
    "with open('configs/dow_jones/etl.yaml', 'r') as f:\n",
    "    yaml.load(params, f, allow_unicode = True)"
   ]
  },
  {
   "cell_type": "code",
   "execution_count": 6,
   "id": "8a68a4df",
   "metadata": {
    "ExecuteTime": {
     "end_time": "2021-10-22T01:01:03.228804Z",
     "start_time": "2021-10-22T01:01:03.199739Z"
    }
   },
   "outputs": [
    {
     "data": {
      "text/plain": [
       "{'companies': [{'wba': {'alias': ['$wba',\n",
       "     'wba',\n",
       "     'walgreen boots alliance inc',\n",
       "     'walgreen boots alliance',\n",
       "     'walgreenbootsalliance']}},\n",
       "  {'v': {'alias': ['$v', 'v', 'visa inc class a', 'visa']}},\n",
       "  {'crm': {'alias': ['$crm', 'crm', 'salesforce.com inc', 'salesforce']}},\n",
       "  {'cvx': {'alias': ['$cvx', 'cvx', 'chevron corp', 'chevron']}},\n",
       "  {'pg': {'alias': ['$pg', 'pg', 'procter & gamble', 'procter&gamble']}},\n",
       "  {'vz': {'alias': ['$vz', 'vz', 'verizon communications inc', 'verizon']}},\n",
       "  {'wmt': {'alias': ['$wmt',\n",
       "     'wmt',\n",
       "     'walmart stores inc',\n",
       "     'walmart stores',\n",
       "     'walmart']}},\n",
       "  {'unh': {'alias': ['$unh',\n",
       "     'unh',\n",
       "     'unitedhealth group inc',\n",
       "     'unitedhealth group',\n",
       "     'unitedhealthgroup']}},\n",
       "  {'trv': {'alias': ['$trv',\n",
       "     'trv',\n",
       "     'travelers companies inc',\n",
       "     'travelers companies',\n",
       "     'travelers',\n",
       "     'travelerscompanies']}},\n",
       "  {'mcd': {'alias': ['$mcd', 'mcd', 'mcdonalds corp', 'mcdonalds']}},\n",
       "  {'mmm': {'alias': ['$mmm', 'mmm', '3m', '3m']}},\n",
       "  {'nke': {'alias': ['$nke', 'nke', 'nike inc class b', 'nike']}},\n",
       "  {'mrk': {'alias': ['$mrk',\n",
       "     'mrk',\n",
       "     'merck & co inc',\n",
       "     'merck & co',\n",
       "     'merck&co']}},\n",
       "  {'msft': {'alias': ['$msft', 'msft', 'microsoft corp', 'microsoft']}},\n",
       "  {'jpm': {'alias': ['$jpm',\n",
       "     'jpm',\n",
       "     'jp morgan chase & co',\n",
       "     'jp morgan chase',\n",
       "     'jpmorgan',\n",
       "     ' j.p. morgan',\n",
       "     ' jp morgan',\n",
       "     'jpm']}},\n",
       "  {'ko': {'alias': ['$ko', 'ko', 'coca-cola', 'cocacola']}},\n",
       "  {'jnj': {'alias': ['$jnj', 'jnj', 'johnson & johnson', 'johnson&johnson']}},\n",
       "  {'gs': {'alias': ['$gs',\n",
       "     'gs',\n",
       "     'goldman sachs group inc',\n",
       "     'goldman sachs group',\n",
       "     'goldman sachs',\n",
       "     'goldman']}},\n",
       "  {'hd': {'alias': ['$hd', 'hd', 'home depot inc', 'home depot']}},\n",
       "  {'hon': {'alias': ['$hon',\n",
       "     'hon',\n",
       "     'honeywell international inc',\n",
       "     'honeywell international',\n",
       "     'honeywell']}},\n",
       "  {'ibm': {'alias': ['$ibm',\n",
       "     'ibm',\n",
       "     'international business machines co',\n",
       "     'international business machines',\n",
       "     'internationalbusinessmachines']}},\n",
       "  {'intc': {'alias': ['$intc',\n",
       "     'intc',\n",
       "     'intel corporation corp',\n",
       "     'intel corporation',\n",
       "     'intel']}},\n",
       "  {'dis': {'alias': ['$dis', 'dis', 'walt disney', 'disney', 'waltdisney']}},\n",
       "  {'cat': {'alias': ['$cat',\n",
       "     'cat',\n",
       "     'caterpillar inc',\n",
       "     'caterpillar inc',\n",
       "     'caterpillarinc']}},\n",
       "  {'csco': {'alias': ['$csco',\n",
       "     'csco',\n",
       "     'cisco systems inc',\n",
       "     'cisco systems',\n",
       "     'cisco']}},\n",
       "  {'axp': {'alias': ['$axp',\n",
       "     'axp',\n",
       "     'american express',\n",
       "     'american express',\n",
       "     'amex',\n",
       "     'americanexpress']}},\n",
       "  {'ba': {'alias': ['$ba', 'ba', 'boeing', 'boeing']}},\n",
       "  {'amgn': {'alias': ['$amgn', 'amgn', 'amgen inc', 'amgen']}},\n",
       "  {'aapl': {'alias': ['$aapl', 'aapl', 'apple inc', 'apple inc', 'appleinc']}},\n",
       "  {'dow': {'alias': ['$dow', 'dow', 'dow inc.', 'dow']}}],\n",
       " 'data_root': './data',\n",
       " 'twitter_conifg': {'sleep_time': 5}}"
      ]
     },
     "execution_count": 6,
     "metadata": {},
     "output_type": "execute_result"
    }
   ],
   "source": [
    "params"
   ]
  },
  {
   "cell_type": "code",
   "execution_count": 98,
   "id": "f1d9763a",
   "metadata": {
    "ExecuteTime": {
     "end_time": "2021-10-22T01:36:46.165578Z",
     "start_time": "2021-10-22T01:36:46.141679Z"
    }
   },
   "outputs": [],
   "source": [
    "start = dt.datetime(2019, 10, 1)\n",
    "end = dt.datetime(2021, 10, 1)"
   ]
  },
  {
   "cell_type": "code",
   "execution_count": 99,
   "id": "01f88eab",
   "metadata": {
    "ExecuteTime": {
     "end_time": "2021-10-22T01:36:46.795337Z",
     "start_time": "2021-10-22T01:36:46.769412Z"
    }
   },
   "outputs": [],
   "source": [
    "twitter_fetcher = twitterFetcher(**params)"
   ]
  },
  {
   "cell_type": "code",
   "execution_count": 100,
   "id": "a30e72fc",
   "metadata": {
    "ExecuteTime": {
     "end_time": "2021-10-22T01:36:47.241414Z",
     "start_time": "2021-10-22T01:36:47.218589Z"
    }
   },
   "outputs": [],
   "source": [
    "stock_fetcher = stockFetcher(**params)"
   ]
  },
  {
   "cell_type": "code",
   "execution_count": 104,
   "id": "29327d32",
   "metadata": {
    "ExecuteTime": {
     "end_time": "2021-10-22T01:42:53.248756Z",
     "start_time": "2021-10-22T01:42:53.217516Z"
    }
   },
   "outputs": [
    {
     "data": {
      "text/plain": [
       "'./data'"
      ]
     },
     "execution_count": 104,
     "metadata": {},
     "output_type": "execute_result"
    }
   ],
   "source": [
    "stock_fetcher.data_root"
   ]
  },
  {
   "cell_type": "code",
   "execution_count": 101,
   "id": "4b9dcafa",
   "metadata": {
    "ExecuteTime": {
     "end_time": "2021-10-22T01:37:09.961800Z",
     "start_time": "2021-10-22T01:36:47.762330Z"
    }
   },
   "outputs": [
    {
     "name": "stderr",
     "output_type": "stream",
     "text": [
      "\r",
      "  0%|                                                                                                                           | 0/30 [00:00<?, ?it/s]"
     ]
    },
    {
     "name": "stdout",
     "output_type": "stream",
     "text": [
      "wba\n"
     ]
    },
    {
     "name": "stderr",
     "output_type": "stream",
     "text": [
      "\r",
      "  3%|███▊                                                                                                               | 1/30 [00:00<00:21,  1.32it/s]"
     ]
    },
    {
     "name": "stdout",
     "output_type": "stream",
     "text": [
      "v\n"
     ]
    },
    {
     "name": "stderr",
     "output_type": "stream",
     "text": [
      "\r",
      "  7%|███████▋                                                                                                           | 2/30 [00:01<00:25,  1.09it/s]"
     ]
    },
    {
     "name": "stdout",
     "output_type": "stream",
     "text": [
      "crm\n"
     ]
    },
    {
     "name": "stderr",
     "output_type": "stream",
     "text": [
      "\r",
      " 10%|███████████▌                                                                                                       | 3/30 [00:02<00:22,  1.23it/s]"
     ]
    },
    {
     "name": "stdout",
     "output_type": "stream",
     "text": [
      "cvx\n"
     ]
    },
    {
     "name": "stderr",
     "output_type": "stream",
     "text": [
      "\r",
      " 13%|███████████████▎                                                                                                   | 4/30 [00:03<00:19,  1.33it/s]"
     ]
    },
    {
     "name": "stdout",
     "output_type": "stream",
     "text": [
      "pg\n"
     ]
    },
    {
     "name": "stderr",
     "output_type": "stream",
     "text": [
      "\r",
      " 17%|███████████████████▏                                                                                               | 5/30 [00:03<00:17,  1.41it/s]"
     ]
    },
    {
     "name": "stdout",
     "output_type": "stream",
     "text": [
      "vz\n"
     ]
    },
    {
     "name": "stderr",
     "output_type": "stream",
     "text": [
      "\r",
      " 20%|███████████████████████                                                                                            | 6/30 [00:04<00:17,  1.39it/s]"
     ]
    },
    {
     "name": "stdout",
     "output_type": "stream",
     "text": [
      "wmt\n"
     ]
    },
    {
     "name": "stderr",
     "output_type": "stream",
     "text": [
      "\r",
      " 23%|██████████████████████████▊                                                                                        | 7/30 [00:05<00:16,  1.38it/s]"
     ]
    },
    {
     "name": "stdout",
     "output_type": "stream",
     "text": [
      "unh\n"
     ]
    },
    {
     "name": "stderr",
     "output_type": "stream",
     "text": [
      "\r",
      " 27%|██████████████████████████████▋                                                                                    | 8/30 [00:05<00:15,  1.38it/s]"
     ]
    },
    {
     "name": "stdout",
     "output_type": "stream",
     "text": [
      "trv\n"
     ]
    },
    {
     "name": "stderr",
     "output_type": "stream",
     "text": [
      "\r",
      " 30%|██████████████████████████████████▌                                                                                | 9/30 [00:06<00:15,  1.39it/s]"
     ]
    },
    {
     "name": "stdout",
     "output_type": "stream",
     "text": [
      "mcd\n"
     ]
    },
    {
     "name": "stderr",
     "output_type": "stream",
     "text": [
      "\r",
      " 33%|██████████████████████████████████████                                                                            | 10/30 [00:07<00:15,  1.32it/s]"
     ]
    },
    {
     "name": "stdout",
     "output_type": "stream",
     "text": [
      "mmm\n"
     ]
    },
    {
     "name": "stderr",
     "output_type": "stream",
     "text": [
      "\r",
      " 37%|█████████████████████████████████████████▊                                                                        | 11/30 [00:08<00:14,  1.32it/s]"
     ]
    },
    {
     "name": "stdout",
     "output_type": "stream",
     "text": [
      "nke\n"
     ]
    },
    {
     "name": "stderr",
     "output_type": "stream",
     "text": [
      "\r",
      " 40%|█████████████████████████████████████████████▌                                                                    | 12/30 [00:09<00:13,  1.29it/s]"
     ]
    },
    {
     "name": "stdout",
     "output_type": "stream",
     "text": [
      "mrk\n"
     ]
    },
    {
     "name": "stderr",
     "output_type": "stream",
     "text": [
      "\r",
      " 43%|█████████████████████████████████████████████████▍                                                                | 13/30 [00:09<00:12,  1.35it/s]"
     ]
    },
    {
     "name": "stdout",
     "output_type": "stream",
     "text": [
      "msft\n"
     ]
    },
    {
     "name": "stderr",
     "output_type": "stream",
     "text": [
      "\r",
      " 47%|█████████████████████████████████████████████████████▏                                                            | 14/30 [00:10<00:11,  1.40it/s]"
     ]
    },
    {
     "name": "stdout",
     "output_type": "stream",
     "text": [
      "jpm\n"
     ]
    },
    {
     "name": "stderr",
     "output_type": "stream",
     "text": [
      "\r",
      " 50%|█████████████████████████████████████████████████████████                                                         | 15/30 [00:11<00:10,  1.39it/s]"
     ]
    },
    {
     "name": "stdout",
     "output_type": "stream",
     "text": [
      "ko\n"
     ]
    },
    {
     "name": "stderr",
     "output_type": "stream",
     "text": [
      "\r",
      " 53%|████████████████████████████████████████████████████████████▊                                                     | 16/30 [00:11<00:10,  1.37it/s]"
     ]
    },
    {
     "name": "stdout",
     "output_type": "stream",
     "text": [
      "jnj\n"
     ]
    },
    {
     "name": "stderr",
     "output_type": "stream",
     "text": [
      "\r",
      " 57%|████████████████████████████████████████████████████████████████▌                                                 | 17/30 [00:12<00:09,  1.36it/s]"
     ]
    },
    {
     "name": "stdout",
     "output_type": "stream",
     "text": [
      "gs\n"
     ]
    },
    {
     "name": "stderr",
     "output_type": "stream",
     "text": [
      "\r",
      " 60%|████████████████████████████████████████████████████████████████████▍                                             | 18/30 [00:13<00:08,  1.35it/s]"
     ]
    },
    {
     "name": "stdout",
     "output_type": "stream",
     "text": [
      "hd\n"
     ]
    },
    {
     "name": "stderr",
     "output_type": "stream",
     "text": [
      "\r",
      " 63%|████████████████████████████████████████████████████████████████████████▏                                         | 19/30 [00:13<00:07,  1.43it/s]"
     ]
    },
    {
     "name": "stdout",
     "output_type": "stream",
     "text": [
      "hon\n"
     ]
    },
    {
     "name": "stderr",
     "output_type": "stream",
     "text": [
      "\r",
      " 67%|████████████████████████████████████████████████████████████████████████████                                      | 20/30 [00:14<00:07,  1.41it/s]"
     ]
    },
    {
     "name": "stdout",
     "output_type": "stream",
     "text": [
      "ibm\n"
     ]
    },
    {
     "name": "stderr",
     "output_type": "stream",
     "text": [
      "\r",
      " 70%|███████████████████████████████████████████████████████████████████████████████▊                                  | 21/30 [00:15<00:06,  1.40it/s]"
     ]
    },
    {
     "name": "stdout",
     "output_type": "stream",
     "text": [
      "intc\n"
     ]
    },
    {
     "name": "stderr",
     "output_type": "stream",
     "text": [
      "\r",
      " 73%|███████████████████████████████████████████████████████████████████████████████████▌                              | 22/30 [00:16<00:05,  1.35it/s]"
     ]
    },
    {
     "name": "stdout",
     "output_type": "stream",
     "text": [
      "dis\n"
     ]
    },
    {
     "name": "stderr",
     "output_type": "stream",
     "text": [
      "\r",
      " 77%|███████████████████████████████████████████████████████████████████████████████████████▍                          | 23/30 [00:16<00:05,  1.35it/s]"
     ]
    },
    {
     "name": "stdout",
     "output_type": "stream",
     "text": [
      "cat\n"
     ]
    },
    {
     "name": "stderr",
     "output_type": "stream",
     "text": [
      "\r",
      " 80%|███████████████████████████████████████████████████████████████████████████████████████████▏                      | 24/30 [00:17<00:04,  1.35it/s]"
     ]
    },
    {
     "name": "stdout",
     "output_type": "stream",
     "text": [
      "csco\n"
     ]
    },
    {
     "name": "stderr",
     "output_type": "stream",
     "text": [
      "\r",
      " 83%|███████████████████████████████████████████████████████████████████████████████████████████████                   | 25/30 [00:18<00:03,  1.31it/s]"
     ]
    },
    {
     "name": "stdout",
     "output_type": "stream",
     "text": [
      "axp\n"
     ]
    },
    {
     "name": "stderr",
     "output_type": "stream",
     "text": [
      "\r",
      " 87%|██████████████████████████████████████████████████████████████████████████████████████████████████▊               | 26/30 [00:19<00:03,  1.27it/s]"
     ]
    },
    {
     "name": "stdout",
     "output_type": "stream",
     "text": [
      "ba\n"
     ]
    },
    {
     "name": "stderr",
     "output_type": "stream",
     "text": [
      "\r",
      " 90%|██████████████████████████████████████████████████████████████████████████████████████████████████████▌           | 27/30 [00:20<00:02,  1.31it/s]"
     ]
    },
    {
     "name": "stdout",
     "output_type": "stream",
     "text": [
      "amgn\n"
     ]
    },
    {
     "name": "stderr",
     "output_type": "stream",
     "text": [
      "\r",
      " 93%|██████████████████████████████████████████████████████████████████████████████████████████████████████████▍       | 28/30 [00:20<00:01,  1.35it/s]"
     ]
    },
    {
     "name": "stdout",
     "output_type": "stream",
     "text": [
      "aapl\n"
     ]
    },
    {
     "name": "stderr",
     "output_type": "stream",
     "text": [
      "\r",
      " 97%|██████████████████████████████████████████████████████████████████████████████████████████████████████████████▏   | 29/30 [00:21<00:00,  1.41it/s]"
     ]
    },
    {
     "name": "stdout",
     "output_type": "stream",
     "text": [
      "dow\n"
     ]
    },
    {
     "name": "stderr",
     "output_type": "stream",
     "text": [
      "100%|██████████████████████████████████████████████████████████████████████████████████████████████████████████████████| 30/30 [00:22<00:00,  1.35it/s]\n"
     ]
    },
    {
     "data": {
      "text/html": [
       "<div>\n",
       "<style scoped>\n",
       "    .dataframe tbody tr th:only-of-type {\n",
       "        vertical-align: middle;\n",
       "    }\n",
       "\n",
       "    .dataframe tbody tr th {\n",
       "        vertical-align: top;\n",
       "    }\n",
       "\n",
       "    .dataframe thead th {\n",
       "        text-align: right;\n",
       "    }\n",
       "</style>\n",
       "<table border=\"1\" class=\"dataframe\">\n",
       "  <thead>\n",
       "    <tr style=\"text-align: right;\">\n",
       "      <th></th>\n",
       "      <th>Date</th>\n",
       "      <th>High</th>\n",
       "      <th>Low</th>\n",
       "      <th>Open</th>\n",
       "      <th>Close</th>\n",
       "      <th>Volume</th>\n",
       "      <th>Adj Close</th>\n",
       "      <th>ticker_symbol</th>\n",
       "    </tr>\n",
       "  </thead>\n",
       "  <tbody>\n",
       "    <tr>\n",
       "      <th>0</th>\n",
       "      <td>2019-10-01</td>\n",
       "      <td>55.869999</td>\n",
       "      <td>54.279999</td>\n",
       "      <td>55.259998</td>\n",
       "      <td>54.700001</td>\n",
       "      <td>4824700.0</td>\n",
       "      <td>50.570091</td>\n",
       "      <td>wba</td>\n",
       "    </tr>\n",
       "    <tr>\n",
       "      <th>1</th>\n",
       "      <td>2019-10-02</td>\n",
       "      <td>54.619999</td>\n",
       "      <td>52.730000</td>\n",
       "      <td>54.529999</td>\n",
       "      <td>52.830002</td>\n",
       "      <td>5016000.0</td>\n",
       "      <td>48.841282</td>\n",
       "      <td>wba</td>\n",
       "    </tr>\n",
       "    <tr>\n",
       "      <th>2</th>\n",
       "      <td>2019-10-03</td>\n",
       "      <td>53.049999</td>\n",
       "      <td>51.570000</td>\n",
       "      <td>52.830002</td>\n",
       "      <td>52.599998</td>\n",
       "      <td>3625100.0</td>\n",
       "      <td>48.628639</td>\n",
       "      <td>wba</td>\n",
       "    </tr>\n",
       "    <tr>\n",
       "      <th>3</th>\n",
       "      <td>2019-10-04</td>\n",
       "      <td>53.060001</td>\n",
       "      <td>52.060001</td>\n",
       "      <td>52.740002</td>\n",
       "      <td>52.970001</td>\n",
       "      <td>3895400.0</td>\n",
       "      <td>48.970707</td>\n",
       "      <td>wba</td>\n",
       "    </tr>\n",
       "    <tr>\n",
       "      <th>4</th>\n",
       "      <td>2019-10-07</td>\n",
       "      <td>53.119999</td>\n",
       "      <td>52.570000</td>\n",
       "      <td>52.830002</td>\n",
       "      <td>52.759998</td>\n",
       "      <td>4427000.0</td>\n",
       "      <td>48.776558</td>\n",
       "      <td>wba</td>\n",
       "    </tr>\n",
       "    <tr>\n",
       "      <th>...</th>\n",
       "      <td>...</td>\n",
       "      <td>...</td>\n",
       "      <td>...</td>\n",
       "      <td>...</td>\n",
       "      <td>...</td>\n",
       "      <td>...</td>\n",
       "      <td>...</td>\n",
       "      <td>...</td>\n",
       "    </tr>\n",
       "    <tr>\n",
       "      <th>15175</th>\n",
       "      <td>2021-09-27</td>\n",
       "      <td>60.380001</td>\n",
       "      <td>56.880001</td>\n",
       "      <td>56.880001</td>\n",
       "      <td>59.689999</td>\n",
       "      <td>12374000.0</td>\n",
       "      <td>59.689999</td>\n",
       "      <td>dow</td>\n",
       "    </tr>\n",
       "    <tr>\n",
       "      <th>15176</th>\n",
       "      <td>2021-09-28</td>\n",
       "      <td>60.645000</td>\n",
       "      <td>59.139999</td>\n",
       "      <td>60.150002</td>\n",
       "      <td>59.459999</td>\n",
       "      <td>6681800.0</td>\n",
       "      <td>59.459999</td>\n",
       "      <td>dow</td>\n",
       "    </tr>\n",
       "    <tr>\n",
       "      <th>15177</th>\n",
       "      <td>2021-09-29</td>\n",
       "      <td>59.599998</td>\n",
       "      <td>58.770000</td>\n",
       "      <td>59.459999</td>\n",
       "      <td>58.820000</td>\n",
       "      <td>4578800.0</td>\n",
       "      <td>58.820000</td>\n",
       "      <td>dow</td>\n",
       "    </tr>\n",
       "    <tr>\n",
       "      <th>15178</th>\n",
       "      <td>2021-09-30</td>\n",
       "      <td>59.169998</td>\n",
       "      <td>57.549999</td>\n",
       "      <td>58.919998</td>\n",
       "      <td>57.560001</td>\n",
       "      <td>4929000.0</td>\n",
       "      <td>57.560001</td>\n",
       "      <td>dow</td>\n",
       "    </tr>\n",
       "    <tr>\n",
       "      <th>15179</th>\n",
       "      <td>2021-10-01</td>\n",
       "      <td>59.009998</td>\n",
       "      <td>57.250000</td>\n",
       "      <td>57.669998</td>\n",
       "      <td>58.580002</td>\n",
       "      <td>6925300.0</td>\n",
       "      <td>58.580002</td>\n",
       "      <td>dow</td>\n",
       "    </tr>\n",
       "  </tbody>\n",
       "</table>\n",
       "<p>15180 rows × 8 columns</p>\n",
       "</div>"
      ],
      "text/plain": [
       "            Date       High        Low       Open      Close      Volume  \\\n",
       "0     2019-10-01  55.869999  54.279999  55.259998  54.700001   4824700.0   \n",
       "1     2019-10-02  54.619999  52.730000  54.529999  52.830002   5016000.0   \n",
       "2     2019-10-03  53.049999  51.570000  52.830002  52.599998   3625100.0   \n",
       "3     2019-10-04  53.060001  52.060001  52.740002  52.970001   3895400.0   \n",
       "4     2019-10-07  53.119999  52.570000  52.830002  52.759998   4427000.0   \n",
       "...          ...        ...        ...        ...        ...         ...   \n",
       "15175 2021-09-27  60.380001  56.880001  56.880001  59.689999  12374000.0   \n",
       "15176 2021-09-28  60.645000  59.139999  60.150002  59.459999   6681800.0   \n",
       "15177 2021-09-29  59.599998  58.770000  59.459999  58.820000   4578800.0   \n",
       "15178 2021-09-30  59.169998  57.549999  58.919998  57.560001   4929000.0   \n",
       "15179 2021-10-01  59.009998  57.250000  57.669998  58.580002   6925300.0   \n",
       "\n",
       "       Adj Close ticker_symbol  \n",
       "0      50.570091           wba  \n",
       "1      48.841282           wba  \n",
       "2      48.628639           wba  \n",
       "3      48.970707           wba  \n",
       "4      48.776558           wba  \n",
       "...          ...           ...  \n",
       "15175  59.689999           dow  \n",
       "15176  59.459999           dow  \n",
       "15177  58.820000           dow  \n",
       "15178  57.560001           dow  \n",
       "15179  58.580002           dow  \n",
       "\n",
       "[15180 rows x 8 columns]"
      ]
     },
     "execution_count": 101,
     "metadata": {},
     "output_type": "execute_result"
    }
   ],
   "source": [
    "stock_fetcher.get_data(start, end)"
   ]
  },
  {
   "cell_type": "code",
   "execution_count": 61,
   "id": "188dfe32",
   "metadata": {
    "ExecuteTime": {
     "end_time": "2021-10-22T01:13:44.731797Z",
     "start_time": "2021-10-22T01:07:07.042414Z"
    }
   },
   "outputs": [
    {
     "data": {
      "application/vnd.jupyter.widget-view+json": {
       "model_id": "789f4334fe1b46e0849643df4d364788",
       "version_major": 2,
       "version_minor": 0
      },
      "text/plain": [
       "  0%|          | 0/30 [00:00<?, ?it/s]"
      ]
     },
     "metadata": {},
     "output_type": "display_data"
    },
    {
     "ename": "KeyboardInterrupt",
     "evalue": "",
     "output_type": "error",
     "traceback": [
      "\u001b[0;31m---------------------------------------------------------------------------\u001b[0m",
      "\u001b[0;31mKeyboardInterrupt\u001b[0m                         Traceback (most recent call last)",
      "\u001b[0;32m/var/folders/n5/gw9wgd8j759416q9p1ws4v2h0000gn/T/ipykernel_26057/3073239726.py\u001b[0m in \u001b[0;36m<module>\u001b[0;34m\u001b[0m\n\u001b[1;32m      1\u001b[0m \u001b[0mtwitter_fetcher\u001b[0m \u001b[0;34m=\u001b[0m \u001b[0mtwitterFetcher\u001b[0m\u001b[0;34m(\u001b[0m\u001b[0;34m**\u001b[0m\u001b[0mparams\u001b[0m\u001b[0;34m)\u001b[0m\u001b[0;34m\u001b[0m\u001b[0;34m\u001b[0m\u001b[0m\n\u001b[0;32m----> 2\u001b[0;31m \u001b[0mdf\u001b[0m \u001b[0;34m=\u001b[0m \u001b[0mtwitter_fetcher\u001b[0m\u001b[0;34m.\u001b[0m\u001b[0mget_data\u001b[0m\u001b[0;34m(\u001b[0m\u001b[0mstart\u001b[0m\u001b[0;34m,\u001b[0m \u001b[0mend\u001b[0m\u001b[0;34m)\u001b[0m\u001b[0;34m\u001b[0m\u001b[0;34m\u001b[0m\u001b[0m\n\u001b[0m",
      "\u001b[0;32m~/Desktop/fall2021/capstone/apulu/apulu/data_pipeline/sources/twitter.py\u001b[0m in \u001b[0;36mget_data\u001b[0;34m(self, start, end)\u001b[0m\n\u001b[1;32m     97\u001b[0m             \u001b[0msymbol\u001b[0m\u001b[0;34m,\u001b[0m \u001b[0malias\u001b[0m \u001b[0;34m=\u001b[0m \u001b[0mlist\u001b[0m\u001b[0;34m(\u001b[0m\u001b[0mcompany\u001b[0m\u001b[0;34m.\u001b[0m\u001b[0mitems\u001b[0m\u001b[0;34m(\u001b[0m\u001b[0;34m)\u001b[0m\u001b[0;34m)\u001b[0m\u001b[0;34m[\u001b[0m\u001b[0;36m0\u001b[0m\u001b[0;34m]\u001b[0m\u001b[0;34m\u001b[0m\u001b[0;34m\u001b[0m\u001b[0m\n\u001b[1;32m     98\u001b[0m             \u001b[0malias\u001b[0m \u001b[0;34m=\u001b[0m \u001b[0malias\u001b[0m\u001b[0;34m[\u001b[0m\u001b[0;34m\"alias\"\u001b[0m\u001b[0;34m]\u001b[0m\u001b[0;34m\u001b[0m\u001b[0;34m\u001b[0m\u001b[0m\n\u001b[0;32m---> 99\u001b[0;31m             \u001b[0mtime\u001b[0m\u001b[0;34m.\u001b[0m\u001b[0msleep\u001b[0m\u001b[0;34m(\u001b[0m\u001b[0mself\u001b[0m\u001b[0;34m.\u001b[0m\u001b[0mtwitter_conifg\u001b[0m\u001b[0;34m[\u001b[0m\u001b[0;34m\"sleep_time\"\u001b[0m\u001b[0;34m]\u001b[0m\u001b[0;34m)\u001b[0m\u001b[0;34m\u001b[0m\u001b[0;34m\u001b[0m\u001b[0m\n\u001b[0m\u001b[1;32m    100\u001b[0m             \u001b[0mprocessed_query\u001b[0m \u001b[0;34m=\u001b[0m \u001b[0m_preprocess_query\u001b[0m\u001b[0;34m(\u001b[0m\u001b[0malias\u001b[0m\u001b[0;34m,\u001b[0m \u001b[0mstart\u001b[0m\u001b[0;34m,\u001b[0m \u001b[0mend\u001b[0m\u001b[0;34m)\u001b[0m\u001b[0;34m\u001b[0m\u001b[0;34m\u001b[0m\u001b[0m\n\u001b[1;32m    101\u001b[0m             \u001b[0mscraped_tweets\u001b[0m \u001b[0;34m=\u001b[0m \u001b[0m_call_twitter_api\u001b[0m\u001b[0;34m(\u001b[0m\u001b[0mprocessed_query\u001b[0m\u001b[0;34m)\u001b[0m\u001b[0;34m\u001b[0m\u001b[0;34m\u001b[0m\u001b[0m\n",
      "\u001b[0;31mKeyboardInterrupt\u001b[0m: "
     ]
    }
   ],
   "source": [
    "\n",
    "df = twitter_fetcher.get_data(start, end)"
   ]
  },
  {
   "cell_type": "code",
   "execution_count": 59,
   "id": "d33a0583",
   "metadata": {
    "ExecuteTime": {
     "end_time": "2021-10-22T01:06:54.001363Z",
     "start_time": "2021-10-22T01:06:53.974155Z"
    }
   },
   "outputs": [
    {
     "data": {
      "text/plain": [
       "[]"
      ]
     },
     "execution_count": 59,
     "metadata": {},
     "output_type": "execute_result"
    }
   ],
   "source": [
    "list({}.items())"
   ]
  },
  {
   "cell_type": "code",
   "execution_count": 54,
   "id": "bc4aaa7e",
   "metadata": {
    "ExecuteTime": {
     "end_time": "2021-10-22T01:04:17.901746Z",
     "start_time": "2021-10-22T01:04:17.869607Z"
    }
   },
   "outputs": [
    {
     "data": {
      "text/plain": [
       "[{'wba': {'alias': ['$wba',\n",
       "    'wba',\n",
       "    'walgreen boots alliance inc',\n",
       "    'walgreen boots alliance',\n",
       "    'walgreenbootsalliance']}},\n",
       " {'v': {'alias': ['$v', 'v', 'visa inc class a', 'visa']}},\n",
       " {'crm': {'alias': ['$crm', 'crm', 'salesforce.com inc', 'salesforce']}},\n",
       " {'cvx': {'alias': ['$cvx', 'cvx', 'chevron corp', 'chevron']}},\n",
       " {'pg': {'alias': ['$pg', 'pg', 'procter & gamble', 'procter&gamble']}},\n",
       " {'vz': {'alias': ['$vz', 'vz', 'verizon communications inc', 'verizon']}},\n",
       " {'wmt': {'alias': ['$wmt',\n",
       "    'wmt',\n",
       "    'walmart stores inc',\n",
       "    'walmart stores',\n",
       "    'walmart']}},\n",
       " {'unh': {'alias': ['$unh',\n",
       "    'unh',\n",
       "    'unitedhealth group inc',\n",
       "    'unitedhealth group',\n",
       "    'unitedhealthgroup']}},\n",
       " {'trv': {'alias': ['$trv',\n",
       "    'trv',\n",
       "    'travelers companies inc',\n",
       "    'travelers companies',\n",
       "    'travelers',\n",
       "    'travelerscompanies']}},\n",
       " {'mcd': {'alias': ['$mcd', 'mcd', 'mcdonalds corp', 'mcdonalds']}},\n",
       " {'mmm': {'alias': ['$mmm', 'mmm', '3m', '3m']}},\n",
       " {'nke': {'alias': ['$nke', 'nke', 'nike inc class b', 'nike']}},\n",
       " {'mrk': {'alias': ['$mrk',\n",
       "    'mrk',\n",
       "    'merck & co inc',\n",
       "    'merck & co',\n",
       "    'merck&co']}},\n",
       " {'msft': {'alias': ['$msft', 'msft', 'microsoft corp', 'microsoft']}},\n",
       " {'jpm': {'alias': ['$jpm',\n",
       "    'jpm',\n",
       "    'jp morgan chase & co',\n",
       "    'jp morgan chase',\n",
       "    'jpmorgan',\n",
       "    ' j.p. morgan',\n",
       "    ' jp morgan',\n",
       "    'jpm']}},\n",
       " {'ko': {'alias': ['$ko', 'ko', 'coca-cola', 'cocacola']}},\n",
       " {'jnj': {'alias': ['$jnj', 'jnj', 'johnson & johnson', 'johnson&johnson']}},\n",
       " {'gs': {'alias': ['$gs',\n",
       "    'gs',\n",
       "    'goldman sachs group inc',\n",
       "    'goldman sachs group',\n",
       "    'goldman sachs',\n",
       "    'goldman']}},\n",
       " {'hd': {'alias': ['$hd', 'hd', 'home depot inc', 'home depot']}},\n",
       " {'hon': {'alias': ['$hon',\n",
       "    'hon',\n",
       "    'honeywell international inc',\n",
       "    'honeywell international',\n",
       "    'honeywell']}},\n",
       " {'ibm': {'alias': ['$ibm',\n",
       "    'ibm',\n",
       "    'international business machines co',\n",
       "    'international business machines',\n",
       "    'internationalbusinessmachines']}},\n",
       " {'intc': {'alias': ['$intc',\n",
       "    'intc',\n",
       "    'intel corporation corp',\n",
       "    'intel corporation',\n",
       "    'intel']}},\n",
       " {'dis': {'alias': ['$dis', 'dis', 'walt disney', 'disney', 'waltdisney']}},\n",
       " {'cat': {'alias': ['$cat',\n",
       "    'cat',\n",
       "    'caterpillar inc',\n",
       "    'caterpillar inc',\n",
       "    'caterpillarinc']}},\n",
       " {'csco': {'alias': ['$csco',\n",
       "    'csco',\n",
       "    'cisco systems inc',\n",
       "    'cisco systems',\n",
       "    'cisco']}},\n",
       " {'axp': {'alias': ['$axp',\n",
       "    'axp',\n",
       "    'american express',\n",
       "    'american express',\n",
       "    'amex',\n",
       "    'americanexpress']}},\n",
       " {'ba': {'alias': ['$ba', 'ba', 'boeing', 'boeing']}},\n",
       " {'amgn': {'alias': ['$amgn', 'amgn', 'amgen inc', 'amgen']}},\n",
       " {'aapl': {'alias': ['$aapl', 'aapl', 'apple inc', 'apple inc', 'appleinc']}},\n",
       " {'dow': {'alias': ['$dow', 'dow', 'dow inc.', 'dow']}}]"
      ]
     },
     "execution_count": 54,
     "metadata": {},
     "output_type": "execute_result"
    }
   ],
   "source": [
    "twitter_fetcher.companies"
   ]
  },
  {
   "cell_type": "code",
   "execution_count": 8,
   "id": "b23c1398",
   "metadata": {
    "ExecuteTime": {
     "end_time": "2021-10-21T23:45:59.460058Z",
     "start_time": "2021-10-21T23:45:59.414487Z"
    }
   },
   "outputs": [
    {
     "data": {
      "text/html": [
       "<div>\n",
       "<style scoped>\n",
       "    .dataframe tbody tr th:only-of-type {\n",
       "        vertical-align: middle;\n",
       "    }\n",
       "\n",
       "    .dataframe tbody tr th {\n",
       "        vertical-align: top;\n",
       "    }\n",
       "\n",
       "    .dataframe thead th {\n",
       "        text-align: right;\n",
       "    }\n",
       "</style>\n",
       "<table border=\"1\" class=\"dataframe\">\n",
       "  <thead>\n",
       "    <tr style=\"text-align: right;\">\n",
       "      <th></th>\n",
       "      <th>datetime</th>\n",
       "      <th>tweet_id</th>\n",
       "      <th>text</th>\n",
       "      <th>username</th>\n",
       "      <th>ticker_symbol</th>\n",
       "      <th>date</th>\n",
       "      <th>month</th>\n",
       "    </tr>\n",
       "  </thead>\n",
       "  <tbody>\n",
       "    <tr>\n",
       "      <th>0</th>\n",
       "      <td>2016-12-03 02:45:16+00:00</td>\n",
       "      <td>804879143645102080</td>\n",
       "      <td>Insider Selling: Walgreens Boots Alliance Inc....</td>\n",
       "      <td>TickerReport</td>\n",
       "      <td>wba</td>\n",
       "      <td>2016-12-03</td>\n",
       "      <td>12</td>\n",
       "    </tr>\n",
       "    <tr>\n",
       "      <th>1</th>\n",
       "      <td>2016-12-03 02:43:14+00:00</td>\n",
       "      <td>804878633785556992</td>\n",
       "      <td>Insider Selling: Walgreens Boots Alliance Inc....</td>\n",
       "      <td>TickerReport</td>\n",
       "      <td>wba</td>\n",
       "      <td>2016-12-03</td>\n",
       "      <td>12</td>\n",
       "    </tr>\n",
       "    <tr>\n",
       "      <th>2</th>\n",
       "      <td>2016-11-30 03:53:22+00:00</td>\n",
       "      <td>803809117081047040</td>\n",
       "      <td>Walgreens Boots Alliance Inc. (WBA) EVP Sells ...</td>\n",
       "      <td>CFinancialNews</td>\n",
       "      <td>wba</td>\n",
       "      <td>2016-11-30</td>\n",
       "      <td>11</td>\n",
       "    </tr>\n",
       "    <tr>\n",
       "      <th>3</th>\n",
       "      <td>2016-11-14 22:26:01+00:00</td>\n",
       "      <td>798290920848228352</td>\n",
       "      <td>Walgreens Boots Alliance Inc. (WBA) Given a $9...</td>\n",
       "      <td>bfsi_financial</td>\n",
       "      <td>wba</td>\n",
       "      <td>2016-11-14</td>\n",
       "      <td>11</td>\n",
       "    </tr>\n",
       "    <tr>\n",
       "      <th>4</th>\n",
       "      <td>2016-11-14 22:26:01+00:00</td>\n",
       "      <td>798290920793722880</td>\n",
       "      <td>Walgreens Boots Alliance Inc. (WBA) Given a $9...</td>\n",
       "      <td>bfsi_ibb</td>\n",
       "      <td>wba</td>\n",
       "      <td>2016-11-14</td>\n",
       "      <td>11</td>\n",
       "    </tr>\n",
       "    <tr>\n",
       "      <th>...</th>\n",
       "      <td>...</td>\n",
       "      <td>...</td>\n",
       "      <td>...</td>\n",
       "      <td>...</td>\n",
       "      <td>...</td>\n",
       "      <td>...</td>\n",
       "      <td>...</td>\n",
       "    </tr>\n",
       "    <tr>\n",
       "      <th>251</th>\n",
       "      <td>2016-10-13 17:46:41+00:00</td>\n",
       "      <td>786624212119064576</td>\n",
       "      <td>Help identify a burglar\\n\\nOn 10-11-16, at app...</td>\n",
       "      <td>CalCoSheriffAL</td>\n",
       "      <td>cvx</td>\n",
       "      <td>2016-10-13</td>\n",
       "      <td>10</td>\n",
       "    </tr>\n",
       "    <tr>\n",
       "      <th>252</th>\n",
       "      <td>2016-10-11 00:32:19+00:00</td>\n",
       "      <td>785639129279266817</td>\n",
       "      <td>Chevron Corp.'s equal weight rating reiterated...</td>\n",
       "      <td>MarketBeatCom</td>\n",
       "      <td>cvx</td>\n",
       "      <td>2016-10-11</td>\n",
       "      <td>10</td>\n",
       "    </tr>\n",
       "    <tr>\n",
       "      <th>253</th>\n",
       "      <td>2016-10-08 11:07:10+00:00</td>\n",
       "      <td>784711732035891200</td>\n",
       "      <td>#VintageJewelry Silver Bracelet Chevron Silver...</td>\n",
       "      <td>VJSE2</td>\n",
       "      <td>cvx</td>\n",
       "      <td>2016-10-08</td>\n",
       "      <td>10</td>\n",
       "    </tr>\n",
       "    <tr>\n",
       "      <th>254</th>\n",
       "      <td>2016-10-04 05:52:52+00:00</td>\n",
       "      <td>783183082127962112</td>\n",
       "      <td>Ohne Titel Chevron Sweater Dress - $100.00  \\n...</td>\n",
       "      <td>Blacktradelines</td>\n",
       "      <td>cvx</td>\n",
       "      <td>2016-10-04</td>\n",
       "      <td>10</td>\n",
       "    </tr>\n",
       "    <tr>\n",
       "      <th>255</th>\n",
       "      <td>2016-10-01 19:12:32+00:00</td>\n",
       "      <td>782297161216262144</td>\n",
       "      <td>9-h15 Stcl #Postmark #Anthropologie Chevron St...</td>\n",
       "      <td>BudAngisPlace</td>\n",
       "      <td>cvx</td>\n",
       "      <td>2016-10-01</td>\n",
       "      <td>10</td>\n",
       "    </tr>\n",
       "  </tbody>\n",
       "</table>\n",
       "<p>256 rows × 7 columns</p>\n",
       "</div>"
      ],
      "text/plain": [
       "                     datetime            tweet_id  \\\n",
       "0   2016-12-03 02:45:16+00:00  804879143645102080   \n",
       "1   2016-12-03 02:43:14+00:00  804878633785556992   \n",
       "2   2016-11-30 03:53:22+00:00  803809117081047040   \n",
       "3   2016-11-14 22:26:01+00:00  798290920848228352   \n",
       "4   2016-11-14 22:26:01+00:00  798290920793722880   \n",
       "..                        ...                 ...   \n",
       "251 2016-10-13 17:46:41+00:00  786624212119064576   \n",
       "252 2016-10-11 00:32:19+00:00  785639129279266817   \n",
       "253 2016-10-08 11:07:10+00:00  784711732035891200   \n",
       "254 2016-10-04 05:52:52+00:00  783183082127962112   \n",
       "255 2016-10-01 19:12:32+00:00  782297161216262144   \n",
       "\n",
       "                                                  text         username  \\\n",
       "0    Insider Selling: Walgreens Boots Alliance Inc....     TickerReport   \n",
       "1    Insider Selling: Walgreens Boots Alliance Inc....     TickerReport   \n",
       "2    Walgreens Boots Alliance Inc. (WBA) EVP Sells ...   CFinancialNews   \n",
       "3    Walgreens Boots Alliance Inc. (WBA) Given a $9...   bfsi_financial   \n",
       "4    Walgreens Boots Alliance Inc. (WBA) Given a $9...         bfsi_ibb   \n",
       "..                                                 ...              ...   \n",
       "251  Help identify a burglar\\n\\nOn 10-11-16, at app...   CalCoSheriffAL   \n",
       "252  Chevron Corp.'s equal weight rating reiterated...    MarketBeatCom   \n",
       "253  #VintageJewelry Silver Bracelet Chevron Silver...            VJSE2   \n",
       "254  Ohne Titel Chevron Sweater Dress - $100.00  \\n...  Blacktradelines   \n",
       "255  9-h15 Stcl #Postmark #Anthropologie Chevron St...    BudAngisPlace   \n",
       "\n",
       "    ticker_symbol        date  month  \n",
       "0             wba  2016-12-03     12  \n",
       "1             wba  2016-12-03     12  \n",
       "2             wba  2016-11-30     11  \n",
       "3             wba  2016-11-14     11  \n",
       "4             wba  2016-11-14     11  \n",
       "..            ...         ...    ...  \n",
       "251           cvx  2016-10-13     10  \n",
       "252           cvx  2016-10-11     10  \n",
       "253           cvx  2016-10-08     10  \n",
       "254           cvx  2016-10-04     10  \n",
       "255           cvx  2016-10-01     10  \n",
       "\n",
       "[256 rows x 7 columns]"
      ]
     },
     "execution_count": 8,
     "metadata": {},
     "output_type": "execute_result"
    }
   ],
   "source": [
    "tweets"
   ]
  },
  {
   "cell_type": "code",
   "execution_count": 41,
   "id": "7e860fe3",
   "metadata": {
    "ExecuteTime": {
     "end_time": "2021-10-21T23:40:01.041217Z",
     "start_time": "2021-10-21T23:40:01.011156Z"
    }
   },
   "outputs": [],
   "source": [
    "tweets.to_csv('quarter_1.csv', index=False)"
   ]
  },
  {
   "cell_type": "code",
   "execution_count": 9,
   "id": "b197dc2c",
   "metadata": {
    "ExecuteTime": {
     "end_time": "2021-10-21T23:49:36.738949Z",
     "start_time": "2021-10-21T23:49:36.700387Z"
    }
   },
   "outputs": [
    {
     "data": {
      "text/html": [
       "<div>\n",
       "<style scoped>\n",
       "    .dataframe tbody tr th:only-of-type {\n",
       "        vertical-align: middle;\n",
       "    }\n",
       "\n",
       "    .dataframe tbody tr th {\n",
       "        vertical-align: top;\n",
       "    }\n",
       "\n",
       "    .dataframe thead th {\n",
       "        text-align: right;\n",
       "    }\n",
       "</style>\n",
       "<table border=\"1\" class=\"dataframe\">\n",
       "  <thead>\n",
       "    <tr style=\"text-align: right;\">\n",
       "      <th></th>\n",
       "      <th>datetime</th>\n",
       "      <th>tweet_id</th>\n",
       "      <th>text</th>\n",
       "      <th>username</th>\n",
       "      <th>ticker_symbol</th>\n",
       "      <th>date</th>\n",
       "      <th>month</th>\n",
       "    </tr>\n",
       "  </thead>\n",
       "  <tbody>\n",
       "    <tr>\n",
       "      <th>0</th>\n",
       "      <td>2016-12-03 02:45:16+00:00</td>\n",
       "      <td>804879143645102080</td>\n",
       "      <td>Insider Selling: Walgreens Boots Alliance Inc....</td>\n",
       "      <td>TickerReport</td>\n",
       "      <td>wba</td>\n",
       "      <td>2016-12-03</td>\n",
       "      <td>12</td>\n",
       "    </tr>\n",
       "    <tr>\n",
       "      <th>1</th>\n",
       "      <td>2016-12-03 02:43:14+00:00</td>\n",
       "      <td>804878633785556992</td>\n",
       "      <td>Insider Selling: Walgreens Boots Alliance Inc....</td>\n",
       "      <td>TickerReport</td>\n",
       "      <td>wba</td>\n",
       "      <td>2016-12-03</td>\n",
       "      <td>12</td>\n",
       "    </tr>\n",
       "    <tr>\n",
       "      <th>2</th>\n",
       "      <td>2016-11-30 03:53:22+00:00</td>\n",
       "      <td>803809117081047040</td>\n",
       "      <td>Walgreens Boots Alliance Inc. (WBA) EVP Sells ...</td>\n",
       "      <td>CFinancialNews</td>\n",
       "      <td>wba</td>\n",
       "      <td>2016-11-30</td>\n",
       "      <td>11</td>\n",
       "    </tr>\n",
       "    <tr>\n",
       "      <th>3</th>\n",
       "      <td>2016-11-14 22:26:01+00:00</td>\n",
       "      <td>798290920848228352</td>\n",
       "      <td>Walgreens Boots Alliance Inc. (WBA) Given a $9...</td>\n",
       "      <td>bfsi_financial</td>\n",
       "      <td>wba</td>\n",
       "      <td>2016-11-14</td>\n",
       "      <td>11</td>\n",
       "    </tr>\n",
       "    <tr>\n",
       "      <th>4</th>\n",
       "      <td>2016-11-14 22:26:01+00:00</td>\n",
       "      <td>798290920793722880</td>\n",
       "      <td>Walgreens Boots Alliance Inc. (WBA) Given a $9...</td>\n",
       "      <td>bfsi_ibb</td>\n",
       "      <td>wba</td>\n",
       "      <td>2016-11-14</td>\n",
       "      <td>11</td>\n",
       "    </tr>\n",
       "    <tr>\n",
       "      <th>...</th>\n",
       "      <td>...</td>\n",
       "      <td>...</td>\n",
       "      <td>...</td>\n",
       "      <td>...</td>\n",
       "      <td>...</td>\n",
       "      <td>...</td>\n",
       "      <td>...</td>\n",
       "    </tr>\n",
       "    <tr>\n",
       "      <th>251</th>\n",
       "      <td>2016-10-13 17:46:41+00:00</td>\n",
       "      <td>786624212119064576</td>\n",
       "      <td>Help identify a burglar\\n\\nOn 10-11-16, at app...</td>\n",
       "      <td>CalCoSheriffAL</td>\n",
       "      <td>cvx</td>\n",
       "      <td>2016-10-13</td>\n",
       "      <td>10</td>\n",
       "    </tr>\n",
       "    <tr>\n",
       "      <th>252</th>\n",
       "      <td>2016-10-11 00:32:19+00:00</td>\n",
       "      <td>785639129279266817</td>\n",
       "      <td>Chevron Corp.'s equal weight rating reiterated...</td>\n",
       "      <td>MarketBeatCom</td>\n",
       "      <td>cvx</td>\n",
       "      <td>2016-10-11</td>\n",
       "      <td>10</td>\n",
       "    </tr>\n",
       "    <tr>\n",
       "      <th>253</th>\n",
       "      <td>2016-10-08 11:07:10+00:00</td>\n",
       "      <td>784711732035891200</td>\n",
       "      <td>#VintageJewelry Silver Bracelet Chevron Silver...</td>\n",
       "      <td>VJSE2</td>\n",
       "      <td>cvx</td>\n",
       "      <td>2016-10-08</td>\n",
       "      <td>10</td>\n",
       "    </tr>\n",
       "    <tr>\n",
       "      <th>254</th>\n",
       "      <td>2016-10-04 05:52:52+00:00</td>\n",
       "      <td>783183082127962112</td>\n",
       "      <td>Ohne Titel Chevron Sweater Dress - $100.00  \\n...</td>\n",
       "      <td>Blacktradelines</td>\n",
       "      <td>cvx</td>\n",
       "      <td>2016-10-04</td>\n",
       "      <td>10</td>\n",
       "    </tr>\n",
       "    <tr>\n",
       "      <th>255</th>\n",
       "      <td>2016-10-01 19:12:32+00:00</td>\n",
       "      <td>782297161216262144</td>\n",
       "      <td>9-h15 Stcl #Postmark #Anthropologie Chevron St...</td>\n",
       "      <td>BudAngisPlace</td>\n",
       "      <td>cvx</td>\n",
       "      <td>2016-10-01</td>\n",
       "      <td>10</td>\n",
       "    </tr>\n",
       "  </tbody>\n",
       "</table>\n",
       "<p>256 rows × 7 columns</p>\n",
       "</div>"
      ],
      "text/plain": [
       "                     datetime            tweet_id  \\\n",
       "0   2016-12-03 02:45:16+00:00  804879143645102080   \n",
       "1   2016-12-03 02:43:14+00:00  804878633785556992   \n",
       "2   2016-11-30 03:53:22+00:00  803809117081047040   \n",
       "3   2016-11-14 22:26:01+00:00  798290920848228352   \n",
       "4   2016-11-14 22:26:01+00:00  798290920793722880   \n",
       "..                        ...                 ...   \n",
       "251 2016-10-13 17:46:41+00:00  786624212119064576   \n",
       "252 2016-10-11 00:32:19+00:00  785639129279266817   \n",
       "253 2016-10-08 11:07:10+00:00  784711732035891200   \n",
       "254 2016-10-04 05:52:52+00:00  783183082127962112   \n",
       "255 2016-10-01 19:12:32+00:00  782297161216262144   \n",
       "\n",
       "                                                  text         username  \\\n",
       "0    Insider Selling: Walgreens Boots Alliance Inc....     TickerReport   \n",
       "1    Insider Selling: Walgreens Boots Alliance Inc....     TickerReport   \n",
       "2    Walgreens Boots Alliance Inc. (WBA) EVP Sells ...   CFinancialNews   \n",
       "3    Walgreens Boots Alliance Inc. (WBA) Given a $9...   bfsi_financial   \n",
       "4    Walgreens Boots Alliance Inc. (WBA) Given a $9...         bfsi_ibb   \n",
       "..                                                 ...              ...   \n",
       "251  Help identify a burglar\\n\\nOn 10-11-16, at app...   CalCoSheriffAL   \n",
       "252  Chevron Corp.'s equal weight rating reiterated...    MarketBeatCom   \n",
       "253  #VintageJewelry Silver Bracelet Chevron Silver...            VJSE2   \n",
       "254  Ohne Titel Chevron Sweater Dress - $100.00  \\n...  Blacktradelines   \n",
       "255  9-h15 Stcl #Postmark #Anthropologie Chevron St...    BudAngisPlace   \n",
       "\n",
       "    ticker_symbol        date  month  \n",
       "0             wba  2016-12-03     12  \n",
       "1             wba  2016-12-03     12  \n",
       "2             wba  2016-11-30     11  \n",
       "3             wba  2016-11-14     11  \n",
       "4             wba  2016-11-14     11  \n",
       "..            ...         ...    ...  \n",
       "251           cvx  2016-10-13     10  \n",
       "252           cvx  2016-10-11     10  \n",
       "253           cvx  2016-10-08     10  \n",
       "254           cvx  2016-10-04     10  \n",
       "255           cvx  2016-10-01     10  \n",
       "\n",
       "[256 rows x 7 columns]"
      ]
     },
     "execution_count": 9,
     "metadata": {},
     "output_type": "execute_result"
    }
   ],
   "source": [
    "tweets"
   ]
  },
  {
   "cell_type": "code",
   "execution_count": null,
   "id": "de6b7307",
   "metadata": {},
   "outputs": [],
   "source": []
  },
  {
   "cell_type": "code",
   "execution_count": null,
   "id": "8ab7b682",
   "metadata": {},
   "outputs": [],
   "source": []
  },
  {
   "cell_type": "code",
   "execution_count": 49,
   "id": "72e352c7",
   "metadata": {
    "ExecuteTime": {
     "end_time": "2021-10-21T23:42:32.326691Z",
     "start_time": "2021-10-21T23:42:32.297142Z"
    }
   },
   "outputs": [],
   "source": [
    "tweets_df = pd.read_csv('quarter_1.csv')"
   ]
  },
  {
   "cell_type": "code",
   "execution_count": 50,
   "id": "91804cc1",
   "metadata": {
    "ExecuteTime": {
     "end_time": "2021-10-21T23:42:37.320267Z",
     "start_time": "2021-10-21T23:42:37.290458Z"
    }
   },
   "outputs": [],
   "source": [
    "tweets_df.datetime = pd.to_datetime(tweets_df.datetime)"
   ]
  },
  {
   "cell_type": "code",
   "execution_count": 51,
   "id": "1fffb329",
   "metadata": {
    "ExecuteTime": {
     "end_time": "2021-10-21T23:42:44.126163Z",
     "start_time": "2021-10-21T23:42:44.087516Z"
    }
   },
   "outputs": [
    {
     "data": {
      "text/html": [
       "<div>\n",
       "<style scoped>\n",
       "    .dataframe tbody tr th:only-of-type {\n",
       "        vertical-align: middle;\n",
       "    }\n",
       "\n",
       "    .dataframe tbody tr th {\n",
       "        vertical-align: top;\n",
       "    }\n",
       "\n",
       "    .dataframe thead th {\n",
       "        text-align: right;\n",
       "    }\n",
       "</style>\n",
       "<table border=\"1\" class=\"dataframe\">\n",
       "  <thead>\n",
       "    <tr style=\"text-align: right;\">\n",
       "      <th></th>\n",
       "      <th>datetime</th>\n",
       "      <th>tweet_id</th>\n",
       "      <th>text</th>\n",
       "      <th>username</th>\n",
       "      <th>ticker_symbol</th>\n",
       "      <th>date</th>\n",
       "      <th>month</th>\n",
       "    </tr>\n",
       "  </thead>\n",
       "  <tbody>\n",
       "    <tr>\n",
       "      <th>0</th>\n",
       "      <td>2016-12-03 02:45:16+00:00</td>\n",
       "      <td>804879143645102080</td>\n",
       "      <td>Insider Selling: Walgreens Boots Alliance Inc....</td>\n",
       "      <td>TickerReport</td>\n",
       "      <td>wba</td>\n",
       "      <td>2016-12-03</td>\n",
       "      <td>12</td>\n",
       "    </tr>\n",
       "    <tr>\n",
       "      <th>1</th>\n",
       "      <td>2016-12-03 02:43:14+00:00</td>\n",
       "      <td>804878633785556992</td>\n",
       "      <td>Insider Selling: Walgreens Boots Alliance Inc....</td>\n",
       "      <td>TickerReport</td>\n",
       "      <td>wba</td>\n",
       "      <td>2016-12-03</td>\n",
       "      <td>12</td>\n",
       "    </tr>\n",
       "    <tr>\n",
       "      <th>2</th>\n",
       "      <td>2016-11-30 03:53:22+00:00</td>\n",
       "      <td>803809117081047040</td>\n",
       "      <td>Walgreens Boots Alliance Inc. (WBA) EVP Sells ...</td>\n",
       "      <td>CFinancialNews</td>\n",
       "      <td>wba</td>\n",
       "      <td>2016-11-30</td>\n",
       "      <td>11</td>\n",
       "    </tr>\n",
       "    <tr>\n",
       "      <th>3</th>\n",
       "      <td>2016-11-14 22:26:01+00:00</td>\n",
       "      <td>798290920848228352</td>\n",
       "      <td>Walgreens Boots Alliance Inc. (WBA) Given a $9...</td>\n",
       "      <td>bfsi_financial</td>\n",
       "      <td>wba</td>\n",
       "      <td>2016-11-14</td>\n",
       "      <td>11</td>\n",
       "    </tr>\n",
       "    <tr>\n",
       "      <th>4</th>\n",
       "      <td>2016-11-14 22:26:01+00:00</td>\n",
       "      <td>798290920793722880</td>\n",
       "      <td>Walgreens Boots Alliance Inc. (WBA) Given a $9...</td>\n",
       "      <td>bfsi_ibb</td>\n",
       "      <td>wba</td>\n",
       "      <td>2016-11-14</td>\n",
       "      <td>11</td>\n",
       "    </tr>\n",
       "    <tr>\n",
       "      <th>...</th>\n",
       "      <td>...</td>\n",
       "      <td>...</td>\n",
       "      <td>...</td>\n",
       "      <td>...</td>\n",
       "      <td>...</td>\n",
       "      <td>...</td>\n",
       "      <td>...</td>\n",
       "    </tr>\n",
       "    <tr>\n",
       "      <th>251</th>\n",
       "      <td>2016-10-13 17:46:41+00:00</td>\n",
       "      <td>786624212119064576</td>\n",
       "      <td>Help identify a burglar\\n\\nOn 10-11-16, at app...</td>\n",
       "      <td>CalCoSheriffAL</td>\n",
       "      <td>cvx</td>\n",
       "      <td>2016-10-13</td>\n",
       "      <td>10</td>\n",
       "    </tr>\n",
       "    <tr>\n",
       "      <th>252</th>\n",
       "      <td>2016-10-11 00:32:19+00:00</td>\n",
       "      <td>785639129279266817</td>\n",
       "      <td>Chevron Corp.'s equal weight rating reiterated...</td>\n",
       "      <td>MarketBeatCom</td>\n",
       "      <td>cvx</td>\n",
       "      <td>2016-10-11</td>\n",
       "      <td>10</td>\n",
       "    </tr>\n",
       "    <tr>\n",
       "      <th>253</th>\n",
       "      <td>2016-10-08 11:07:10+00:00</td>\n",
       "      <td>784711732035891200</td>\n",
       "      <td>#VintageJewelry Silver Bracelet Chevron Silver...</td>\n",
       "      <td>VJSE2</td>\n",
       "      <td>cvx</td>\n",
       "      <td>2016-10-08</td>\n",
       "      <td>10</td>\n",
       "    </tr>\n",
       "    <tr>\n",
       "      <th>254</th>\n",
       "      <td>2016-10-04 05:52:52+00:00</td>\n",
       "      <td>783183082127962112</td>\n",
       "      <td>Ohne Titel Chevron Sweater Dress - $100.00  \\n...</td>\n",
       "      <td>Blacktradelines</td>\n",
       "      <td>cvx</td>\n",
       "      <td>2016-10-04</td>\n",
       "      <td>10</td>\n",
       "    </tr>\n",
       "    <tr>\n",
       "      <th>255</th>\n",
       "      <td>2016-10-01 19:12:32+00:00</td>\n",
       "      <td>782297161216262144</td>\n",
       "      <td>9-h15 Stcl #Postmark #Anthropologie Chevron St...</td>\n",
       "      <td>BudAngisPlace</td>\n",
       "      <td>cvx</td>\n",
       "      <td>2016-10-01</td>\n",
       "      <td>10</td>\n",
       "    </tr>\n",
       "  </tbody>\n",
       "</table>\n",
       "<p>256 rows × 7 columns</p>\n",
       "</div>"
      ],
      "text/plain": [
       "                     datetime            tweet_id  \\\n",
       "0   2016-12-03 02:45:16+00:00  804879143645102080   \n",
       "1   2016-12-03 02:43:14+00:00  804878633785556992   \n",
       "2   2016-11-30 03:53:22+00:00  803809117081047040   \n",
       "3   2016-11-14 22:26:01+00:00  798290920848228352   \n",
       "4   2016-11-14 22:26:01+00:00  798290920793722880   \n",
       "..                        ...                 ...   \n",
       "251 2016-10-13 17:46:41+00:00  786624212119064576   \n",
       "252 2016-10-11 00:32:19+00:00  785639129279266817   \n",
       "253 2016-10-08 11:07:10+00:00  784711732035891200   \n",
       "254 2016-10-04 05:52:52+00:00  783183082127962112   \n",
       "255 2016-10-01 19:12:32+00:00  782297161216262144   \n",
       "\n",
       "                                                  text         username  \\\n",
       "0    Insider Selling: Walgreens Boots Alliance Inc....     TickerReport   \n",
       "1    Insider Selling: Walgreens Boots Alliance Inc....     TickerReport   \n",
       "2    Walgreens Boots Alliance Inc. (WBA) EVP Sells ...   CFinancialNews   \n",
       "3    Walgreens Boots Alliance Inc. (WBA) Given a $9...   bfsi_financial   \n",
       "4    Walgreens Boots Alliance Inc. (WBA) Given a $9...         bfsi_ibb   \n",
       "..                                                 ...              ...   \n",
       "251  Help identify a burglar\\n\\nOn 10-11-16, at app...   CalCoSheriffAL   \n",
       "252  Chevron Corp.'s equal weight rating reiterated...    MarketBeatCom   \n",
       "253  #VintageJewelry Silver Bracelet Chevron Silver...            VJSE2   \n",
       "254  Ohne Titel Chevron Sweater Dress - $100.00  \\n...  Blacktradelines   \n",
       "255  9-h15 Stcl #Postmark #Anthropologie Chevron St...    BudAngisPlace   \n",
       "\n",
       "    ticker_symbol        date  month  \n",
       "0             wba  2016-12-03     12  \n",
       "1             wba  2016-12-03     12  \n",
       "2             wba  2016-11-30     11  \n",
       "3             wba  2016-11-14     11  \n",
       "4             wba  2016-11-14     11  \n",
       "..            ...         ...    ...  \n",
       "251           cvx  2016-10-13     10  \n",
       "252           cvx  2016-10-11     10  \n",
       "253           cvx  2016-10-08     10  \n",
       "254           cvx  2016-10-04     10  \n",
       "255           cvx  2016-10-01     10  \n",
       "\n",
       "[256 rows x 7 columns]"
      ]
     },
     "execution_count": 51,
     "metadata": {},
     "output_type": "execute_result"
    }
   ],
   "source": [
    "tweets_df.assign(\n",
    "    date = tweets_df.datetime.dt.date,\n",
    "    month = tweets_df.datetime.dt.month\n",
    ")"
   ]
  },
  {
   "cell_type": "code",
   "execution_count": null,
   "id": "052530e5",
   "metadata": {},
   "outputs": [],
   "source": []
  },
  {
   "cell_type": "code",
   "execution_count": 4,
   "id": "5f94352b",
   "metadata": {},
   "outputs": [],
   "source": [
    "j = json.load(open(\"./data/raw/sec/raw.json\"))"
   ]
  },
  {
   "cell_type": "code",
   "execution_count": 10,
   "id": "a267d132",
   "metadata": {},
   "outputs": [
    {
     "name": "stdout",
     "output_type": "stream",
     "text": [
      "17\n",
      "19\n",
      "21\n",
      "20\n",
      "18\n"
     ]
    }
   ],
   "source": [
    "for k,v in j['MMM'].items():\n",
    "    print(k)"
   ]
  },
  {
   "cell_type": "code",
   "execution_count": null,
   "id": "8fc00c13",
   "metadata": {},
   "outputs": [],
   "source": []
  }
 ],
 "metadata": {
  "kernelspec": {
   "display_name": "Python 3 (ipykernel)",
   "language": "python",
   "name": "python3"
  },
  "language_info": {
   "codemirror_mode": {
    "name": "ipython",
    "version": 3
   },
   "file_extension": ".py",
   "mimetype": "text/x-python",
   "name": "python",
   "nbconvert_exporter": "python",
   "pygments_lexer": "ipython3",
   "version": "3.8.5"
  }
 },
 "nbformat": 4,
 "nbformat_minor": 5
}
