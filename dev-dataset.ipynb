{
 "cells": [
  {
   "cell_type": "code",
   "execution_count": 6,
   "id": "d9ddce24",
   "metadata": {
    "ExecuteTime": {
     "end_time": "2021-10-30T19:50:01.348062Z",
     "start_time": "2021-10-30T19:50:01.130194Z"
    }
   },
   "outputs": [],
   "source": [
    "from glob import glob\n",
    "import pandas as pd\n",
    "import numpy as np"
   ]
  },
  {
   "cell_type": "code",
   "execution_count": 2,
   "id": "02947e8a",
   "metadata": {
    "ExecuteTime": {
     "end_time": "2021-10-30T18:33:46.477145Z",
     "start_time": "2021-10-30T18:33:46.461318Z"
    }
   },
   "outputs": [
    {
     "data": {
      "text/plain": [
       "['data/twitter/co_occ_2020_q3.npy',\n",
       " 'data/twitter/co_occ_2020_q2.npy',\n",
       " 'data/twitter/co_occ_2018_q4.npy',\n",
       " 'data/twitter/co_occ_2020_q1.npy',\n",
       " 'data/twitter/co_occ_2018_q1.npy',\n",
       " 'data/twitter/co_occ_2016_q4.npy',\n",
       " 'data/twitter/co_occ_2020_q4.npy',\n",
       " 'data/twitter/co_occ_2018_q2.npy',\n",
       " 'data/twitter/co_occ_2018_q3.npy',\n",
       " 'data/twitter/co_occ_2021_q1.npy',\n",
       " 'data/twitter/co_occ_2017_q1.npy',\n",
       " 'data/twitter/co_occ_2019_q4.npy',\n",
       " 'data/twitter/co_occ_2021_q2.npy',\n",
       " 'data/twitter/co_occ_2017_q3.npy',\n",
       " 'data/twitter/co_occ_2017_q2.npy',\n",
       " 'data/twitter/co_occ_2021_q3.npy',\n",
       " 'data/twitter/co_occ_2019_q3.npy',\n",
       " 'data/twitter/co_occ_2019_q2.npy',\n",
       " 'data/twitter/co_occ_2019_q1.npy',\n",
       " 'data/twitter/co_occ_2017_q4.npy']"
      ]
     },
     "execution_count": 2,
     "metadata": {},
     "output_type": "execute_result"
    }
   ],
   "source": [
    "glob('data/twitter/*.npy')"
   ]
  },
  {
   "cell_type": "code",
   "execution_count": 3,
   "id": "7a66095c",
   "metadata": {
    "ExecuteTime": {
     "end_time": "2021-10-30T18:33:47.635307Z",
     "start_time": "2021-10-30T18:33:47.631978Z"
    }
   },
   "outputs": [],
   "source": []
  },
  {
   "cell_type": "code",
   "execution_count": 22,
   "id": "60ad17e6",
   "metadata": {
    "ExecuteTime": {
     "end_time": "2021-10-30T20:00:44.242681Z",
     "start_time": "2021-10-30T20:00:44.240085Z"
    }
   },
   "outputs": [],
   "source": [
    "import numpy as np\n",
    "import torch\n",
    "from torch_geometric.data import InMemoryDataset, Data"
   ]
  },
  {
   "cell_type": "code",
   "execution_count": 26,
   "id": "8db31772",
   "metadata": {
    "ExecuteTime": {
     "end_time": "2021-10-30T20:00:53.915961Z",
     "start_time": "2021-10-30T20:00:53.913161Z"
    },
    "scrolled": false
   },
   "outputs": [],
   "source": [
    "edges = np.load('data/raw/twitter/co_occ_2020_q3.npy',)"
   ]
  },
  {
   "cell_type": "code",
   "execution_count": 27,
   "id": "27641ba4",
   "metadata": {
    "ExecuteTime": {
     "end_time": "2021-10-30T20:00:54.479503Z",
     "start_time": "2021-10-30T20:00:54.477085Z"
    }
   },
   "outputs": [],
   "source": [
    "x = torch.zeros((30, 2))  # TODO\n",
    "y = torch.zeros((30))  # TODO"
   ]
  },
  {
   "cell_type": "code",
   "execution_count": 32,
   "id": "73d2d451",
   "metadata": {
    "ExecuteTime": {
     "end_time": "2021-10-30T20:01:09.826466Z",
     "start_time": "2021-10-30T20:01:09.823387Z"
    }
   },
   "outputs": [],
   "source": [
    "edge_index, edge_attr = dense_to_sparse(torch.from_numpy(edges))\n",
    "data = Data(, y = y, edge_index=edge_index, edge_attr=edge_attr)"
   ]
  },
  {
   "cell_type": "code",
   "execution_count": 33,
   "id": "04599241",
   "metadata": {
    "ExecuteTime": {
     "end_time": "2021-10-30T20:01:10.031730Z",
     "start_time": "2021-10-30T20:01:10.026995Z"
    }
   },
   "outputs": [
    {
     "data": {
      "text/html": [
       "<div>\n",
       "<style scoped>\n",
       "    .dataframe tbody tr th:only-of-type {\n",
       "        vertical-align: middle;\n",
       "    }\n",
       "\n",
       "    .dataframe tbody tr th {\n",
       "        vertical-align: top;\n",
       "    }\n",
       "\n",
       "    .dataframe thead th {\n",
       "        text-align: right;\n",
       "    }\n",
       "</style>\n",
       "<table border=\"1\" class=\"dataframe\">\n",
       "  <thead>\n",
       "    <tr style=\"text-align: right;\">\n",
       "      <th></th>\n",
       "    </tr>\n",
       "  </thead>\n",
       "  <tbody>\n",
       "  </tbody>\n",
       "</table>\n",
       "</div>"
      ],
      "text/plain": [
       "Empty DataFrame\n",
       "Columns: []\n",
       "Index: []"
      ]
     },
     "execution_count": 33,
     "metadata": {},
     "output_type": "execute_result"
    }
   ],
   "source": [
    "data.x"
   ]
  },
  {
   "cell_type": "code",
   "execution_count": 29,
   "id": "574eaa1c",
   "metadata": {
    "ExecuteTime": {
     "end_time": "2021-10-30T20:01:01.857888Z",
     "start_time": "2021-10-30T20:01:01.855743Z"
    }
   },
   "outputs": [],
   "source": [
    "from torch_geometric.utils import dense_to_sparse"
   ]
  },
  {
   "cell_type": "code",
   "execution_count": 1,
   "id": "21fd2ca6",
   "metadata": {
    "ExecuteTime": {
     "end_time": "2021-10-30T21:05:14.948696Z",
     "start_time": "2021-10-30T21:05:14.946163Z"
    },
    "scrolled": true
   },
   "outputs": [],
   "source": [
    "root = 'data'\n",
    "\n",
    "name = 'twitter'\n",
    "\n",
    "\n",
    "path = 'co_occ_2020_q3.npy'\n",
    "\n",
    "stock_path = 'stock_data.csv'"
   ]
  },
  {
   "cell_type": "code",
   "execution_count": 2,
   "id": "de4e85e8",
   "metadata": {
    "ExecuteTime": {
     "end_time": "2021-10-30T21:05:16.692432Z",
     "start_time": "2021-10-30T21:05:15.551915Z"
    }
   },
   "outputs": [],
   "source": [
    "from apulu.dataset.stock_graph_dataset import StockGraphDataset"
   ]
  },
  {
   "cell_type": "code",
   "execution_count": 3,
   "id": "e2260f7c",
   "metadata": {
    "ExecuteTime": {
     "end_time": "2021-10-30T21:05:16.773107Z",
     "start_time": "2021-10-30T21:05:16.694978Z"
    }
   },
   "outputs": [
    {
     "name": "stderr",
     "output_type": "stream",
     "text": [
      "Processing...\n",
      "Done!\n"
     ]
    }
   ],
   "source": [
    "ds = StockGraphDataset(root, name, path, stock_path)"
   ]
  },
  {
   "cell_type": "code",
   "execution_count": 4,
   "id": "59c2c437",
   "metadata": {
    "ExecuteTime": {
     "end_time": "2021-10-30T21:05:19.499741Z",
     "start_time": "2021-10-30T21:05:19.491385Z"
    }
   },
   "outputs": [
    {
     "data": {
      "text/plain": [
       "array([ 0.10233115, -0.06934881,  0.12580944,  0.12789172,  0.20720371,\n",
       "        0.1109164 , -0.0571026 , -0.03731639,  0.14830695,  0.14950947,\n",
       "        0.09412667,  0.0148313 ,  0.22257824, -0.01834918, -0.06056043,\n",
       "       -0.00269905,  0.13822062,  0.07510096,  0.05918844,  0.05521887,\n",
       "       -0.02357621,  0.02376258,  0.23413353,  0.05270876,  0.12013661,\n",
       "        0.0912544 ,  0.02448947,  0.02223484, -0.00933567,  0.09222514])"
      ]
     },
     "execution_count": 4,
     "metadata": {},
     "output_type": "execute_result"
    }
   ],
   "source": [
    "ds.data.y"
   ]
  },
  {
   "cell_type": "code",
   "execution_count": 6,
   "id": "0c005215",
   "metadata": {
    "ExecuteTime": {
     "end_time": "2021-10-30T21:05:27.029831Z",
     "start_time": "2021-10-30T21:05:27.026791Z"
    }
   },
   "outputs": [
    {
     "data": {
      "text/plain": [
       "(30, 64)"
      ]
     },
     "execution_count": 6,
     "metadata": {},
     "output_type": "execute_result"
    }
   ],
   "source": [
    "ds.data.x.shape"
   ]
  },
  {
   "cell_type": "code",
   "execution_count": 5,
   "id": "b510bf4a",
   "metadata": {
    "ExecuteTime": {
     "end_time": "2021-10-30T21:01:36.149960Z",
     "start_time": "2021-10-30T21:01:36.021881Z"
    }
   },
   "outputs": [
    {
     "name": "stdout",
     "output_type": "stream",
     "text": [
      "stock_data.csv \u001b[1m\u001b[36mtwitter\u001b[m\u001b[m\r\n"
     ]
    }
   ],
   "source": [
    "!ls data/raw"
   ]
  },
  {
   "cell_type": "code",
   "execution_count": null,
   "id": "053c2f74",
   "metadata": {},
   "outputs": [],
   "source": []
  },
  {
   "cell_type": "code",
   "execution_count": 45,
   "id": "37cc641d",
   "metadata": {
    "ExecuteTime": {
     "end_time": "2021-10-30T20:34:33.983126Z",
     "start_time": "2021-10-30T20:34:33.926462Z"
    }
   },
   "outputs": [],
   "source": [
    "df = pd.read_csv(\n",
    "                '../DataPipeline_Stock/stock_data.csv', \n",
    "                 index_col=0,\n",
    "                parse_dates=['Date']\n",
    "                )"
   ]
  },
  {
   "cell_type": "code",
   "execution_count": 51,
   "id": "a443f601",
   "metadata": {
    "ExecuteTime": {
     "end_time": "2021-10-30T20:37:28.033380Z",
     "start_time": "2021-10-30T20:37:28.031272Z"
    }
   },
   "outputs": [],
   "source": [
    "from datetime import date\n",
    "from dateutil.relativedelta import relativedelta"
   ]
  },
  {
   "cell_type": "code",
   "execution_count": 53,
   "id": "97174d2e",
   "metadata": {
    "ExecuteTime": {
     "end_time": "2021-10-30T20:37:42.905513Z",
     "start_time": "2021-10-30T20:37:42.902409Z"
    }
   },
   "outputs": [
    {
     "data": {
      "text/plain": [
       "relativedelta(month=3)"
      ]
     },
     "execution_count": 53,
     "metadata": {},
     "output_type": "execute_result"
    }
   ],
   "source": [
    "relativedelta(month=+3)"
   ]
  },
  {
   "cell_type": "code",
   "execution_count": 46,
   "id": "739d69b1",
   "metadata": {
    "ExecuteTime": {
     "end_time": "2021-10-30T20:34:36.629566Z",
     "start_time": "2021-10-30T20:34:36.626443Z"
    }
   },
   "outputs": [
    {
     "data": {
      "text/plain": [
       "['co', 'occ', '2020', 'q3']"
      ]
     },
     "execution_count": 46,
     "metadata": {},
     "output_type": "execute_result"
    }
   ],
   "source": [
    "'co_occ_2020_q3'.split('_')"
   ]
  },
  {
   "cell_type": "code",
   "execution_count": 70,
   "id": "51863f7a",
   "metadata": {
    "ExecuteTime": {
     "end_time": "2021-10-30T20:42:18.416800Z",
     "start_time": "2021-10-30T20:42:18.414799Z"
    }
   },
   "outputs": [],
   "source": [
    "year = 2020\n",
    "quarter = int('3')"
   ]
  },
  {
   "cell_type": "code",
   "execution_count": 71,
   "id": "d37471fa",
   "metadata": {
    "ExecuteTime": {
     "end_time": "2021-10-30T20:42:18.878230Z",
     "start_time": "2021-10-30T20:42:18.705566Z"
    },
    "scrolled": true
   },
   "outputs": [
    {
     "data": {
      "text/plain": [
       "0        2016-03-03\n",
       "1        2016-03-04\n",
       "2        2016-03-05\n",
       "3        2016-03-06\n",
       "4        2016-03-07\n",
       "            ...    \n",
       "37117    2021-03-24\n",
       "37118    2021-03-27\n",
       "37119    2021-03-28\n",
       "37120    2021-03-29\n",
       "37121    2021-03-30\n",
       "Name: Date, Length: 37122, dtype: object"
      ]
     },
     "execution_count": 71,
     "metadata": {},
     "output_type": "execute_result"
    }
   ],
   "source": [
    "df.Date.dt.date + relativedelta(month=+3)"
   ]
  },
  {
   "cell_type": "code",
   "execution_count": 81,
   "id": "ce2960ba",
   "metadata": {
    "ExecuteTime": {
     "end_time": "2021-10-30T20:49:46.254412Z",
     "start_time": "2021-10-30T20:49:46.249098Z"
    }
   },
   "outputs": [],
   "source": [
    "curr = df[(df.Date.dt.year == int(year)) & (df.Date.dt.quarter == int(quarter))]"
   ]
  },
  {
   "cell_type": "code",
   "execution_count": null,
   "id": "e9633f04",
   "metadata": {},
   "outputs": [],
   "source": [
    "df[]"
   ]
  },
  {
   "cell_type": "code",
   "execution_count": 93,
   "id": "73c1f4d6",
   "metadata": {
    "ExecuteTime": {
     "end_time": "2021-10-30T20:55:18.575231Z",
     "start_time": "2021-10-30T20:55:18.570089Z"
    }
   },
   "outputs": [
    {
     "data": {
      "text/plain": [
       "0        4\n",
       "1        4\n",
       "2        4\n",
       "3        4\n",
       "4        4\n",
       "        ..\n",
       "37117    3\n",
       "37118    3\n",
       "37119    3\n",
       "37120    3\n",
       "37121    3\n",
       "Name: Date, Length: 37122, dtype: int64"
      ]
     },
     "execution_count": 93,
     "metadata": {},
     "output_type": "execute_result"
    }
   ],
   "source": [
    "df.Date.dt.quarter"
   ]
  },
  {
   "cell_type": "code",
   "execution_count": 92,
   "id": "0b4a363d",
   "metadata": {
    "ExecuteTime": {
     "end_time": "2021-10-30T20:54:33.105326Z",
     "start_time": "2021-10-30T20:54:33.098535Z"
    }
   },
   "outputs": [
    {
     "ename": "ValueError",
     "evalue": "too many values to unpack (expected 2)",
     "output_type": "error",
     "traceback": [
      "\u001b[0;31m---------------------------------------------------------------------------\u001b[0m",
      "\u001b[0;31mValueError\u001b[0m                                Traceback (most recent call last)",
      "\u001b[0;32m/var/folders/n5/gw9wgd8j759416q9p1ws4v2h0000gn/T/ipykernel_43491/2541259180.py\u001b[0m in \u001b[0;36m<module>\u001b[0;34m\u001b[0m\n\u001b[0;32m----> 1\u001b[0;31m \u001b[0mnext_year\u001b[0m\u001b[0;34m,\u001b[0m \u001b[0mnext_quarter\u001b[0m \u001b[0;34m=\u001b[0m \u001b[0myear\u001b[0m\u001b[0;34m,\u001b[0m \u001b[0mquarter\u001b[0m \u001b[0;34m+\u001b[0m \u001b[0;36m1\u001b[0m \u001b[0;32mif\u001b[0m \u001b[0mquarter\u001b[0m \u001b[0;34m<\u001b[0m \u001b[0;36m4\u001b[0m \u001b[0;32melse\u001b[0m \u001b[0myear\u001b[0m \u001b[0;34m+\u001b[0m \u001b[0;36m1\u001b[0m\u001b[0;34m,\u001b[0m \u001b[0;36m1\u001b[0m\u001b[0;34m\u001b[0m\u001b[0;34m\u001b[0m\u001b[0m\n\u001b[0m",
      "\u001b[0;31mValueError\u001b[0m: too many values to unpack (expected 2)"
     ]
    }
   ],
   "source": [
    "next_year, next_quarter = year, quarter + 1 if quarter < 4 else year + 1, 1"
   ]
  },
  {
   "cell_type": "code",
   "execution_count": 90,
   "id": "48e23afb",
   "metadata": {
    "ExecuteTime": {
     "end_time": "2021-10-30T20:52:05.388141Z",
     "start_time": "2021-10-30T20:52:05.375439Z"
    }
   },
   "outputs": [
    {
     "data": {
      "text/html": [
       "<div>\n",
       "<style scoped>\n",
       "    .dataframe tbody tr th:only-of-type {\n",
       "        vertical-align: middle;\n",
       "    }\n",
       "\n",
       "    .dataframe tbody tr th {\n",
       "        vertical-align: top;\n",
       "    }\n",
       "\n",
       "    .dataframe thead th {\n",
       "        text-align: right;\n",
       "    }\n",
       "</style>\n",
       "<table border=\"1\" class=\"dataframe\">\n",
       "  <thead>\n",
       "    <tr style=\"text-align: right;\">\n",
       "      <th></th>\n",
       "      <th>Date</th>\n",
       "      <th>High</th>\n",
       "      <th>Low</th>\n",
       "      <th>Open</th>\n",
       "      <th>Close</th>\n",
       "      <th>Volume</th>\n",
       "      <th>Adj Close</th>\n",
       "      <th>ticker_symbol</th>\n",
       "    </tr>\n",
       "  </thead>\n",
       "  <tbody>\n",
       "    <tr>\n",
       "      <th>0</th>\n",
       "      <td>2016-10-03</td>\n",
       "      <td>28.262501</td>\n",
       "      <td>28.070000</td>\n",
       "      <td>28.177500</td>\n",
       "      <td>28.129999</td>\n",
       "      <td>86807200.0</td>\n",
       "      <td>26.381453</td>\n",
       "      <td>AAPL</td>\n",
       "    </tr>\n",
       "    <tr>\n",
       "      <th>1</th>\n",
       "      <td>2016-10-04</td>\n",
       "      <td>28.577499</td>\n",
       "      <td>28.157499</td>\n",
       "      <td>28.264999</td>\n",
       "      <td>28.250000</td>\n",
       "      <td>118947200.0</td>\n",
       "      <td>26.493999</td>\n",
       "      <td>AAPL</td>\n",
       "    </tr>\n",
       "    <tr>\n",
       "      <th>2</th>\n",
       "      <td>2016-10-05</td>\n",
       "      <td>28.415001</td>\n",
       "      <td>28.172501</td>\n",
       "      <td>28.350000</td>\n",
       "      <td>28.262501</td>\n",
       "      <td>85812400.0</td>\n",
       "      <td>26.505718</td>\n",
       "      <td>AAPL</td>\n",
       "    </tr>\n",
       "    <tr>\n",
       "      <th>3</th>\n",
       "      <td>2016-10-06</td>\n",
       "      <td>28.584999</td>\n",
       "      <td>28.282499</td>\n",
       "      <td>28.424999</td>\n",
       "      <td>28.472500</td>\n",
       "      <td>115117200.0</td>\n",
       "      <td>26.702667</td>\n",
       "      <td>AAPL</td>\n",
       "    </tr>\n",
       "    <tr>\n",
       "      <th>4</th>\n",
       "      <td>2016-10-07</td>\n",
       "      <td>28.639999</td>\n",
       "      <td>28.377501</td>\n",
       "      <td>28.577499</td>\n",
       "      <td>28.514999</td>\n",
       "      <td>97433600.0</td>\n",
       "      <td>26.742527</td>\n",
       "      <td>AAPL</td>\n",
       "    </tr>\n",
       "    <tr>\n",
       "      <th>...</th>\n",
       "      <td>...</td>\n",
       "      <td>...</td>\n",
       "      <td>...</td>\n",
       "      <td>...</td>\n",
       "      <td>...</td>\n",
       "      <td>...</td>\n",
       "      <td>...</td>\n",
       "      <td>...</td>\n",
       "    </tr>\n",
       "    <tr>\n",
       "      <th>37117</th>\n",
       "      <td>2021-09-24</td>\n",
       "      <td>143.690002</td>\n",
       "      <td>142.490005</td>\n",
       "      <td>142.500000</td>\n",
       "      <td>143.169998</td>\n",
       "      <td>4453500.0</td>\n",
       "      <td>143.169998</td>\n",
       "      <td>WMT</td>\n",
       "    </tr>\n",
       "    <tr>\n",
       "      <th>37118</th>\n",
       "      <td>2021-09-27</td>\n",
       "      <td>143.550003</td>\n",
       "      <td>141.839996</td>\n",
       "      <td>142.869995</td>\n",
       "      <td>142.250000</td>\n",
       "      <td>7083600.0</td>\n",
       "      <td>142.250000</td>\n",
       "      <td>WMT</td>\n",
       "    </tr>\n",
       "    <tr>\n",
       "      <th>37119</th>\n",
       "      <td>2021-09-28</td>\n",
       "      <td>142.070007</td>\n",
       "      <td>139.990005</td>\n",
       "      <td>141.880005</td>\n",
       "      <td>140.500000</td>\n",
       "      <td>6860300.0</td>\n",
       "      <td>140.500000</td>\n",
       "      <td>WMT</td>\n",
       "    </tr>\n",
       "    <tr>\n",
       "      <th>37120</th>\n",
       "      <td>2021-09-29</td>\n",
       "      <td>141.830002</td>\n",
       "      <td>140.320007</td>\n",
       "      <td>140.649994</td>\n",
       "      <td>140.440002</td>\n",
       "      <td>7125200.0</td>\n",
       "      <td>140.440002</td>\n",
       "      <td>WMT</td>\n",
       "    </tr>\n",
       "    <tr>\n",
       "      <th>37121</th>\n",
       "      <td>2021-09-30</td>\n",
       "      <td>141.729996</td>\n",
       "      <td>139.250000</td>\n",
       "      <td>140.639999</td>\n",
       "      <td>139.380005</td>\n",
       "      <td>7485900.0</td>\n",
       "      <td>139.380005</td>\n",
       "      <td>WMT</td>\n",
       "    </tr>\n",
       "  </tbody>\n",
       "</table>\n",
       "<p>37122 rows × 8 columns</p>\n",
       "</div>"
      ],
      "text/plain": [
       "            Date        High         Low        Open       Close       Volume  \\\n",
       "0     2016-10-03   28.262501   28.070000   28.177500   28.129999   86807200.0   \n",
       "1     2016-10-04   28.577499   28.157499   28.264999   28.250000  118947200.0   \n",
       "2     2016-10-05   28.415001   28.172501   28.350000   28.262501   85812400.0   \n",
       "3     2016-10-06   28.584999   28.282499   28.424999   28.472500  115117200.0   \n",
       "4     2016-10-07   28.639999   28.377501   28.577499   28.514999   97433600.0   \n",
       "...          ...         ...         ...         ...         ...          ...   \n",
       "37117 2021-09-24  143.690002  142.490005  142.500000  143.169998    4453500.0   \n",
       "37118 2021-09-27  143.550003  141.839996  142.869995  142.250000    7083600.0   \n",
       "37119 2021-09-28  142.070007  139.990005  141.880005  140.500000    6860300.0   \n",
       "37120 2021-09-29  141.830002  140.320007  140.649994  140.440002    7125200.0   \n",
       "37121 2021-09-30  141.729996  139.250000  140.639999  139.380005    7485900.0   \n",
       "\n",
       "        Adj Close ticker_symbol  \n",
       "0       26.381453          AAPL  \n",
       "1       26.493999          AAPL  \n",
       "2       26.505718          AAPL  \n",
       "3       26.702667          AAPL  \n",
       "4       26.742527          AAPL  \n",
       "...           ...           ...  \n",
       "37117  143.169998           WMT  \n",
       "37118  142.250000           WMT  \n",
       "37119  140.500000           WMT  \n",
       "37120  140.440002           WMT  \n",
       "37121  139.380005           WMT  \n",
       "\n",
       "[37122 rows x 8 columns]"
      ]
     },
     "execution_count": 90,
     "metadata": {},
     "output_type": "execute_result"
    }
   ],
   "source": [
    "df[]"
   ]
  },
  {
   "cell_type": "code",
   "execution_count": 94,
   "id": "cee839cc",
   "metadata": {
    "ExecuteTime": {
     "end_time": "2021-10-30T20:57:07.501656Z",
     "start_time": "2021-10-30T20:57:07.491204Z"
    }
   },
   "outputs": [],
   "source": [
    "curr_vals = curr.pivot_table(index=\"Date\", columns=\"ticker_symbol\", values=\"Close\").values.T"
   ]
  },
  {
   "cell_type": "code",
   "execution_count": 100,
   "id": "21953d30",
   "metadata": {
    "ExecuteTime": {
     "end_time": "2021-10-30T20:58:09.796520Z",
     "start_time": "2021-10-30T20:58:09.793396Z"
    }
   },
   "outputs": [
    {
     "data": {
      "text/plain": [
       "-1"
      ]
     },
     "execution_count": 100,
     "metadata": {},
     "output_type": "execute_result"
    }
   ],
   "source": [
    "np.sign()"
   ]
  },
  {
   "cell_type": "code",
   "execution_count": 11,
   "id": "432f859f",
   "metadata": {
    "ExecuteTime": {
     "end_time": "2021-10-30T19:50:29.107256Z",
     "start_time": "2021-10-30T19:50:29.099661Z"
    }
   },
   "outputs": [
    {
     "data": {
      "text/plain": [
       "'2019-03-20'"
      ]
     },
     "execution_count": 11,
     "metadata": {},
     "output_type": "execute_result"
    }
   ],
   "source": [
    "df[df.ticker_symbol == 'DOW'].Date.min()"
   ]
  },
  {
   "cell_type": "code",
   "execution_count": 13,
   "id": "e91fbaea",
   "metadata": {
    "ExecuteTime": {
     "end_time": "2021-10-30T19:51:44.364449Z",
     "start_time": "2021-10-30T19:51:44.361863Z"
    }
   },
   "outputs": [],
   "source": [
    "import pandas_datareader as pdr\n",
    "import datetime as dt"
   ]
  },
  {
   "cell_type": "code",
   "execution_count": 14,
   "id": "e7bfe119",
   "metadata": {
    "ExecuteTime": {
     "end_time": "2021-10-30T19:51:53.364718Z",
     "start_time": "2021-10-30T19:51:53.362236Z"
    }
   },
   "outputs": [],
   "source": [
    "start = dt.datetime(2016, 10, 1)\n",
    "end = dt.datetime(2021, 9, 30)"
   ]
  },
  {
   "cell_type": "code",
   "execution_count": 16,
   "id": "9c8aa9b2",
   "metadata": {
    "ExecuteTime": {
     "end_time": "2021-10-30T19:51:59.690617Z",
     "start_time": "2021-10-30T19:51:58.873284Z"
    }
   },
   "outputs": [
    {
     "data": {
      "text/html": [
       "<div>\n",
       "<style scoped>\n",
       "    .dataframe tbody tr th:only-of-type {\n",
       "        vertical-align: middle;\n",
       "    }\n",
       "\n",
       "    .dataframe tbody tr th {\n",
       "        vertical-align: top;\n",
       "    }\n",
       "\n",
       "    .dataframe thead th {\n",
       "        text-align: right;\n",
       "    }\n",
       "</style>\n",
       "<table border=\"1\" class=\"dataframe\">\n",
       "  <thead>\n",
       "    <tr style=\"text-align: right;\">\n",
       "      <th></th>\n",
       "      <th>High</th>\n",
       "      <th>Low</th>\n",
       "      <th>Open</th>\n",
       "      <th>Close</th>\n",
       "      <th>Volume</th>\n",
       "      <th>Adj Close</th>\n",
       "    </tr>\n",
       "    <tr>\n",
       "      <th>Date</th>\n",
       "      <th></th>\n",
       "      <th></th>\n",
       "      <th></th>\n",
       "      <th></th>\n",
       "      <th></th>\n",
       "      <th></th>\n",
       "    </tr>\n",
       "  </thead>\n",
       "  <tbody>\n",
       "    <tr>\n",
       "      <th>2019-03-20</th>\n",
       "      <td>53.500000</td>\n",
       "      <td>49.500000</td>\n",
       "      <td>52.750000</td>\n",
       "      <td>49.799999</td>\n",
       "      <td>2350800.0</td>\n",
       "      <td>43.397255</td>\n",
       "    </tr>\n",
       "    <tr>\n",
       "      <th>2019-03-21</th>\n",
       "      <td>50.000000</td>\n",
       "      <td>48.200001</td>\n",
       "      <td>49.990002</td>\n",
       "      <td>48.980000</td>\n",
       "      <td>1764700.0</td>\n",
       "      <td>42.682678</td>\n",
       "    </tr>\n",
       "    <tr>\n",
       "      <th>2019-03-22</th>\n",
       "      <td>49.950001</td>\n",
       "      <td>48.160000</td>\n",
       "      <td>48.799999</td>\n",
       "      <td>48.599998</td>\n",
       "      <td>844700.0</td>\n",
       "      <td>42.351540</td>\n",
       "    </tr>\n",
       "    <tr>\n",
       "      <th>2019-03-25</th>\n",
       "      <td>49.400002</td>\n",
       "      <td>48.000000</td>\n",
       "      <td>48.599998</td>\n",
       "      <td>49.150002</td>\n",
       "      <td>440900.0</td>\n",
       "      <td>42.830822</td>\n",
       "    </tr>\n",
       "    <tr>\n",
       "      <th>2019-03-26</th>\n",
       "      <td>49.750000</td>\n",
       "      <td>48.180000</td>\n",
       "      <td>49.000000</td>\n",
       "      <td>48.849998</td>\n",
       "      <td>504700.0</td>\n",
       "      <td>42.569389</td>\n",
       "    </tr>\n",
       "    <tr>\n",
       "      <th>...</th>\n",
       "      <td>...</td>\n",
       "      <td>...</td>\n",
       "      <td>...</td>\n",
       "      <td>...</td>\n",
       "      <td>...</td>\n",
       "      <td>...</td>\n",
       "    </tr>\n",
       "    <tr>\n",
       "      <th>2021-09-24</th>\n",
       "      <td>57.340000</td>\n",
       "      <td>56.740002</td>\n",
       "      <td>57.200001</td>\n",
       "      <td>56.810001</td>\n",
       "      <td>7964900.0</td>\n",
       "      <td>56.810001</td>\n",
       "    </tr>\n",
       "    <tr>\n",
       "      <th>2021-09-27</th>\n",
       "      <td>60.380001</td>\n",
       "      <td>56.880001</td>\n",
       "      <td>56.880001</td>\n",
       "      <td>59.689999</td>\n",
       "      <td>12374000.0</td>\n",
       "      <td>59.689999</td>\n",
       "    </tr>\n",
       "    <tr>\n",
       "      <th>2021-09-28</th>\n",
       "      <td>60.645000</td>\n",
       "      <td>59.139999</td>\n",
       "      <td>60.150002</td>\n",
       "      <td>59.459999</td>\n",
       "      <td>6681800.0</td>\n",
       "      <td>59.459999</td>\n",
       "    </tr>\n",
       "    <tr>\n",
       "      <th>2021-09-29</th>\n",
       "      <td>59.599998</td>\n",
       "      <td>58.770000</td>\n",
       "      <td>59.459999</td>\n",
       "      <td>58.820000</td>\n",
       "      <td>4578800.0</td>\n",
       "      <td>58.820000</td>\n",
       "    </tr>\n",
       "    <tr>\n",
       "      <th>2021-09-30</th>\n",
       "      <td>59.169998</td>\n",
       "      <td>57.549999</td>\n",
       "      <td>58.919998</td>\n",
       "      <td>57.560001</td>\n",
       "      <td>4929000.0</td>\n",
       "      <td>57.560001</td>\n",
       "    </tr>\n",
       "  </tbody>\n",
       "</table>\n",
       "<p>640 rows × 6 columns</p>\n",
       "</div>"
      ],
      "text/plain": [
       "                 High        Low       Open      Close      Volume  Adj Close\n",
       "Date                                                                         \n",
       "2019-03-20  53.500000  49.500000  52.750000  49.799999   2350800.0  43.397255\n",
       "2019-03-21  50.000000  48.200001  49.990002  48.980000   1764700.0  42.682678\n",
       "2019-03-22  49.950001  48.160000  48.799999  48.599998    844700.0  42.351540\n",
       "2019-03-25  49.400002  48.000000  48.599998  49.150002    440900.0  42.830822\n",
       "2019-03-26  49.750000  48.180000  49.000000  48.849998    504700.0  42.569389\n",
       "...               ...        ...        ...        ...         ...        ...\n",
       "2021-09-24  57.340000  56.740002  57.200001  56.810001   7964900.0  56.810001\n",
       "2021-09-27  60.380001  56.880001  56.880001  59.689999  12374000.0  59.689999\n",
       "2021-09-28  60.645000  59.139999  60.150002  59.459999   6681800.0  59.459999\n",
       "2021-09-29  59.599998  58.770000  59.459999  58.820000   4578800.0  58.820000\n",
       "2021-09-30  59.169998  57.549999  58.919998  57.560001   4929000.0  57.560001\n",
       "\n",
       "[640 rows x 6 columns]"
      ]
     },
     "execution_count": 16,
     "metadata": {},
     "output_type": "execute_result"
    }
   ],
   "source": [
    "Data"
   ]
  },
  {
   "cell_type": "code",
   "execution_count": null,
   "id": "aab7544a",
   "metadata": {},
   "outputs": [],
   "source": []
  }
 ],
 "metadata": {
  "kernelspec": {
   "display_name": "Python 3 (ipykernel)",
   "language": "python",
   "name": "python3"
  },
  "language_info": {
   "codemirror_mode": {
    "name": "ipython",
    "version": 3
   },
   "file_extension": ".py",
   "mimetype": "text/x-python",
   "name": "python",
   "nbconvert_exporter": "python",
   "pygments_lexer": "ipython3",
   "version": "3.8.5"
  }
 },
 "nbformat": 4,
 "nbformat_minor": 5
}
