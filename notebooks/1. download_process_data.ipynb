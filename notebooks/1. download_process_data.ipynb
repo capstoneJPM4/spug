{
 "cells": [
  {
   "cell_type": "markdown",
   "id": "fcff7a3d",
   "metadata": {},
   "source": [
    "# This is the process of data fetching and extraction\n",
    "\n",
    "\n",
    "for the sake of time: \n",
    "\n",
    "    you may download dow and jones graph data from this link\n",
    "\n",
    "    https://syeehyn-web-public-assets.s3.amazonaws.com/dow_jones.zip"
   ]
  },
  {
   "cell_type": "code",
   "execution_count": 1,
   "id": "bd01d386",
   "metadata": {},
   "outputs": [
    {
     "name": "stderr",
     "output_type": "stream",
     "text": [
      "[nltk_data] Downloading package stopwords to /home/jiekie/nltk_data...\n",
      "[nltk_data]   Package stopwords is already up-to-date!\n",
      "[nltk_data] Downloading package punkt to /home/jiekie/nltk_data...\n",
      "[nltk_data]   Package punkt is already up-to-date!\n"
     ]
    }
   ],
   "source": [
    "import sys\n",
    "import yaml\n",
    "sys.path.append('../')\n",
    "\n",
    "from spug.data_pipeline import DataPipeline"
   ]
  },
  {
   "cell_type": "code",
   "execution_count": 2,
   "id": "fe74d934",
   "metadata": {},
   "outputs": [],
   "source": [
    "CONFIG_PATH = '../configs/dow_jones.yaml'"
   ]
  },
  {
   "cell_type": "code",
   "execution_count": 3,
   "id": "eb948918",
   "metadata": {},
   "outputs": [],
   "source": [
    "configs = yaml.safe_load(open(CONFIG_PATH))"
   ]
  },
  {
   "cell_type": "code",
   "execution_count": 4,
   "id": "135b469b",
   "metadata": {
    "scrolled": true
   },
   "outputs": [
    {
     "data": {
      "text/plain": [
       "{'companies': [{'wba': {'alias': ['$wba',\n",
       "     'wba',\n",
       "     'walgreen boots alliance inc',\n",
       "     'walgreen boots alliance',\n",
       "     'walgreenbootsalliance']}},\n",
       "  {'v': {'alias': ['$v', 'v', 'visa inc class a', 'visa']}},\n",
       "  {'crm': {'alias': ['$crm', 'crm', 'salesforce.com inc', 'salesforce']}},\n",
       "  {'cvx': {'alias': ['$cvx', 'cvx', 'chevron corp', 'chevron']}},\n",
       "  {'pg': {'alias': ['$pg', 'pg', 'procter & gamble', 'procter&gamble']}},\n",
       "  {'vz': {'alias': ['$vz', 'vz', 'verizon communications inc', 'verizon']}},\n",
       "  {'wmt': {'alias': ['$wmt',\n",
       "     'wmt',\n",
       "     'walmart stores inc',\n",
       "     'walmart stores',\n",
       "     'walmart']}},\n",
       "  {'unh': {'alias': ['$unh',\n",
       "     'unh',\n",
       "     'unitedhealth group inc',\n",
       "     'unitedhealth group',\n",
       "     'unitedhealthgroup']}},\n",
       "  {'trv': {'alias': ['$trv',\n",
       "     'trv',\n",
       "     'travelers companies inc',\n",
       "     'travelers companies',\n",
       "     'travelers',\n",
       "     'travelerscompanies']}},\n",
       "  {'mcd': {'alias': ['$mcd', 'mcd', 'mcdonalds corp', 'mcdonalds']}},\n",
       "  {'mmm': {'alias': ['$mmm', 'mmm', '3m', '3m']}},\n",
       "  {'nke': {'alias': ['$nke', 'nke', 'nike inc class b', 'nike']}},\n",
       "  {'mrk': {'alias': ['$mrk',\n",
       "     'mrk',\n",
       "     'merck & co inc',\n",
       "     'merck & co',\n",
       "     'merck&co']}},\n",
       "  {'msft': {'alias': ['$msft', 'msft', 'microsoft corp', 'microsoft']}},\n",
       "  {'jpm': {'alias': ['$jpm',\n",
       "     'jpm',\n",
       "     'jp morgan chase & co',\n",
       "     'jp morgan chase',\n",
       "     'jpmorgan',\n",
       "     ' j.p. morgan',\n",
       "     ' jp morgan',\n",
       "     'jpm']}},\n",
       "  {'ko': {'alias': ['$ko', 'ko', 'coca-cola', 'cocacola']}},\n",
       "  {'jnj': {'alias': ['$jnj', 'jnj', 'johnson & johnson', 'johnson&johnson']}},\n",
       "  {'gs': {'alias': ['$gs',\n",
       "     'gs',\n",
       "     'goldman sachs group inc',\n",
       "     'goldman sachs group',\n",
       "     'goldman sachs',\n",
       "     'goldman']}},\n",
       "  {'hd': {'alias': ['$hd', 'hd', 'home depot inc', 'home depot']}},\n",
       "  {'hon': {'alias': ['$hon',\n",
       "     'hon',\n",
       "     'honeywell international inc',\n",
       "     'honeywell international',\n",
       "     'honeywell']}},\n",
       "  {'ibm': {'alias': ['$ibm',\n",
       "     'ibm',\n",
       "     'international business machines co',\n",
       "     'international business machines',\n",
       "     'internationalbusinessmachines']}},\n",
       "  {'intc': {'alias': ['$intc',\n",
       "     'intc',\n",
       "     'intel corporation corp',\n",
       "     'intel corporation',\n",
       "     'intel']}},\n",
       "  {'dis': {'alias': ['$dis', 'dis', 'walt disney', 'disney', 'waltdisney']}},\n",
       "  {'cat': {'alias': ['$cat',\n",
       "     'cat',\n",
       "     'caterpillar inc',\n",
       "     'caterpillar inc',\n",
       "     'caterpillarinc']}},\n",
       "  {'csco': {'alias': ['$csco',\n",
       "     'csco',\n",
       "     'cisco systems inc',\n",
       "     'cisco systems',\n",
       "     'cisco']}},\n",
       "  {'axp': {'alias': ['$axp',\n",
       "     'axp',\n",
       "     'american express',\n",
       "     'american express',\n",
       "     'amex',\n",
       "     'americanexpress']}},\n",
       "  {'ba': {'alias': ['$ba', 'ba', 'boeing', 'boeing']}},\n",
       "  {'amgn': {'alias': ['$amgn', 'amgn', 'amgen inc', 'amgen']}},\n",
       "  {'aapl': {'alias': ['$aapl',\n",
       "     'aapl',\n",
       "     'apple inc',\n",
       "     'apple inc',\n",
       "     'appleinc']}}],\n",
       " 'data_root': '../data',\n",
       " 'start_date': datetime.date(2016, 10, 1),\n",
       " 'end_date': datetime.date(2021, 10, 1),\n",
       " 'twitter_conifg': {'sleep_time': 5},\n",
       " 'etf_config': {'external_path': '../data/external/etf'},\n",
       " 'sec_config': {'parser_config': {'directory': '../data/raw/sec',\n",
       "   'amount': 5,\n",
       "   'items': ['1A', '1B', '7A', '8'],\n",
       "   'external_fp': './data/external/sec'},\n",
       "  'emb_config': {'top_k': 20, 'model_name': 'all-mpnet-base-v2'}},\n",
       " 'news_config': {'sleep_time': 2,\n",
       "  'nyt_key': 'MN3m4QX4XDbGsaBFDBpJG4waHymmqZ3O',\n",
       "  'base_url': 'https://api.nytimes.com/svc/search/v2/articlesearch.json?',\n",
       "  'search_keyword': ['3M',\n",
       "   'American+Express',\n",
       "   'Amgen',\n",
       "   'Apple',\n",
       "   'Boeing',\n",
       "   'Caterpillar',\n",
       "   'Chevron',\n",
       "   'Cisco',\n",
       "   'Coca+Cola',\n",
       "   'Dow',\n",
       "   'Goldman+Sachs',\n",
       "   'Home+Depot',\n",
       "   'Honeywell',\n",
       "   'IBM',\n",
       "   'Intel',\n",
       "   'Johnson+Johnson',\n",
       "   'JPMorgan',\n",
       "   'McDonald',\n",
       "   'Merck',\n",
       "   'Microsoft',\n",
       "   'Nike',\n",
       "   'Procter+Gamble',\n",
       "   'Salesforce',\n",
       "   'Travelers',\n",
       "   'UnitedHealth',\n",
       "   'Verizon',\n",
       "   'Visa',\n",
       "   'Walgreens',\n",
       "   'Walmart',\n",
       "   'Disney']}}"
      ]
     },
     "execution_count": 4,
     "metadata": {},
     "output_type": "execute_result"
    }
   ],
   "source": [
    "configs"
   ]
  },
  {
   "cell_type": "code",
   "execution_count": 5,
   "id": "d079582f",
   "metadata": {},
   "outputs": [],
   "source": [
    "data_pipeline = DataPipeline(\n",
    "        config_path=CONFIG_PATH,\n",
    "        components=['etf' ,'stock', 'news', 'twitter'],\n",
    "    )"
   ]
  },
  {
   "cell_type": "code",
   "execution_count": 6,
   "id": "d938c0f6",
   "metadata": {
    "scrolled": true
   },
   "outputs": [
    {
     "name": "stdout",
     "output_type": "stream",
     "text": [
      "starting pipeline\n",
      "starting requesting data downloading\n",
      "working on downloading data for etf\n",
      "working on downloading data for stock\n",
      "working on downloading data for news\n",
      "working on downloading data for twitter\n",
      "=======================================\n",
      "working on constructing matrices for etf\n",
      "working on constructing matrices for stock\n"
     ]
    },
    {
     "name": "stderr",
     "output_type": "stream",
     "text": [
      "100%|████████████████████████████████████████████████████████████████████████████| 61/61 [00:00<00:00, 181.16it/s]\n",
      "100%|████████████████████████████████████████████████████████████████████████████| 61/61 [00:00<00:00, 183.18it/s]\n",
      "100%|████████████████████████████████████████████████████████████████████████████| 21/21 [00:00<00:00, 170.42it/s]\n",
      "100%|████████████████████████████████████████████████████████████████████████████| 21/21 [00:00<00:00, 171.09it/s]\n"
     ]
    },
    {
     "name": "stdout",
     "output_type": "stream",
     "text": [
      "working on constructing matrices for news\n"
     ]
    },
    {
     "name": "stderr",
     "output_type": "stream",
     "text": [
      "100%|█████████████████████████████████████████████████████████████████████████████| 48/48 [01:33<00:00,  1.96s/it]\n",
      "100%|█████████████████████████████████████████████████████████████████████████████| 19/19 [01:26<00:00,  4.54s/it]\n"
     ]
    },
    {
     "name": "stdout",
     "output_type": "stream",
     "text": [
      "working on constructing matrices for twitter\n"
     ]
    },
    {
     "name": "stderr",
     "output_type": "stream",
     "text": [
      "100%|█████████████████████████████████████████████████████████████████████████████| 61/61 [29:51<00:00, 29.36s/it]\n",
      "100%|█████████████████████████████████████████████████████████████████████████████| 21/21 [29:45<00:00, 85.01s/it]"
     ]
    },
    {
     "name": "stdout",
     "output_type": "stream",
     "text": [
      "=======================================\n",
      "data pipeline executed successfully\n"
     ]
    },
    {
     "name": "stderr",
     "output_type": "stream",
     "text": [
      "\n"
     ]
    }
   ],
   "source": [
    "data_pipeline.run_pipeline(redownload=False)"
   ]
  },
  {
   "cell_type": "code",
   "execution_count": null,
   "id": "d78c2ce3",
   "metadata": {},
   "outputs": [],
   "source": []
  }
 ],
 "metadata": {
  "kernelspec": {
   "display_name": "Python 3 (ipykernel)",
   "language": "python",
   "name": "python3"
  },
  "language_info": {
   "codemirror_mode": {
    "name": "ipython",
    "version": 3
   },
   "file_extension": ".py",
   "mimetype": "text/x-python",
   "name": "python",
   "nbconvert_exporter": "python",
   "pygments_lexer": "ipython3",
   "version": "3.8.12"
  }
 },
 "nbformat": 4,
 "nbformat_minor": 5
}
