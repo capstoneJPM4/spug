{
 "cells": [
  {
   "cell_type": "code",
   "execution_count": 1,
   "id": "bd01d386",
   "metadata": {},
   "outputs": [
    {
     "name": "stderr",
     "output_type": "stream",
     "text": [
      "[nltk_data] Downloading package stopwords to\n",
      "[nltk_data]     /Users/jiekie/nltk_data...\n",
      "[nltk_data]   Package stopwords is already up-to-date!\n",
      "[nltk_data] Downloading package punkt to /Users/jiekie/nltk_data...\n",
      "[nltk_data]   Package punkt is already up-to-date!\n"
     ]
    }
   ],
   "source": [
    "import sys\n",
    "import yaml\n",
    "sys.path.append('../')\n",
    "\n",
    "from apulu.data_pipeline import DataPipeline"
   ]
  },
  {
   "cell_type": "code",
   "execution_count": 2,
   "id": "fe74d934",
   "metadata": {},
   "outputs": [],
   "source": [
    "CONFIG_PATH = '../configs/dow_jones.yaml'"
   ]
  },
  {
   "cell_type": "code",
   "execution_count": 4,
   "id": "eb948918",
   "metadata": {},
   "outputs": [],
   "source": [
    "configs = yaml.safe_load(open(CONFIG_PATH))"
   ]
  },
  {
   "cell_type": "code",
   "execution_count": 6,
   "id": "d079582f",
   "metadata": {},
   "outputs": [],
   "source": [
    "data_pipeline = DataPipeline(\n",
    "        config_path=CONFIG_PATH,\n",
    "        components=configs[\"data_pipeline_config\"][\"components\"],\n",
    "    )"
   ]
  },
  {
   "cell_type": "code",
   "execution_count": 7,
   "id": "d938c0f6",
   "metadata": {
    "scrolled": false
   },
   "outputs": [
    {
     "name": "stdout",
     "output_type": "stream",
     "text": [
      "starting pipeline\n",
      "starting requesting data downloading\n",
      "working on downloading data for stock\n",
      "working on downloading data for sec\n",
      "working on downloading data for twitter\n",
      "working on downloading data for news\n",
      "working on downloading data for etf\n",
      "=======================================\n",
      "working on constructing matrices for stock\n"
     ]
    },
    {
     "name": "stderr",
     "output_type": "stream",
     "text": [
      "100%|██████████████████████████████████████████████████████████████████| 21/21 [00:00<00:00, 155.12it/s]\n",
      "100%|██████████████████████████████████████████████████████████████████| 21/21 [00:00<00:00, 164.55it/s]\n"
     ]
    },
    {
     "name": "stdout",
     "output_type": "stream",
     "text": [
      "working on constructing matrices for sec\n"
     ]
    },
    {
     "name": "stderr",
     "output_type": "stream",
     "text": [
      "100%|███████████████████████████████████████████████████████████████████| 29/29 [01:44<00:00,  3.60s/it]\n"
     ]
    },
    {
     "name": "stdout",
     "output_type": "stream",
     "text": [
      "removing middle part directories...\n",
      "removing ../data/raw/sec/parsed\n",
      "removing ../data/raw/sec/sec-edgar-filings\n",
      "working on constructing matrices for twitter\n"
     ]
    },
    {
     "name": "stderr",
     "output_type": "stream",
     "text": [
      "100%|███████████████████████████████████████████████████████████████████| 20/20 [01:33<00:00,  4.68s/it]\n"
     ]
    },
    {
     "name": "stdout",
     "output_type": "stream",
     "text": [
      "working on constructing matrices for news\n"
     ]
    },
    {
     "name": "stderr",
     "output_type": "stream",
     "text": [
      "100%|███████████████████████████████████████████████████████████████████| 19/19 [01:59<00:00,  6.31s/it]"
     ]
    },
    {
     "name": "stdout",
     "output_type": "stream",
     "text": [
      "working on constructing matrices for etf\n",
      "=======================================\n",
      "data pipeline executed successfully\n"
     ]
    },
    {
     "name": "stderr",
     "output_type": "stream",
     "text": [
      "\n"
     ]
    }
   ],
   "source": [
    "data_pipeline.run_pipeline(redownload=False)"
   ]
  },
  {
   "cell_type": "code",
   "execution_count": 16,
   "id": "f767ebd0",
   "metadata": {},
   "outputs": [
    {
     "name": "stdout",
     "output_type": "stream",
     "text": [
      "huggingface/tokenizers: The current process just got forked, after parallelism has already been used. Disabling parallelism to avoid deadlocks...\n",
      "To disable this warning, you can either:\n",
      "\t- Avoid using `tokenizers` before the fork if possible\n",
      "\t- Explicitly set the environment variable TOKENIZERS_PARALLELISM=(true | false)\n",
      "\u001b[1m\u001b[36mexternal\u001b[m\u001b[m  \u001b[1m\u001b[36mprocessed\u001b[m\u001b[m \u001b[1m\u001b[36mraw\u001b[m\u001b[m\r\n"
     ]
    }
   ],
   "source": [
    "!ls ../data"
   ]
  }
 ],
 "metadata": {
  "kernelspec": {
   "display_name": "Python 3 (ipykernel)",
   "language": "python",
   "name": "python3"
  },
  "language_info": {
   "codemirror_mode": {
    "name": "ipython",
    "version": 3
   },
   "file_extension": ".py",
   "mimetype": "text/x-python",
   "name": "python",
   "nbconvert_exporter": "python",
   "pygments_lexer": "ipython3",
   "version": "3.8.12"
  }
 },
 "nbformat": 4,
 "nbformat_minor": 5
}
