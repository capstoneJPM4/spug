{
 "cells": [
  {
   "cell_type": "markdown",
   "id": "1a77a6af",
   "metadata": {},
   "source": [
    "## imports"
   ]
  },
  {
   "cell_type": "code",
   "execution_count": 1,
   "id": "6d6f065c",
   "metadata": {},
   "outputs": [],
   "source": [
    "import os\n",
    "import sys\n",
    "sys.path.append('../')\n",
    "from glob import glob\n",
    "import torch\n",
    "import numpy as np\n",
    "import pandas as pd"
   ]
  },
  {
   "cell_type": "markdown",
   "id": "5286dd63",
   "metadata": {},
   "source": [
    "## get and split data"
   ]
  },
  {
   "cell_type": "code",
   "execution_count": 2,
   "id": "2750280c",
   "metadata": {},
   "outputs": [],
   "source": [
    "from apulu.dataset import DatasetGenerator\n",
    "\n",
    "data_root = '../data'\n",
    "\n",
    "sotck_path = os.path.join(\n",
    "        data_root, 'raw', 'stock', 'raw.csv'\n",
    ")\n",
    "\n",
    "sec_path = os.path.join(\n",
    "        data_root, 'raw', 'sec'\n",
    ")\n",
    "\n",
    "output_path = os.path.join(\n",
    "        data_root, 'processed'\n",
    ")\n",
    "\n",
    "data_list = sorted(glob(\n",
    "    os.path.join(\n",
    "        data_root, 'raw', 'twitter', '*q*.npy'\n",
    "    )\n",
    "))\n",
    "dg = DatasetGenerator(\n",
    "    data_list = data_list,\n",
    "    stock_path=sotck_path,\n",
    "    sec_path=sec_path,\n",
    "    freq='quarter'\n",
    ")"
   ]
  },
  {
   "cell_type": "markdown",
   "id": "20b082d1",
   "metadata": {},
   "source": [
    "## model definition"
   ]
  },
  {
   "cell_type": "code",
   "execution_count": 3,
   "id": "c4ed1598",
   "metadata": {},
   "outputs": [],
   "source": [
    "from apulu.model import GCN"
   ]
  },
  {
   "cell_type": "markdown",
   "id": "84eb169f",
   "metadata": {},
   "source": [
    "## model training"
   ]
  },
  {
   "cell_type": "code",
   "execution_count": 4,
   "id": "e91936b1",
   "metadata": {},
   "outputs": [],
   "source": [
    "import argparse\n",
    "from torch_geometric_temporal.signal import temporal_signal_split\n",
    "from apulu.utils import Trainer\n",
    "\n",
    "dataset = dg.process()\n",
    "train_dataset, test_dataset = temporal_signal_split(dataset, train_ratio=0.8)\n",
    "\n",
    "\n",
    "INPUT_SHAPE = next(iter(train_dataset)).x.shape[1]\n",
    "model = GCN(input_size = INPUT_SHAPE, hidden_dims=64)\n",
    "args = argparse.Namespace(\n",
    "    num_epochs = 500,\n",
    "    learning_rate = 1e-3,\n",
    "    device = \"cpu\",\n",
    "    val_size = .1,\n",
    "    verbose = False\n",
    ")"
   ]
  },
  {
   "cell_type": "code",
   "execution_count": 5,
   "id": "d26224be",
   "metadata": {},
   "outputs": [],
   "source": [
    "trainer = Trainer(model, train_dataset, args, test_dataset)"
   ]
  },
  {
   "cell_type": "code",
   "execution_count": 6,
   "id": "4e5d4726",
   "metadata": {
    "scrolled": false
   },
   "outputs": [
    {
     "name": "stderr",
     "output_type": "stream",
     "text": [
      "100%|███████████████████████████████████████████████████████████████████████████| 500/500 [00:08<00:00, 56.69it/s]"
     ]
    },
    {
     "name": "stdout",
     "output_type": "stream",
     "text": [
      "\n",
      "            best model loss is:\n",
      "                val loss: 0.47818563878536224 @ epoch: 451\n",
      "            \n",
      "==================validation set performance==================\n",
      "ROC AUC score 0.6865942028985508\n",
      "              precision    recall  f1-score   support\n",
      "\n",
      "           0       0.71      0.42      0.53        12\n",
      "           1       0.86      0.96      0.91        46\n",
      "\n",
      "    accuracy                           0.84        58\n",
      "   macro avg       0.79      0.69      0.72        58\n",
      "weighted avg       0.83      0.84      0.83        58\n",
      "\n",
      "==================test set performance==================\n",
      "ROC AUC score 0.5\n",
      "              precision    recall  f1-score   support\n",
      "\n",
      "           0       0.00      0.00      0.00        42\n",
      "           1       0.64      1.00      0.78        74\n",
      "\n",
      "    accuracy                           0.64       116\n",
      "   macro avg       0.32      0.50      0.39       116\n",
      "weighted avg       0.41      0.64      0.50       116\n",
      "\n"
     ]
    },
    {
     "name": "stderr",
     "output_type": "stream",
     "text": [
      "\n",
      "/home/jiekie/anaconda3/envs/apulu/lib/python3.8/site-packages/sklearn/metrics/_classification.py:1308: UndefinedMetricWarning: Precision and F-score are ill-defined and being set to 0.0 in labels with no predicted samples. Use `zero_division` parameter to control this behavior.\n",
      "  _warn_prf(average, modifier, msg_start, len(result))\n",
      "/home/jiekie/anaconda3/envs/apulu/lib/python3.8/site-packages/sklearn/metrics/_classification.py:1308: UndefinedMetricWarning: Precision and F-score are ill-defined and being set to 0.0 in labels with no predicted samples. Use `zero_division` parameter to control this behavior.\n",
      "  _warn_prf(average, modifier, msg_start, len(result))\n",
      "/home/jiekie/anaconda3/envs/apulu/lib/python3.8/site-packages/sklearn/metrics/_classification.py:1308: UndefinedMetricWarning: Precision and F-score are ill-defined and being set to 0.0 in labels with no predicted samples. Use `zero_division` parameter to control this behavior.\n",
      "  _warn_prf(average, modifier, msg_start, len(result))\n"
     ]
    }
   ],
   "source": [
    "model = trainer.train()"
   ]
  },
  {
   "cell_type": "code",
   "execution_count": null,
   "id": "29f61994",
   "metadata": {},
   "outputs": [],
   "source": []
  }
 ],
 "metadata": {
  "kernelspec": {
   "display_name": "Python 3 (ipykernel)",
   "language": "python",
   "name": "python3"
  },
  "language_info": {
   "codemirror_mode": {
    "name": "ipython",
    "version": 3
   },
   "file_extension": ".py",
   "mimetype": "text/x-python",
   "name": "python",
   "nbconvert_exporter": "python",
   "pygments_lexer": "ipython3",
   "version": "3.8.12"
  }
 },
 "nbformat": 4,
 "nbformat_minor": 5
}
