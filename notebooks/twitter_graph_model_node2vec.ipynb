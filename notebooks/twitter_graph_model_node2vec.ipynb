{
 "cells": [
  {
   "cell_type": "code",
   "execution_count": 5,
   "id": "78beea33",
   "metadata": {},
   "outputs": [],
   "source": [
    "import argparse\n",
    "import os\n",
    "from glob import glob\n",
    "import numpy as np\n",
    "import torch\n",
    "from torch import nn\n",
    "import torch.nn.functional as F\n",
    "\n",
    "from torch_geometric.nn import Node2Vec"
   ]
  },
  {
   "cell_type": "markdown",
   "id": "8f57409f",
   "metadata": {},
   "source": [
    "## Sequential Dataset"
   ]
  },
  {
   "cell_type": "code",
   "execution_count": 3,
   "id": "abbfc396",
   "metadata": {},
   "outputs": [],
   "source": [
    "class sequentialDataset(torch.utils.data.Dataset):\n",
    "    def __init__(self, fp, file_type = \".pt\") -> None:\n",
    "        self.data_files = sorted(glob(os.path.join(fp, f\"*{file_type}\")))\n",
    "        super().__init__()\n",
    "    def __getitem__(self, idx):\n",
    "        return torch.load(self.data_files[idx])[0]\n",
    "    def __getindex__(self, idx):\n",
    "        return torch.load(self.data_files[idx])[0]\n",
    "    def __len__(self):\n",
    "        return len(self.data_files)"
   ]
  },
  {
   "cell_type": "markdown",
   "id": "8d6be6b6",
   "metadata": {},
   "source": [
    "## Train Embedding"
   ]
  },
  {
   "cell_type": "code",
   "execution_count": 4,
   "id": "f1799569",
   "metadata": {},
   "outputs": [],
   "source": [
    "graph_path = \"../data/processed/twitter\"\n",
    "dataset = sequentialDataset(graph_path)\n",
    "args = dict(\n",
    "    num_epochs = 500,\n",
    "    learning_rate = 2e-5,\n",
    "    device = \"cpu\",\n",
    "    val_size = .2,\n",
    "    threshold = 0.035\n",
    ")\n",
    "\n",
    "args = argparse.Namespace(**args)"
   ]
  },
  {
   "cell_type": "code",
   "execution_count": 14,
   "id": "c6aa2af6",
   "metadata": {},
   "outputs": [
    {
     "data": {
      "text/plain": [
       "Data(x=[29, 62], edge_index=[2, 312], edge_attr=[312], y=[29])"
      ]
     },
     "execution_count": 14,
     "metadata": {},
     "output_type": "execute_result"
    }
   ],
   "source": [
    "dataset[1]"
   ]
  },
  {
   "cell_type": "code",
   "execution_count": null,
   "id": "027877b0",
   "metadata": {},
   "outputs": [],
   "source": []
  },
  {
   "cell_type": "code",
   "execution_count": null,
   "id": "2611a81b",
   "metadata": {},
   "outputs": [],
   "source": []
  },
  {
   "cell_type": "code",
   "execution_count": null,
   "id": "1312b383",
   "metadata": {},
   "outputs": [],
   "source": []
  },
  {
   "cell_type": "code",
   "execution_count": null,
   "id": "6109d749",
   "metadata": {},
   "outputs": [],
   "source": []
  },
  {
   "cell_type": "code",
   "execution_count": null,
   "id": "a6b97aae",
   "metadata": {},
   "outputs": [],
   "source": [
    "node2vec = Node2Vec(\n",
    "    \n",
    ")"
   ]
  },
  {
   "cell_type": "code",
   "execution_count": null,
   "id": "eae34330",
   "metadata": {},
   "outputs": [],
   "source": []
  },
  {
   "cell_type": "code",
   "execution_count": null,
   "id": "68b7684f",
   "metadata": {},
   "outputs": [],
   "source": []
  },
  {
   "cell_type": "code",
   "execution_count": null,
   "id": "eecb7cab",
   "metadata": {},
   "outputs": [],
   "source": []
  }
 ],
 "metadata": {
  "kernelspec": {
   "display_name": "Python 3 (ipykernel)",
   "language": "python",
   "name": "python3"
  },
  "language_info": {
   "codemirror_mode": {
    "name": "ipython",
    "version": 3
   },
   "file_extension": ".py",
   "mimetype": "text/x-python",
   "name": "python",
   "nbconvert_exporter": "python",
   "pygments_lexer": "ipython3",
   "version": "3.8.5"
  }
 },
 "nbformat": 4,
 "nbformat_minor": 5
}
