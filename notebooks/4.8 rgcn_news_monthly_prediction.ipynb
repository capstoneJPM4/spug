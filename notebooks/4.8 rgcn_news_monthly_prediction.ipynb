{
 "cells": [
  {
   "cell_type": "markdown",
   "id": "1a77a6af",
   "metadata": {},
   "source": [
    "## imports"
   ]
  },
  {
   "cell_type": "code",
   "execution_count": 1,
   "id": "6d6f065c",
   "metadata": {},
   "outputs": [],
   "source": [
    "import os\n",
    "import sys\n",
    "sys.path.append('../')\n",
    "from glob import glob\n",
    "import torch\n",
    "import numpy as np\n",
    "import pandas as pd"
   ]
  },
  {
   "cell_type": "markdown",
   "id": "5286dd63",
   "metadata": {},
   "source": [
    "## get and split data"
   ]
  },
  {
   "cell_type": "code",
   "execution_count": 2,
   "id": "2750280c",
   "metadata": {},
   "outputs": [],
   "source": [
    "from apulu.dataset import DatasetGenerator\n",
    "\n",
    "data_root = '../data'\n",
    "\n",
    "sotck_path = os.path.join(\n",
    "        data_root, 'raw', 'stock', 'raw.csv'\n",
    ")\n",
    "\n",
    "sec_path = os.path.join(\n",
    "        data_root, 'raw', 'sec'\n",
    ")\n",
    "\n",
    "output_path = os.path.join(\n",
    "        data_root, 'processed'\n",
    ")\n",
    "\n",
    "data_list = sorted(list(set(glob(\n",
    "            os.path.join(\n",
    "                data_root, 'raw', 'news', '*.npy'\n",
    "            )\n",
    "        )) - set(glob(\n",
    "            os.path.join(\n",
    "                data_root, 'raw', 'news', '*q*.npy'\n",
    "            )\n",
    "        ))))\n",
    "dg = DatasetGenerator(\n",
    "    data_list = data_list,\n",
    "    stock_path=sotck_path,\n",
    "    sec_path=sec_path,\n",
    "    freq='month'\n",
    ")"
   ]
  },
  {
   "cell_type": "markdown",
   "id": "20b082d1",
   "metadata": {},
   "source": [
    "## model definition"
   ]
  },
  {
   "cell_type": "code",
   "execution_count": 3,
   "id": "c4ed1598",
   "metadata": {},
   "outputs": [],
   "source": [
    "from apulu.model import RecurrentGCN"
   ]
  },
  {
   "cell_type": "markdown",
   "id": "84eb169f",
   "metadata": {},
   "source": [
    "## model training"
   ]
  },
  {
   "cell_type": "code",
   "execution_count": 4,
   "id": "e91936b1",
   "metadata": {},
   "outputs": [],
   "source": [
    "import argparse\n",
    "from torch_geometric_temporal.signal import temporal_signal_split\n",
    "from apulu.utils import Trainer\n",
    "\n",
    "dataset = dg.process()\n",
    "train_dataset, test_dataset = temporal_signal_split(dataset, train_ratio=0.8)\n",
    "\n",
    "\n",
    "INPUT_SHAPE = next(iter(train_dataset)).x.shape[1]\n",
    "model = RecurrentGCN(input_size = INPUT_SHAPE, hidden_dims=64)\n",
    "args = argparse.Namespace(\n",
    "    num_epochs = 500,\n",
    "    learning_rate = 1e-3,\n",
    "    device = \"cpu\",\n",
    "    val_size = .1,\n",
    "    verbose = False\n",
    ")"
   ]
  },
  {
   "cell_type": "code",
   "execution_count": 5,
   "id": "d26224be",
   "metadata": {},
   "outputs": [],
   "source": [
    "trainer = Trainer(model, train_dataset, args, test_dataset)"
   ]
  },
  {
   "cell_type": "code",
   "execution_count": 6,
   "id": "4e5d4726",
   "metadata": {
    "scrolled": false
   },
   "outputs": [
    {
     "name": "stderr",
     "output_type": "stream",
     "text": [
      "100%|███████████████████████████████████████████████████████████████████████████| 500/500 [04:11<00:00,  1.99it/s]\n"
     ]
    },
    {
     "name": "stdout",
     "output_type": "stream",
     "text": [
      "\n",
      "            best model loss is:\n",
      "                val loss: 0.31335206627845763 @ epoch: 409\n",
      "            \n",
      "==================validation set performance==================\n",
      "ROC AUC score 1.0\n",
      "              precision    recall  f1-score   support\n",
      "\n",
      "           0       1.00      1.00      1.00        41\n",
      "           1       1.00      1.00      1.00       104\n",
      "\n",
      "    accuracy                           1.00       145\n",
      "   macro avg       1.00      1.00      1.00       145\n",
      "weighted avg       1.00      1.00      1.00       145\n",
      "\n",
      "==================test set performance==================\n",
      "ROC AUC score 0.610455069124424\n",
      "              precision    recall  f1-score   support\n",
      "\n",
      "           0       0.47      0.60      0.53       124\n",
      "           1       0.74      0.62      0.67       224\n",
      "\n",
      "    accuracy                           0.61       348\n",
      "   macro avg       0.60      0.61      0.60       348\n",
      "weighted avg       0.64      0.61      0.62       348\n",
      "\n"
     ]
    }
   ],
   "source": [
    "model = trainer.train()"
   ]
  },
  {
   "cell_type": "code",
   "execution_count": null,
   "id": "c9b3df21",
   "metadata": {},
   "outputs": [],
   "source": []
  }
 ],
 "metadata": {
  "kernelspec": {
   "display_name": "Python 3 (ipykernel)",
   "language": "python",
   "name": "python3"
  },
  "language_info": {
   "codemirror_mode": {
    "name": "ipython",
    "version": 3
   },
   "file_extension": ".py",
   "mimetype": "text/x-python",
   "name": "python",
   "nbconvert_exporter": "python",
   "pygments_lexer": "ipython3",
   "version": "3.8.12"
  }
 },
 "nbformat": 4,
 "nbformat_minor": 5
}
