{
 "cells": [
  {
   "cell_type": "markdown",
   "metadata": {},
   "source": [
    "To use pytorch geometric temporal, make sure you have torch 1.9.0 installed (uninstall 1.10.0 before)."
   ]
  },
  {
   "cell_type": "code",
   "execution_count": 2,
   "metadata": {},
   "outputs": [
    {
     "name": "stdout",
     "output_type": "stream",
     "text": [
      "1.9.0+cpu\n"
     ]
    }
   ],
   "source": [
    "import torch\n",
    "print(torch.__version__)"
   ]
  },
  {
   "cell_type": "code",
   "execution_count": 3,
   "metadata": {},
   "outputs": [],
   "source": [
    "import torch\n",
    "import numpy as np"
   ]
  },
  {
   "cell_type": "code",
   "execution_count": null,
   "metadata": {},
   "outputs": [],
   "source": [
    "!pip install torch-scatter -f https://pytorch-geometric.com/whl/torch-1.9.0+cpu.html\n",
    "!pip install torch-sparse -f https://pytorch-geometric.com/whl/torch-1.9.0+cpu.html\n",
    "!pip install torch-cluster -f https://pytorch-geometric.com/whl/torch-1.9.0+cpu.html\n",
    "!pip install torch-spline-conv -f https://pytorch-geometric.com/whl/torch-1.9.0+cpu.html\n",
    "!pip install torch-geometric\n",
    "!pip install torch-geometric-temporal"
   ]
  },
  {
   "cell_type": "code",
   "execution_count": 4,
   "metadata": {},
   "outputs": [],
   "source": [
    "from sklearn.preprocessing import normalize\n",
    "from sklearn.preprocessing import MinMaxScaler\n",
    "\n",
    "def transform_and_split(data):\n",
    "    # Normalize node features and transform data type\n",
    "    data.x = normalize(data.x, axis=1, norm='max')\n",
    "    data.x = torch.from_numpy(data.x).to(torch.float64)\n",
    "    data.y = data.y.apply_(lambda x:  1 if (x > 0) else 0) # Change y into {0, 1} for binary classification\n",
    "    data.y = data.y.to(torch.float64)    \n",
    "    data.edge_attr = data.edge_attr.to(torch.double)\n",
    "\n",
    "\n",
    "    # Split into train/test set\n",
    "#    split = nodeSplit(split=\"train_rest\", num_splits = 1, num_val = 0.0, num_test= 0.2)\n",
    "#    masked_data = split(data)\n",
    "\n",
    "#    print(\"Training samples:\", torch.sum(masked_data.train_mask).item())\n",
    "#    print(\"Validation samples:\", torch.sum(masked_data.val_mask ).item())\n",
    "#    print(\"Test samples:\", torch.sum(masked_data.test_mask ).item())\n",
    "    print_basic_info(data)\n",
    "    return data"
   ]
  },
  {
   "cell_type": "code",
   "execution_count": 5,
   "metadata": {},
   "outputs": [],
   "source": [
    "def print_basic_info(data):\n",
    "    print()\n",
    "    print(data)\n",
    "    print('===========================================================================================================')\n",
    "\n",
    "    print(f'Number of nodes: {data.num_nodes}')\n",
    "    print(f'Number of edges: {data.num_edges}')\n",
    "    print(f'Average node degree: {data.num_edges / data.num_nodes:.2f}')\n",
    "    print(f'Has isolated nodes: {data.has_isolated_nodes()}')\n",
    "    print(f'Has self-loops: {data.has_self_loops()}')\n",
    "    print(f'Is undirected: {data.is_undirected()}')"
   ]
  },
  {
   "cell_type": "markdown",
   "metadata": {},
   "source": [
    "### Get and split data"
   ]
  },
  {
   "cell_type": "code",
   "execution_count": 6,
   "metadata": {},
   "outputs": [
    {
     "name": "stdout",
     "output_type": "stream",
     "text": [
      "\n",
      "Data(x=[29, 61], edge_index=[2, 400], edge_attr=[400], y=[29])\n",
      "===========================================================================================================\n",
      "Number of nodes: 29\n",
      "Number of edges: 400\n",
      "Average node degree: 13.79\n",
      "Has isolated nodes: False\n",
      "Has self-loops: True\n",
      "Is undirected: True\n"
     ]
    }
   ],
   "source": [
    "path = \"../data/processed/twitter/2018_q1.pt\" # Customize...\n",
    "dataset = torch.load(path)\n",
    "data = dataset[0]\n",
    "transformed_data = transform_and_split(data)"
   ]
  },
  {
   "cell_type": "code",
   "execution_count": 7,
   "metadata": {},
   "outputs": [],
   "source": [
    "from torch_geometric_temporal.dataset import ChickenpoxDatasetLoader\n",
    "\n",
    "loader = ChickenpoxDatasetLoader()\n",
    "\n",
    "dataset = loader.get_dataset()"
   ]
  },
  {
   "cell_type": "code",
   "execution_count": 8,
   "metadata": {},
   "outputs": [
    {
     "data": {
      "text/plain": [
       "array([1., 1., 1., 1., 1., 1., 1., 1., 1., 1., 1., 1., 1., 1., 1., 1., 1.,\n",
       "       1., 1., 1., 1., 1., 1., 1., 1., 1., 1., 1., 1., 1., 1., 1., 1., 1.,\n",
       "       1., 1., 1., 1., 1., 1., 1., 1., 1., 1., 1., 1., 1., 1., 1., 1., 1.,\n",
       "       1., 1., 1., 1., 1., 1., 1., 1., 1., 1., 1., 1., 1., 1., 1., 1., 1.,\n",
       "       1., 1., 1., 1., 1., 1., 1., 1., 1., 1., 1., 1., 1., 1., 1., 1., 1.,\n",
       "       1., 1., 1., 1., 1., 1., 1., 1., 1., 1., 1., 1., 1., 1., 1., 1., 1.])"
      ]
     },
     "execution_count": 8,
     "metadata": {},
     "output_type": "execute_result"
    }
   ],
   "source": [
    "dataset.edge_weight"
   ]
  },
  {
   "cell_type": "code",
   "execution_count": 9,
   "metadata": {},
   "outputs": [],
   "source": [
    "path = \"../data/processed/twitter/\""
   ]
  },
  {
   "cell_type": "code",
   "execution_count": 10,
   "metadata": {},
   "outputs": [],
   "source": [
    "quarter = ['2016_q4']\n",
    "for i in range(2017, 2022):\n",
    "    for j in range(1, 5):\n",
    "        if i == 2021 and j == 4: break\n",
    "        quarter.append(str(i)+'_q'+str(j))"
   ]
  },
  {
   "cell_type": "code",
   "execution_count": 11,
   "metadata": {},
   "outputs": [
    {
     "data": {
      "text/plain": [
       "['2016_q4',\n",
       " '2017_q1',\n",
       " '2017_q2',\n",
       " '2017_q3',\n",
       " '2017_q4',\n",
       " '2018_q1',\n",
       " '2018_q2',\n",
       " '2018_q3',\n",
       " '2018_q4',\n",
       " '2019_q1',\n",
       " '2019_q2',\n",
       " '2019_q3',\n",
       " '2019_q4',\n",
       " '2020_q1',\n",
       " '2020_q2',\n",
       " '2020_q3',\n",
       " '2020_q4',\n",
       " '2021_q1',\n",
       " '2021_q2',\n",
       " '2021_q3']"
      ]
     },
     "execution_count": 11,
     "metadata": {},
     "output_type": "execute_result"
    }
   ],
   "source": [
    "quarter"
   ]
  },
  {
   "cell_type": "code",
   "execution_count": 12,
   "metadata": {},
   "outputs": [],
   "source": [
    "paths = []\n",
    "for i in quarter:\n",
    "    paths.append(path+i+'.pt')"
   ]
  },
  {
   "cell_type": "code",
   "execution_count": 13,
   "metadata": {},
   "outputs": [
    {
     "data": {
      "text/plain": [
       "['../data/processed/twitter/2016_q4.pt',\n",
       " '../data/processed/twitter/2017_q1.pt',\n",
       " '../data/processed/twitter/2017_q2.pt',\n",
       " '../data/processed/twitter/2017_q3.pt',\n",
       " '../data/processed/twitter/2017_q4.pt',\n",
       " '../data/processed/twitter/2018_q1.pt',\n",
       " '../data/processed/twitter/2018_q2.pt',\n",
       " '../data/processed/twitter/2018_q3.pt',\n",
       " '../data/processed/twitter/2018_q4.pt',\n",
       " '../data/processed/twitter/2019_q1.pt',\n",
       " '../data/processed/twitter/2019_q2.pt',\n",
       " '../data/processed/twitter/2019_q3.pt',\n",
       " '../data/processed/twitter/2019_q4.pt',\n",
       " '../data/processed/twitter/2020_q1.pt',\n",
       " '../data/processed/twitter/2020_q2.pt',\n",
       " '../data/processed/twitter/2020_q3.pt',\n",
       " '../data/processed/twitter/2020_q4.pt',\n",
       " '../data/processed/twitter/2021_q1.pt',\n",
       " '../data/processed/twitter/2021_q2.pt',\n",
       " '../data/processed/twitter/2021_q3.pt']"
      ]
     },
     "execution_count": 13,
     "metadata": {},
     "output_type": "execute_result"
    }
   ],
   "source": [
    "paths"
   ]
  },
  {
   "cell_type": "code",
   "execution_count": 14,
   "metadata": {},
   "outputs": [],
   "source": [
    "data_list = []"
   ]
  },
  {
   "cell_type": "code",
   "execution_count": 15,
   "metadata": {},
   "outputs": [
    {
     "name": "stdout",
     "output_type": "stream",
     "text": [
      "\n",
      "Data(x=[29, 63], edge_index=[2, 760], edge_attr=[760], y=[29])\n",
      "===========================================================================================================\n",
      "Number of nodes: 29\n",
      "Number of edges: 760\n",
      "Average node degree: 26.21\n",
      "Has isolated nodes: False\n",
      "Has self-loops: True\n",
      "Is undirected: True\n",
      "\n",
      "Data(x=[29, 62], edge_index=[2, 312], edge_attr=[312], y=[29])\n",
      "===========================================================================================================\n",
      "Number of nodes: 29\n",
      "Number of edges: 312\n",
      "Average node degree: 10.76\n",
      "Has isolated nodes: False\n",
      "Has self-loops: True\n",
      "Is undirected: True\n",
      "\n",
      "Data(x=[29, 63], edge_index=[2, 400], edge_attr=[400], y=[29])\n",
      "===========================================================================================================\n",
      "Number of nodes: 29\n",
      "Number of edges: 400\n",
      "Average node degree: 13.79\n",
      "Has isolated nodes: False\n",
      "Has self-loops: True\n",
      "Is undirected: True\n",
      "\n",
      "Data(x=[29, 63], edge_index=[2, 552], edge_attr=[552], y=[29])\n",
      "===========================================================================================================\n",
      "Number of nodes: 29\n",
      "Number of edges: 552\n",
      "Average node degree: 19.03\n",
      "Has isolated nodes: False\n",
      "Has self-loops: True\n",
      "Is undirected: True\n",
      "\n",
      "Data(x=[29, 63], edge_index=[2, 805], edge_attr=[805], y=[29])\n",
      "===========================================================================================================\n",
      "Number of nodes: 29\n",
      "Number of edges: 805\n",
      "Average node degree: 27.76\n",
      "Has isolated nodes: False\n",
      "Has self-loops: True\n",
      "Is undirected: True\n",
      "\n",
      "Data(x=[29, 61], edge_index=[2, 400], edge_attr=[400], y=[29])\n",
      "===========================================================================================================\n",
      "Number of nodes: 29\n",
      "Number of edges: 400\n",
      "Average node degree: 13.79\n",
      "Has isolated nodes: False\n",
      "Has self-loops: True\n",
      "Is undirected: True\n",
      "\n",
      "Data(x=[29, 64], edge_index=[2, 616], edge_attr=[616], y=[29])\n",
      "===========================================================================================================\n",
      "Number of nodes: 29\n",
      "Number of edges: 616\n",
      "Average node degree: 21.24\n",
      "Has isolated nodes: False\n",
      "Has self-loops: True\n",
      "Is undirected: True\n",
      "\n",
      "Data(x=[29, 63], edge_index=[2, 585], edge_attr=[585], y=[29])\n",
      "===========================================================================================================\n",
      "Number of nodes: 29\n",
      "Number of edges: 585\n",
      "Average node degree: 20.17\n",
      "Has isolated nodes: False\n",
      "Has self-loops: True\n",
      "Is undirected: True\n",
      "\n",
      "Data(x=[29, 63], edge_index=[2, 805], edge_attr=[805], y=[29])\n",
      "===========================================================================================================\n",
      "Number of nodes: 29\n",
      "Number of edges: 805\n",
      "Average node degree: 27.76\n",
      "Has isolated nodes: False\n",
      "Has self-loops: True\n",
      "Is undirected: True\n",
      "\n",
      "Data(x=[29, 61], edge_index=[2, 552], edge_attr=[552], y=[29])\n",
      "===========================================================================================================\n",
      "Number of nodes: 29\n",
      "Number of edges: 552\n",
      "Average node degree: 19.03\n",
      "Has isolated nodes: False\n",
      "Has self-loops: True\n",
      "Is undirected: True\n",
      "\n",
      "Data(x=[29, 63], edge_index=[2, 552], edge_attr=[552], y=[29])\n",
      "===========================================================================================================\n",
      "Number of nodes: 29\n",
      "Number of edges: 552\n",
      "Average node degree: 19.03\n",
      "Has isolated nodes: False\n",
      "Has self-loops: True\n",
      "Is undirected: True\n",
      "\n",
      "Data(x=[29, 64], edge_index=[2, 672], edge_attr=[672], y=[29])\n",
      "===========================================================================================================\n",
      "Number of nodes: 29\n",
      "Number of edges: 672\n",
      "Average node degree: 23.17\n",
      "Has isolated nodes: False\n",
      "Has self-loops: True\n",
      "Is undirected: True\n",
      "\n",
      "Data(x=[29, 64], edge_index=[2, 777], edge_attr=[777], y=[29])\n",
      "===========================================================================================================\n",
      "Number of nodes: 29\n",
      "Number of edges: 777\n",
      "Average node degree: 26.79\n",
      "Has isolated nodes: False\n",
      "Has self-loops: True\n",
      "Is undirected: True\n",
      "\n",
      "Data(x=[29, 62], edge_index=[2, 480], edge_attr=[480], y=[29])\n",
      "===========================================================================================================\n",
      "Number of nodes: 29\n",
      "Number of edges: 480\n",
      "Average node degree: 16.55\n",
      "Has isolated nodes: False\n",
      "Has self-loops: True\n",
      "Is undirected: True\n",
      "\n",
      "Data(x=[29, 63], edge_index=[2, 585], edge_attr=[585], y=[29])\n",
      "===========================================================================================================\n",
      "Number of nodes: 29\n",
      "Number of edges: 585\n",
      "Average node degree: 20.17\n",
      "Has isolated nodes: False\n",
      "Has self-loops: True\n",
      "Is undirected: True\n",
      "\n",
      "Data(x=[29, 64], edge_index=[2, 697], edge_attr=[697], y=[29])\n",
      "===========================================================================================================\n",
      "Number of nodes: 29\n",
      "Number of edges: 697\n",
      "Average node degree: 24.03\n",
      "Has isolated nodes: False\n",
      "Has self-loops: True\n",
      "Is undirected: True\n",
      "\n",
      "Data(x=[29, 64], edge_index=[2, 805], edge_attr=[805], y=[29])\n",
      "===========================================================================================================\n",
      "Number of nodes: 29\n",
      "Number of edges: 805\n",
      "Average node degree: 27.76\n",
      "Has isolated nodes: False\n",
      "Has self-loops: True\n",
      "Is undirected: True\n",
      "\n",
      "Data(x=[29, 61], edge_index=[2, 616], edge_attr=[616], y=[29])\n",
      "===========================================================================================================\n",
      "Number of nodes: 29\n",
      "Number of edges: 616\n",
      "Average node degree: 21.24\n",
      "Has isolated nodes: False\n",
      "Has self-loops: True\n",
      "Is undirected: True\n",
      "\n",
      "Data(x=[29, 63], edge_index=[2, 720], edge_attr=[720], y=[29])\n",
      "===========================================================================================================\n",
      "Number of nodes: 29\n",
      "Number of edges: 720\n",
      "Average node degree: 24.83\n",
      "Has isolated nodes: False\n",
      "Has self-loops: True\n",
      "Is undirected: True\n",
      "\n",
      "Data(x=[29, 64], edge_index=[2, 741], edge_attr=[741], y=[29])\n",
      "===========================================================================================================\n",
      "Number of nodes: 29\n",
      "Number of edges: 741\n",
      "Average node degree: 25.55\n",
      "Has isolated nodes: False\n",
      "Has self-loops: True\n",
      "Is undirected: True\n"
     ]
    }
   ],
   "source": [
    "for path in paths:\n",
    "    dataset = torch.load(path)\n",
    "    data = dataset[0]\n",
    "    data_list.append(transform_and_split(data))"
   ]
  },
  {
   "cell_type": "code",
   "execution_count": 16,
   "metadata": {},
   "outputs": [
    {
     "data": {
      "text/plain": [
       "20"
      ]
     },
     "execution_count": 16,
     "metadata": {},
     "output_type": "execute_result"
    }
   ],
   "source": [
    "len(data_list)"
   ]
  },
  {
   "cell_type": "code",
   "execution_count": 17,
   "metadata": {},
   "outputs": [
    {
     "data": {
      "text/plain": [
       "torch.Size([29, 62])"
      ]
     },
     "execution_count": 17,
     "metadata": {},
     "output_type": "execute_result"
    }
   ],
   "source": [
    "data_list[1].x.shape"
   ]
  },
  {
   "cell_type": "code",
   "execution_count": 18,
   "metadata": {},
   "outputs": [],
   "source": [
    "\"\"\"\n",
    "edge_indices = [i.edge_index.double() for i in data_list]\n",
    "edge_weights = [i.edge_attr.double() for i in data_list]\n",
    "features = [i.x.double() for i in data_list]\n",
    "targets = [i.y.double() for i in data_list]\n",
    "\"\"\"\n",
    "\"\"\"\n",
    "edge_indices = [i.edge_index.cpu().detach().numpy() for i in data_list]\n",
    "edge_weights = [i.edge_attr.cpu().detach().numpy() for i in data_list]\n",
    "features = [i.x.cpu().detach().numpy() for i in data_list]\n",
    "targets = [i.y.cpu().detach().numpy() for i in data_list]\n",
    "\"\"\"\n",
    "edge_indices = [i.edge_index.numpy() for i in data_list]\n",
    "edge_weights = [i.edge_attr.numpy() for i in data_list]\n",
    "features = [i.x.numpy() for i in data_list]\n",
    "targets = [i.y.numpy() for i in data_list]"
   ]
  },
  {
   "cell_type": "code",
   "execution_count": 19,
   "metadata": {},
   "outputs": [
    {
     "data": {
      "text/plain": [
       "(29, 62)"
      ]
     },
     "execution_count": 19,
     "metadata": {},
     "output_type": "execute_result"
    }
   ],
   "source": [
    "features[1].shape"
   ]
  },
  {
   "cell_type": "code",
   "execution_count": 20,
   "metadata": {},
   "outputs": [],
   "source": [
    "padded_features = []\n",
    "for i in features:\n",
    "    padded_features.append(np.pad(i, [(0, 0), (0, 64-i.shape[1])], 'mean'))"
   ]
  },
  {
   "cell_type": "code",
   "execution_count": 21,
   "metadata": {},
   "outputs": [],
   "source": [
    "from torch_geometric_temporal.signal import DynamicGraphTemporalSignal"
   ]
  },
  {
   "cell_type": "code",
   "execution_count": 22,
   "metadata": {},
   "outputs": [],
   "source": [
    "temporal_signal = DynamicGraphTemporalSignal(edge_indices = edge_indices , edge_weights = edge_weights, features = padded_features, targets = targets)"
   ]
  },
  {
   "cell_type": "code",
   "execution_count": 23,
   "metadata": {},
   "outputs": [
    {
     "data": {
      "text/plain": [
       "<torch_geometric_temporal.signal.dynamic_graph_temporal_signal.DynamicGraphTemporalSignal at 0x294251cf0d0>"
      ]
     },
     "execution_count": 23,
     "metadata": {},
     "output_type": "execute_result"
    }
   ],
   "source": [
    "temporal_signal"
   ]
  },
  {
   "cell_type": "code",
   "execution_count": 24,
   "metadata": {},
   "outputs": [],
   "source": [
    "from torch_geometric_temporal.signal import temporal_signal_split\n",
    "\n",
    "train_dataset, test_dataset = temporal_signal_split(temporal_signal, train_ratio=0.8)"
   ]
  },
  {
   "cell_type": "code",
   "execution_count": 54,
   "metadata": {},
   "outputs": [],
   "source": [
    "import torch\n",
    "import torch.nn.functional as F\n",
    "from torch_geometric_temporal.nn.recurrent import DCRNN\n",
    "from torch_geometric_temporal import TemporalConv\n",
    "from torch_geometric_temporal import EvolveGCNO\n",
    "class RecurrentGCN(torch.nn.Module):\n",
    "    def __init__(self, node_features):\n",
    "        super(RecurrentGCN, self).__init__()\n",
    "        self.evol = EvolveGCNO(node_features)\n",
    "        self.recurrent = DCRNN(node_features, 32, 1)\n",
    "        self.linear = torch.nn.Linear(64, 2)\n",
    "        self.dropout = torch.nn.Dropout(0.5)\n",
    "\n",
    "    def forward(self, x, edge_index, edge_weight):\n",
    "        h = self.evol(x, edge_index, edge_weight)\n",
    "#        h = self.dropout(h)\n",
    "#        h = self.recurrent(x, edge_index, edge_weight)\n",
    "        h = F.relu(h)\n",
    "        h = self.linear(h)\n",
    "        h = torch.sigmoid(h)\n",
    "        return h"
   ]
  },
  {
   "cell_type": "code",
   "execution_count": 55,
   "metadata": {},
   "outputs": [
    {
     "name": "stdout",
     "output_type": "stream",
     "text": [
      "0\n",
      "torch.Size([2, 760])\n",
      "1\n",
      "torch.Size([2, 312])\n",
      "2\n",
      "torch.Size([2, 400])\n",
      "3\n",
      "torch.Size([2, 552])\n",
      "4\n",
      "torch.Size([2, 805])\n",
      "5\n",
      "torch.Size([2, 400])\n",
      "6\n",
      "torch.Size([2, 616])\n",
      "7\n",
      "torch.Size([2, 585])\n",
      "8\n",
      "torch.Size([2, 805])\n",
      "9\n",
      "torch.Size([2, 552])\n",
      "10\n",
      "torch.Size([2, 552])\n",
      "11\n",
      "torch.Size([2, 672])\n",
      "12\n",
      "torch.Size([2, 777])\n",
      "13\n",
      "torch.Size([2, 480])\n",
      "14\n",
      "torch.Size([2, 585])\n",
      "15\n",
      "torch.Size([2, 697])\n",
      "16\n",
      "torch.Size([2, 805])\n",
      "17\n",
      "torch.Size([2, 616])\n",
      "18\n",
      "torch.Size([2, 720])\n",
      "19\n",
      "torch.Size([2, 741])\n"
     ]
    }
   ],
   "source": [
    "for time, snapshot in enumerate(temporal_signal):\n",
    "    print(time)\n",
    "    print(snapshot.edge_index.shape)"
   ]
  },
  {
   "cell_type": "code",
   "execution_count": 58,
   "metadata": {},
   "outputs": [
    {
     "name": "stderr",
     "output_type": "stream",
     "text": [
      "100%|██████████| 200/200 [00:05<00:00, 38.89it/s]\n"
     ]
    }
   ],
   "source": [
    "from tqdm import tqdm\n",
    "\n",
    "model = RecurrentGCN(node_features = 64)\n",
    "\n",
    "optimizer = torch.optim.Adam(model.parameters(), lr=0.01)\n",
    "\n",
    "model.train()\n",
    "\n",
    "for epoch in tqdm(range(200)):\n",
    "    loss = 0\n",
    "    for time, snapshot in enumerate(train_dataset):\n",
    "        y_hat = model(snapshot.x, snapshot.edge_index, snapshot.edge_attr)\n",
    "        loss += torch.nn.CrossEntropyLoss()(y_hat, snapshot.y.long())\n",
    "        \n",
    "    loss.backward()\n",
    "    optimizer.step()\n",
    "    optimizer.zero_grad()"
   ]
  },
  {
   "cell_type": "code",
   "execution_count": 72,
   "metadata": {},
   "outputs": [],
   "source": [
    "y_hat_l = []\n",
    "model.eval()\n",
    "cost = 0\n",
    "for time, snapshot in enumerate(test_dataset):\n",
    "    y_hat = model(snapshot.x, snapshot.edge_index, snapshot.edge_attr)\n",
    "    #cost = cost + torch.mean((y_hat-snapshot.y)**2)\n",
    "    y_hat_l.append(y_hat)\n",
    "#cost = cost / (time+1)\n",
    "#cost = cost.item()\n",
    "#print(\"MSE: {:.4f}\".format(cost))\n"
   ]
  },
  {
   "cell_type": "code",
   "execution_count": 70,
   "metadata": {},
   "outputs": [],
   "source": [
    "y_hat_l = [list(x.detach().numpy()) for x in y_hat_l]"
   ]
  },
  {
   "cell_type": "code",
   "execution_count": 71,
   "metadata": {},
   "outputs": [
    {
     "data": {
      "text/plain": [
       "[[array([1.4112265e-05, 9.5221007e-01], dtype=float32),\n",
       "  array([2.3635634e-04, 9.2230040e-01], dtype=float32),\n",
       "  array([1.6694033e-04, 9.2669183e-01], dtype=float32),\n",
       "  array([1.5047046e-14, 9.9902546e-01], dtype=float32),\n",
       "  array([6.4532976e-08, 9.8286659e-01], dtype=float32),\n",
       "  array([6.0020342e-05, 9.4057894e-01], dtype=float32),\n",
       "  array([2.3637977e-04, 9.2248428e-01], dtype=float32),\n",
       "  array([4.2942323e-05, 9.4137961e-01], dtype=float32),\n",
       "  array([1.6239964e-07, 9.7796118e-01], dtype=float32),\n",
       "  array([9.656785e-10, 9.921604e-01], dtype=float32),\n",
       "  array([5.9070389e-06, 9.6132946e-01], dtype=float32),\n",
       "  array([2.0623754e-06, 9.6632743e-01], dtype=float32),\n",
       "  array([2.0013958e-04, 9.2452854e-01], dtype=float32),\n",
       "  array([1.6824447e-04, 9.2715538e-01], dtype=float32),\n",
       "  array([2.3627274e-04, 9.2238325e-01], dtype=float32),\n",
       "  array([1.9963564e-04, 9.2460525e-01], dtype=float32),\n",
       "  array([8.04485e-10, 9.92780e-01], dtype=float32),\n",
       "  array([5.007305e-05, 9.422055e-01], dtype=float32),\n",
       "  array([4.065375e-11, 9.962095e-01], dtype=float32),\n",
       "  array([2.3620673e-04, 9.2234671e-01], dtype=float32),\n",
       "  array([1.2082804e-05, 9.5540285e-01], dtype=float32),\n",
       "  array([5.9879643e-05, 9.3918198e-01], dtype=float32),\n",
       "  array([1.6604563e-05, 9.5319748e-01], dtype=float32),\n",
       "  array([2.3634461e-04, 9.2244595e-01], dtype=float32),\n",
       "  array([1.7037771e-04, 9.2693257e-01], dtype=float32),\n",
       "  array([2.110529e-34, 9.999999e-01], dtype=float32),\n",
       "  array([1.18860946e-04, 9.31438029e-01], dtype=float32),\n",
       "  array([2.364341e-04, 9.224272e-01], dtype=float32),\n",
       "  array([1.1803754e-04, 9.3176848e-01], dtype=float32)],\n",
       " [array([3.8697245e-04, 8.7119031e-01], dtype=float32),\n",
       "  array([3.8655711e-04, 8.7229556e-01], dtype=float32),\n",
       "  array([3.8814344e-04, 8.7374264e-01], dtype=float32),\n",
       "  array([4.7302502e-11, 9.8609310e-01], dtype=float32),\n",
       "  array([7.759441e-11, 9.848681e-01], dtype=float32),\n",
       "  array([3.8702280e-04, 8.7131196e-01], dtype=float32),\n",
       "  array([3.8767658e-04, 8.7335646e-01], dtype=float32),\n",
       "  array([1.21830475e-04, 8.89178872e-01], dtype=float32),\n",
       "  array([5.083447e-08, 9.630519e-01], dtype=float32),\n",
       "  array([2.1967308e-11, 9.8769194e-01], dtype=float32),\n",
       "  array([3.7499125e-05, 9.0686822e-01], dtype=float32),\n",
       "  array([3.8455739e-05, 9.0559715e-01], dtype=float32),\n",
       "  array([3.8690458e-04, 8.7308103e-01], dtype=float32),\n",
       "  array([3.8733173e-04, 8.7322354e-01], dtype=float32),\n",
       "  array([3.8576467e-04, 8.7214589e-01], dtype=float32),\n",
       "  array([3.8723464e-04, 8.7366360e-01], dtype=float32),\n",
       "  array([1.6891095e-06, 9.3945384e-01], dtype=float32),\n",
       "  array([3.8621342e-04, 8.7300932e-01], dtype=float32),\n",
       "  array([1.19214754e-04, 8.90732527e-01], dtype=float32),\n",
       "  array([3.8688336e-04, 8.7206793e-01], dtype=float32),\n",
       "  array([3.8587410e-04, 8.7244177e-01], dtype=float32),\n",
       "  array([2.5196638e-08, 9.6595395e-01], dtype=float32),\n",
       "  array([6.661246e-07, 9.477264e-01], dtype=float32),\n",
       "  array([3.8657957e-04, 8.7302196e-01], dtype=float32),\n",
       "  array([3.869859e-04, 8.731846e-01], dtype=float32),\n",
       "  array([7.5165358e-37, 9.9999905e-01], dtype=float32),\n",
       "  array([1.2662179e-04, 8.9010042e-01], dtype=float32),\n",
       "  array([3.875674e-04, 8.732694e-01], dtype=float32),\n",
       "  array([1.7360126e-06, 9.4165647e-01], dtype=float32)],\n",
       " [array([2.9611529e-06, 8.0623353e-01], dtype=float32),\n",
       "  array([1.4240714e-04, 7.5295025e-01], dtype=float32),\n",
       "  array([4.8424594e-05, 7.6837480e-01], dtype=float32),\n",
       "  array([1.3819418e-16, 9.6768939e-01], dtype=float32),\n",
       "  array([1.6484076e-14, 9.5532334e-01], dtype=float32),\n",
       "  array([1.6653837e-07, 8.3741784e-01], dtype=float32),\n",
       "  array([1.424271e-04, 7.544498e-01], dtype=float32),\n",
       "  array([1.4244938e-04, 7.5424480e-01], dtype=float32),\n",
       "  array([7.5672816e-08, 8.5254008e-01], dtype=float32),\n",
       "  array([9.1761060e-10, 8.8807017e-01], dtype=float32),\n",
       "  array([1.6712416e-05, 7.8624380e-01], dtype=float32),\n",
       "  array([4.8567817e-05, 7.7009821e-01], dtype=float32),\n",
       "  array([5.5140095e-05, 7.6697159e-01], dtype=float32),\n",
       "  array([1.4324389e-04, 7.5303859e-01], dtype=float32),\n",
       "  array([1.4226409e-04, 7.5364089e-01], dtype=float32),\n",
       "  array([5.122823e-05, 7.685701e-01], dtype=float32),\n",
       "  array([1.0297751e-06, 8.2017630e-01], dtype=float32),\n",
       "  array([4.861935e-05, 7.696135e-01], dtype=float32),\n",
       "  array([1.4233410e-04, 7.5365984e-01], dtype=float32),\n",
       "  array([1.4240456e-04, 7.5424629e-01], dtype=float32),\n",
       "  array([5.5140150e-05, 7.6697147e-01], dtype=float32),\n",
       "  array([2.3010654e-11, 9.1819417e-01], dtype=float32),\n",
       "  array([4.8610633e-05, 7.6979870e-01], dtype=float32),\n",
       "  array([1.4232637e-04, 7.5305206e-01], dtype=float32),\n",
       "  array([1.4247505e-04, 7.5358957e-01], dtype=float32),\n",
       "  array([7.6155394e-35, 9.9907708e-01], dtype=float32),\n",
       "  array([1.422976e-04, 7.534354e-01], dtype=float32),\n",
       "  array([1.4246364e-04, 7.5359869e-01], dtype=float32),\n",
       "  array([1.971231e-05, 7.810786e-01], dtype=float32)],\n",
       " [array([1.20677716e-04, 5.86795986e-01], dtype=float32),\n",
       "  array([1.5012315e-04, 5.8138782e-01], dtype=float32),\n",
       "  array([1.5009937e-04, 5.8169442e-01], dtype=float32),\n",
       "  array([7.840416e-15, 9.180742e-01], dtype=float32),\n",
       "  array([1.6592822e-09, 7.9726267e-01], dtype=float32),\n",
       "  array([2.8363079e-06, 6.6273648e-01], dtype=float32),\n",
       "  array([1.5012085e-04, 5.8208966e-01], dtype=float32),\n",
       "  array([1.3919749e-05, 6.3539422e-01], dtype=float32),\n",
       "  array([1.4355699e-07, 7.2024781e-01], dtype=float32),\n",
       "  array([2.4476185e-10, 8.1455368e-01], dtype=float32),\n",
       "  array([1.1244702e-05, 6.3716435e-01], dtype=float32),\n",
       "  array([1.3330882e-08, 7.6849979e-01], dtype=float32),\n",
       "  array([1.5008506e-04, 5.8172649e-01], dtype=float32),\n",
       "  array([1.5009008e-04, 5.8188450e-01], dtype=float32),\n",
       "  array([1.5008808e-04, 5.8169365e-01], dtype=float32),\n",
       "  array([1.5012929e-04, 5.8208239e-01], dtype=float32),\n",
       "  array([4.1510844e-09, 7.8445917e-01], dtype=float32),\n",
       "  array([1.3790341e-05, 6.3375324e-01], dtype=float32),\n",
       "  array([9.5481720e-11, 8.4032816e-01], dtype=float32),\n",
       "  array([1.5005602e-04, 5.8159971e-01], dtype=float32),\n",
       "  array([3.9640934e-05, 6.1047685e-01], dtype=float32),\n",
       "  array([1.4223867e-06, 6.8544215e-01], dtype=float32),\n",
       "  array([4.9196136e-05, 6.0611296e-01], dtype=float32),\n",
       "  array([1.2024031e-04, 5.8676708e-01], dtype=float32),\n",
       "  array([1.5006946e-04, 5.8184427e-01], dtype=float32),\n",
       "  array([2.7407848e-36, 9.9821776e-01], dtype=float32),\n",
       "  array([9.571527e-05, 5.923058e-01], dtype=float32),\n",
       "  array([1.5014304e-04, 5.8214450e-01], dtype=float32),\n",
       "  array([7.7540550e-05, 5.9640706e-01], dtype=float32)]]"
      ]
     },
     "execution_count": 71,
     "metadata": {},
     "output_type": "execute_result"
    }
   ],
   "source": [
    "y_hat_l"
   ]
  },
  {
   "cell_type": "code",
   "execution_count": 73,
   "metadata": {},
   "outputs": [],
   "source": [
    "y_hat_l = [list(np.squeeze(i.detach().numpy())) for i in y_hat_l]\n",
    "y_hat_l = [z for y in y_hat_l for z in y]"
   ]
  },
  {
   "cell_type": "code",
   "execution_count": 75,
   "metadata": {},
   "outputs": [],
   "source": [
    "y_hat_l = [y[1] for y in y_hat_l]"
   ]
  },
  {
   "cell_type": "code",
   "execution_count": 76,
   "metadata": {},
   "outputs": [
    {
     "data": {
      "text/plain": [
       "[0.95221007,\n",
       " 0.9223004,\n",
       " 0.92669183,\n",
       " 0.99902546,\n",
       " 0.9828666,\n",
       " 0.94057894,\n",
       " 0.9224843,\n",
       " 0.9413796,\n",
       " 0.9779612,\n",
       " 0.9921604,\n",
       " 0.96132946,\n",
       " 0.9663274,\n",
       " 0.92452854,\n",
       " 0.9271554,\n",
       " 0.92238325,\n",
       " 0.92460525,\n",
       " 0.99278,\n",
       " 0.9422055,\n",
       " 0.9962095,\n",
       " 0.9223467,\n",
       " 0.95540285,\n",
       " 0.939182,\n",
       " 0.9531975,\n",
       " 0.92244595,\n",
       " 0.9269326,\n",
       " 0.9999999,\n",
       " 0.931438,\n",
       " 0.9224272,\n",
       " 0.9317685,\n",
       " 0.8711903,\n",
       " 0.87229556,\n",
       " 0.87374264,\n",
       " 0.9860931,\n",
       " 0.9848681,\n",
       " 0.87131196,\n",
       " 0.87335646,\n",
       " 0.8891789,\n",
       " 0.9630519,\n",
       " 0.98769194,\n",
       " 0.9068682,\n",
       " 0.90559715,\n",
       " 0.873081,\n",
       " 0.87322354,\n",
       " 0.8721459,\n",
       " 0.8736636,\n",
       " 0.93945384,\n",
       " 0.8730093,\n",
       " 0.8907325,\n",
       " 0.8720679,\n",
       " 0.87244177,\n",
       " 0.96595395,\n",
       " 0.9477264,\n",
       " 0.87302196,\n",
       " 0.8731846,\n",
       " 0.99999905,\n",
       " 0.8901004,\n",
       " 0.8732694,\n",
       " 0.9416565,\n",
       " 0.8062335,\n",
       " 0.75295025,\n",
       " 0.7683748,\n",
       " 0.9676894,\n",
       " 0.95532334,\n",
       " 0.83741784,\n",
       " 0.7544498,\n",
       " 0.7542448,\n",
       " 0.8525401,\n",
       " 0.88807017,\n",
       " 0.7862438,\n",
       " 0.7700982,\n",
       " 0.7669716,\n",
       " 0.7530386,\n",
       " 0.7536409,\n",
       " 0.7685701,\n",
       " 0.8201763,\n",
       " 0.7696135,\n",
       " 0.75365984,\n",
       " 0.7542463,\n",
       " 0.76697147,\n",
       " 0.9181942,\n",
       " 0.7697987,\n",
       " 0.75305206,\n",
       " 0.7535896,\n",
       " 0.9990771,\n",
       " 0.7534354,\n",
       " 0.7535987,\n",
       " 0.7810786,\n",
       " 0.586796,\n",
       " 0.5813878,\n",
       " 0.5816944,\n",
       " 0.9180742,\n",
       " 0.79726267,\n",
       " 0.6627365,\n",
       " 0.58208966,\n",
       " 0.6353942,\n",
       " 0.7202478,\n",
       " 0.8145537,\n",
       " 0.63716435,\n",
       " 0.7684998,\n",
       " 0.5817265,\n",
       " 0.5818845,\n",
       " 0.58169365,\n",
       " 0.5820824,\n",
       " 0.7844592,\n",
       " 0.63375324,\n",
       " 0.84032816,\n",
       " 0.5815997,\n",
       " 0.61047685,\n",
       " 0.68544215,\n",
       " 0.60611296,\n",
       " 0.5867671,\n",
       " 0.5818443,\n",
       " 0.99821776,\n",
       " 0.5923058,\n",
       " 0.5821445,\n",
       " 0.59640706]"
      ]
     },
     "execution_count": 76,
     "metadata": {},
     "output_type": "execute_result"
    }
   ],
   "source": [
    "y_hat_l"
   ]
  },
  {
   "cell_type": "code",
   "execution_count": 130,
   "metadata": {},
   "outputs": [],
   "source": [
    "y_hat_list = [1 if x > 0.82 else 0 for x in y_hat_l]"
   ]
  },
  {
   "cell_type": "code",
   "execution_count": 131,
   "metadata": {},
   "outputs": [],
   "source": [
    "true_label = []\n",
    "for time, snapshot in enumerate(test_dataset):\n",
    "    true_label.append(list(snapshot.y.detach().numpy()))"
   ]
  },
  {
   "cell_type": "code",
   "execution_count": 132,
   "metadata": {},
   "outputs": [],
   "source": [
    "true_label = [int(z) for y in true_label for z in y]"
   ]
  },
  {
   "cell_type": "code",
   "execution_count": 133,
   "metadata": {
    "scrolled": true
   },
   "outputs": [
    {
     "name": "stdout",
     "output_type": "stream",
     "text": [
      "              precision    recall  f1-score   support\n",
      "\n",
      "     class 0       0.57      0.64      0.61        42\n",
      "     class 1       0.78      0.73      0.76        74\n",
      "\n",
      "    accuracy                           0.70       116\n",
      "   macro avg       0.68      0.69      0.68       116\n",
      "weighted avg       0.71      0.70      0.70       116\n",
      "\n"
     ]
    }
   ],
   "source": [
    "from sklearn.metrics import classification_report\n",
    "y_true = true_label\n",
    "target_names = ['class 0', 'class 1']\n",
    "print(classification_report(y_true, y_hat_list, target_names=target_names))"
   ]
  },
  {
   "cell_type": "code",
   "execution_count": null,
   "metadata": {},
   "outputs": [],
   "source": []
  }
 ],
 "metadata": {
  "kernelspec": {
   "display_name": "Python 3",
   "language": "python",
   "name": "python3"
  },
  "language_info": {
   "codemirror_mode": {
    "name": "ipython",
    "version": 3
   },
   "file_extension": ".py",
   "mimetype": "text/x-python",
   "name": "python",
   "nbconvert_exporter": "python",
   "pygments_lexer": "ipython3",
   "version": "3.8.8"
  }
 },
 "nbformat": 4,
 "nbformat_minor": 4
}
