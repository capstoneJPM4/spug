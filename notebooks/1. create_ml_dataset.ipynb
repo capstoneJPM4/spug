{
 "cells": [
  {
   "cell_type": "code",
   "execution_count": 1,
   "id": "ae4eedc8",
   "metadata": {
    "ExecuteTime": {
     "end_time": "2021-11-08T18:22:57.597783Z",
     "start_time": "2021-11-08T18:22:56.776768Z"
    }
   },
   "outputs": [],
   "source": [
    "import os\n",
    "from glob import glob\n",
    "from apulu.dataset import StockGraphDataset"
   ]
  },
  {
   "cell_type": "code",
   "execution_count": 2,
   "id": "32b6e0e3",
   "metadata": {
    "ExecuteTime": {
     "end_time": "2021-11-08T18:22:57.601818Z",
     "start_time": "2021-11-08T18:22:57.599448Z"
    }
   },
   "outputs": [],
   "source": [
    "root = '../data'\n",
    "stock_path = 'stock/raw.csv'"
   ]
  },
  {
   "cell_type": "code",
   "execution_count": 3,
   "id": "9682c385",
   "metadata": {
    "ExecuteTime": {
     "end_time": "2021-11-08T18:22:57.728662Z",
     "start_time": "2021-11-08T18:22:57.604508Z"
    },
    "scrolled": true
   },
   "outputs": [
    {
     "name": "stderr",
     "output_type": "stream",
     "text": [
      "Processing...\n",
      "Done!\n"
     ]
    }
   ],
   "source": [
    "for data_type in ['twitter', 'stock/price', 'stock/volume', 'news']:\n",
    "    for year in range(2016, 2022):\n",
    "        for quarter in range(1, 5):\n",
    "            if year == 2021 and quarter == 4:\n",
    "                continue\n",
    "            path = f'{year}_q{quarter}.npy'\n",
    "            files = list(map(lambda x: x.split('/')[-1] , \n",
    "                        glob(\n",
    "                        os.path.join(\n",
    "                            root,\n",
    "                            'raw',\n",
    "                            data_type,\n",
    "                            '*'\n",
    "                        )\n",
    "                    )))\n",
    "            if path in files:\n",
    "                ds = StockGraphDataset(root, data_type, path, stock_path)"
   ]
  },
  {
   "cell_type": "code",
   "execution_count": null,
   "id": "6c24b655",
   "metadata": {},
   "outputs": [],
   "source": []
  }
 ],
 "metadata": {
  "kernelspec": {
   "display_name": "Python 3 (ipykernel)",
   "language": "python",
   "name": "python3"
  },
  "language_info": {
   "codemirror_mode": {
    "name": "ipython",
    "version": 3
   },
   "file_extension": ".py",
   "mimetype": "text/x-python",
   "name": "python",
   "nbconvert_exporter": "python",
   "pygments_lexer": "ipython3",
   "version": "3.8.5"
  }
 },
 "nbformat": 4,
 "nbformat_minor": 5
}
