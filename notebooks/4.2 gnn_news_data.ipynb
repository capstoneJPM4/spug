{
 "cells": [
  {
   "cell_type": "code",
   "execution_count": 1,
   "id": "8fdab6d5",
   "metadata": {},
   "outputs": [],
   "source": [
    "import os\n",
    "import argparse\n",
    "from glob import glob\n",
    "import numpy as np\n",
    "from sklearn import metrics\n",
    "import torch\n",
    "from torch import nn\n",
    "import torch.nn.functional as F"
   ]
  },
  {
   "cell_type": "markdown",
   "id": "953d8363",
   "metadata": {},
   "source": [
    "## utils"
   ]
  },
  {
   "cell_type": "code",
   "execution_count": 2,
   "id": "54a9c992",
   "metadata": {},
   "outputs": [],
   "source": [
    "class Trainer:\n",
    "    def __init__(self, model, dataset, args):\n",
    "        self.device = args.device\n",
    "        self.model = model.to(self.device)\n",
    "        self.dataset = dataset\n",
    "        self.epochs = args.num_epochs\n",
    "        self.optimizer = torch.optim.Adam(self.model.parameters(), lr = args.learning_rate)\n",
    "        self.criterion = nn.CrossEntropyLoss().to(self.device)\n",
    "        self.val_idx = int(len(self.dataset) * (1-args.val_size))\n",
    "        self.best_model_weights = self.model.state_dict()\n",
    "        self.best_epoch = 0\n",
    "        self.best_val_loss = float('inf')\n",
    "        self.threshold = args.threshold\n",
    "    def train(self):\n",
    "        for epoch in range(1, self.epochs + 1):\n",
    "            train_loss = 0.0\n",
    "            val_loss = 0.0\n",
    "            for i, data in enumerate(self.dataset):\n",
    "                if i < self.val_idx:\n",
    "                    loss = self._train_step(self.model, data)\n",
    "                    train_loss += loss / self.val_idx\n",
    "                else:\n",
    "                    loss = self._val_step(self.model, data)\n",
    "                    val_loss += loss / (len(self.dataset) - self.val_idx)\n",
    "            # if epoch % 20 == 0 or epoch == self.epochs:\n",
    "            #     print(f\"\"\"\n",
    "            #         epoch {epoch}:\n",
    "            #             train loss: {train_loss},\n",
    "            #             val loss: {val_loss}\n",
    "            #     \"\"\")\n",
    "            if self.best_val_loss > val_loss:\n",
    "                self.best_val_loss = val_loss\n",
    "                self.best_epoch = epoch\n",
    "                self.best_model_weights = model.state_dict()\n",
    "        self.model.load_state_dict(self.best_model_weights)\n",
    "        print(\n",
    "            f\"\"\"\n",
    "            best model loss is:\n",
    "                val loss: {self.best_val_loss} @ epoch: {self.best_epoch}\n",
    "            \"\"\"\n",
    "        )\n",
    "        self._benchmark()\n",
    "        return self.model\n",
    "\n",
    "    def _train_step(self, model, data):\n",
    "        self.optimizer.zero_grad()\n",
    "        logits, target = self._shared_step(model, data)\n",
    "        loss = self.criterion(logits, target)\n",
    "        loss.backward()\n",
    "        self.optimizer.step()\n",
    "        return loss.item()\n",
    "    def _val_step(self, model, data):\n",
    "        with torch.no_grad():\n",
    "            logits, target = self._shared_step(model, data)\n",
    "            loss = self.criterion(logits, target)\n",
    "            return loss.item()\n",
    "    def _shared_step(self, model, data):\n",
    "        data.x = data.x.to(self.device)\n",
    "        data.edge_index = data.edge_index.to(self.device)\n",
    "        data.edge_attr = data.edge_attr.to(self.device)\n",
    "        target = (data.y > self.threshold).long().to(self.device)\n",
    "        logits = model(data)\n",
    "        return logits, target\n",
    "    def _benchmark(self):\n",
    "        train_preds = []\n",
    "        train_trues = []\n",
    "        val_preds = []\n",
    "        val_trues = []\n",
    "        for i, data in enumerate(self.dataset):\n",
    "            logits, target = self._shared_step(self.model, data)\n",
    "            pred = logits.argmax(-1).cpu().numpy()\n",
    "            target = target.cpu().numpy()\n",
    "            if i < self.val_idx:\n",
    "                train_preds.append(pred)\n",
    "                train_trues.append(target)\n",
    "            else:\n",
    "                val_preds.append(pred)\n",
    "                val_trues.append(target)\n",
    "        train_preds = np.hstack(train_preds)\n",
    "        train_trues = np.hstack(train_trues)\n",
    "        val_preds = np.hstack(val_preds)\n",
    "        val_trues = np.hstack(val_trues)\n",
    "        print(\n",
    "            f\"\"\"\n",
    "                best model performance is:\n",
    "                    train acc: {metrics.accuracy_score(train_trues, train_preds)}\n",
    "                    val acc: {metrics.accuracy_score(val_trues, val_preds)}\n",
    "\n",
    "                    train f1 score {metrics.f1_score(train_trues, train_preds)}\n",
    "                    val f1 score {metrics.f1_score(val_trues, val_preds)}\n",
    "\n",
    "                    train precision score {metrics.precision_score(train_trues, train_preds)}\n",
    "                    val precision score {metrics.precision_score(val_trues, val_preds)}\n",
    "\n",
    "                    train recall score {metrics.recall_score(train_trues, train_preds)}\n",
    "                    val recall score {metrics.recall_score(val_trues, val_preds)}\n",
    "\n",
    "                    num of pos prediction in training set {train_preds[train_preds == 1].shape[0]}\n",
    "                    num of neg prediction in training set {train_preds[train_preds == 0].shape[0]}\n",
    "                    num of pos prediction in val set {val_preds[val_preds == 1].shape[0]}\n",
    "                    num of neg prediction in val set {val_preds[val_preds == 0].shape[0]}\n",
    "            \"\"\"\n",
    "        )\n",
    "        print(\n",
    "            metrics.classification_report(val_trues, val_preds)\n",
    "            )"
   ]
  },
  {
   "cell_type": "markdown",
   "id": "f7449084",
   "metadata": {},
   "source": [
    "## datasets"
   ]
  },
  {
   "cell_type": "code",
   "execution_count": 3,
   "id": "77c3c340",
   "metadata": {},
   "outputs": [],
   "source": [
    "class sequentialDataset(torch.utils.data.Dataset):\n",
    "    def __init__(self, fp, file_type = \".pt\") -> None:\n",
    "        self.data_files = sorted(glob(os.path.join(fp, f\"*{file_type}\")))\n",
    "        super().__init__()\n",
    "    def __getitem__(self, idx):\n",
    "        return torch.load(self.data_files[idx])[0]\n",
    "    def __getindex__(self, idx):\n",
    "        return torch.load(self.data_files[idx])[0]\n",
    "    def __len__(self):\n",
    "        return len(self.data_files)"
   ]
  },
  {
   "cell_type": "markdown",
   "id": "cdeb886c",
   "metadata": {},
   "source": [
    "## model definition"
   ]
  },
  {
   "cell_type": "code",
   "execution_count": 4,
   "id": "f87c4859",
   "metadata": {},
   "outputs": [],
   "source": [
    "from torch_geometric.nn import GCNConv\n",
    "class GNN(torch.nn.Module):\n",
    "    def __init__(self, input_size, feature_size, output_size):\n",
    "        super().__init__()\n",
    "        self.conv = GCNConv(in_channels=input_size, out_channels=feature_size)\n",
    "        self.activation = nn.ReLU()\n",
    "        self.fc = nn.Linear(in_features=feature_size, out_features=output_size)\n",
    "    \n",
    "    def forward(self, data):\n",
    "        node_attr = F.normalize(data.x.float(), dim=0)\n",
    "        num_pad = self.conv.in_channels - node_attr.shape[1]\n",
    "        node_attr = torch.cat(\n",
    "            (\n",
    "                node_attr,\n",
    "                torch.zeros((node_attr.shape[0], num_pad))\n",
    "            ),\n",
    "            -1\n",
    "        )\n",
    "        edge_index = data.edge_index.long()\n",
    "        edge_weight = F.normalize(data.edge_attr.float().reshape(-1, 1), dim=0)\n",
    "        x = self.conv(\n",
    "                    x=node_attr, \n",
    "                    edge_index=edge_index, \n",
    "                    edge_weight=edge_weight\n",
    "                    )\n",
    "        x = self.activation(x)\n",
    "        x = self.fc(x)\n",
    "        return torch.sigmoid(x)"
   ]
  },
  {
   "cell_type": "markdown",
   "id": "3c211ea2",
   "metadata": {},
   "source": [
    "## training"
   ]
  },
  {
   "cell_type": "code",
   "execution_count": 5,
   "id": "ef1609b9",
   "metadata": {},
   "outputs": [],
   "source": [
    "graph_path = \"../data/processed/news\"\n",
    "dataset = sequentialDataset(graph_path)\n",
    "model = GNN(70, 32, 2)\n",
    "args = dict(\n",
    "    num_epochs = 500,\n",
    "    learning_rate = 2e-4,\n",
    "    device = \"cpu\",\n",
    "    val_size = .2,\n",
    "    threshold = 0\n",
    ")\n",
    "\n",
    "args = argparse.Namespace(**args)"
   ]
  },
  {
   "cell_type": "code",
   "execution_count": 6,
   "id": "1705f9a8",
   "metadata": {},
   "outputs": [],
   "source": [
    "trainer = Trainer(model, dataset, args)"
   ]
  },
  {
   "cell_type": "code",
   "execution_count": 7,
   "id": "10595469",
   "metadata": {},
   "outputs": [
    {
     "name": "stdout",
     "output_type": "stream",
     "text": [
      "\n",
      "            best model loss is:\n",
      "                val loss: 0.6515238881111145 @ epoch: 78\n",
      "            \n",
      "\n",
      "                best model performance is:\n",
      "                    train acc: 0.6551724137931034\n",
      "                    val acc: 0.6379310344827587\n",
      "\n",
      "                    train f1 score 0.7916666666666666\n",
      "                    val f1 score 0.7789473684210527\n",
      "\n",
      "                    train precision score 0.6551724137931034\n",
      "                    val precision score 0.6379310344827587\n",
      "\n",
      "                    train recall score 1.0\n",
      "                    val recall score 1.0\n",
      "\n",
      "                    num of pos prediction in training set 435\n",
      "                    num of neg prediction in training set 0\n",
      "                    num of pos prediction in val set 116\n",
      "                    num of neg prediction in val set 0\n",
      "            \n",
      "              precision    recall  f1-score   support\n",
      "\n",
      "           0       0.00      0.00      0.00        42\n",
      "           1       0.64      1.00      0.78        74\n",
      "\n",
      "    accuracy                           0.64       116\n",
      "   macro avg       0.32      0.50      0.39       116\n",
      "weighted avg       0.41      0.64      0.50       116\n",
      "\n"
     ]
    },
    {
     "name": "stderr",
     "output_type": "stream",
     "text": [
      "/Users/jiekie/opt/anaconda3/envs/apulu/lib/python3.8/site-packages/sklearn/metrics/_classification.py:1308: UndefinedMetricWarning: Precision and F-score are ill-defined and being set to 0.0 in labels with no predicted samples. Use `zero_division` parameter to control this behavior.\n",
      "  _warn_prf(average, modifier, msg_start, len(result))\n",
      "/Users/jiekie/opt/anaconda3/envs/apulu/lib/python3.8/site-packages/sklearn/metrics/_classification.py:1308: UndefinedMetricWarning: Precision and F-score are ill-defined and being set to 0.0 in labels with no predicted samples. Use `zero_division` parameter to control this behavior.\n",
      "  _warn_prf(average, modifier, msg_start, len(result))\n",
      "/Users/jiekie/opt/anaconda3/envs/apulu/lib/python3.8/site-packages/sklearn/metrics/_classification.py:1308: UndefinedMetricWarning: Precision and F-score are ill-defined and being set to 0.0 in labels with no predicted samples. Use `zero_division` parameter to control this behavior.\n",
      "  _warn_prf(average, modifier, msg_start, len(result))\n"
     ]
    }
   ],
   "source": [
    "model = trainer.train()"
   ]
  },
  {
   "cell_type": "code",
   "execution_count": null,
   "id": "137e92f8",
   "metadata": {},
   "outputs": [],
   "source": []
  }
 ],
 "metadata": {
  "kernelspec": {
   "display_name": "Python 3 (ipykernel)",
   "language": "python",
   "name": "python3"
  },
  "language_info": {
   "codemirror_mode": {
    "name": "ipython",
    "version": 3
   },
   "file_extension": ".py",
   "mimetype": "text/x-python",
   "name": "python",
   "nbconvert_exporter": "python",
   "pygments_lexer": "ipython3",
   "version": "3.8.12"
  }
 },
 "nbformat": 4,
 "nbformat_minor": 5
}
