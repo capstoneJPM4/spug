{
 "cells": [
  {
   "cell_type": "code",
   "execution_count": 1,
   "id": "433db122",
   "metadata": {
    "ExecuteTime": {
     "end_time": "2021-11-07T15:00:27.173012Z",
     "start_time": "2021-11-07T15:00:27.152218Z"
    }
   },
   "outputs": [],
   "source": [
    "%load_ext autoreload\n",
    "%autoreload 2"
   ]
  },
  {
   "cell_type": "code",
   "execution_count": 2,
   "id": "8b68bef7",
   "metadata": {
    "ExecuteTime": {
     "end_time": "2021-11-07T15:00:27.503450Z",
     "start_time": "2021-11-07T15:00:27.465907Z"
    }
   },
   "outputs": [],
   "source": [
    "import yaml"
   ]
  },
  {
   "cell_type": "code",
   "execution_count": 3,
   "id": "290bc805",
   "metadata": {
    "ExecuteTime": {
     "end_time": "2021-11-07T15:00:28.396781Z",
     "start_time": "2021-11-07T15:00:27.848226Z"
    }
   },
   "outputs": [],
   "source": [
    "from apulu.data_pipeline.sources import SecFetcher"
   ]
  },
  {
   "cell_type": "code",
   "execution_count": 4,
   "id": "b7f0992c",
   "metadata": {
    "ExecuteTime": {
     "end_time": "2021-11-07T15:00:28.442816Z",
     "start_time": "2021-11-07T15:00:28.398797Z"
    }
   },
   "outputs": [],
   "source": [
    "configs = yaml.safe_load(open(\"./configs/dow_jones/etl.yaml\"))"
   ]
  },
  {
   "cell_type": "code",
   "execution_count": 5,
   "id": "2443648e",
   "metadata": {
    "ExecuteTime": {
     "end_time": "2021-11-07T15:00:29.228791Z",
     "start_time": "2021-11-07T15:00:29.198957Z"
    }
   },
   "outputs": [],
   "source": [
    "sec_fetcher = SecFetcher(**configs)"
   ]
  },
  {
   "cell_type": "code",
   "execution_count": 7,
   "id": "76770799",
   "metadata": {
    "ExecuteTime": {
     "end_time": "2021-11-07T15:04:41.919786Z",
     "start_time": "2021-11-07T15:04:14.463194Z"
    }
   },
   "outputs": [
    {
     "data": {
      "application/vnd.jupyter.widget-view+json": {
       "model_id": "c70a23ee57c54651a5b1f14ce1336881",
       "version_major": 2,
       "version_minor": 0
      },
      "text/plain": [
       "  0%|          | 0/1 [00:00<?, ?it/s]"
      ]
     },
     "metadata": {},
     "output_type": "display_data"
    },
    {
     "name": "stdout",
     "output_type": "stream",
     "text": [
      "0 companies 10-Ks failed to be downloaded to the directory specified at etl.yaml sec_config section\n"
     ]
    },
    {
     "data": {
      "application/vnd.jupyter.widget-view+json": {
       "model_id": "e34b5de94dd5490db8d7f5f522859634",
       "version_major": 2,
       "version_minor": 0
      },
      "text/plain": [
       "  0%|          | 0/1 [00:00<?, ?it/s]"
      ]
     },
     "metadata": {},
     "output_type": "display_data"
    }
   ],
   "source": [
    "res = sec_fetcher.get_data()"
   ]
  },
  {
   "cell_type": "code",
   "execution_count": 8,
   "id": "e90ac6e8",
   "metadata": {
    "ExecuteTime": {
     "end_time": "2021-11-07T15:07:25.793121Z",
     "start_time": "2021-11-07T15:07:25.756916Z"
    }
   },
   "outputs": [
    {
     "name": "stderr",
     "output_type": "stream",
     "text": [
      "[autoreload of apulu.data_pipeline.pipeline failed: Traceback (most recent call last):\n",
      "  File \"/Users/syeehyn/opt/anaconda3/envs/apulu/lib/python3.8/site-packages/IPython/extensions/autoreload.py\", line 245, in check\n",
      "    superreload(m, reload, self.old_objects)\n",
      "  File \"/Users/syeehyn/opt/anaconda3/envs/apulu/lib/python3.8/site-packages/IPython/extensions/autoreload.py\", line 394, in superreload\n",
      "    module = reload(module)\n",
      "  File \"/Users/syeehyn/opt/anaconda3/envs/apulu/lib/python3.8/imp.py\", line 314, in reload\n",
      "    return importlib.reload(module)\n",
      "  File \"/Users/syeehyn/opt/anaconda3/envs/apulu/lib/python3.8/importlib/__init__.py\", line 169, in reload\n",
      "    _bootstrap._exec(spec, module)\n",
      "  File \"<frozen importlib._bootstrap>\", line 604, in _exec\n",
      "  File \"<frozen importlib._bootstrap_external>\", line 779, in exec_module\n",
      "  File \"<frozen importlib._bootstrap_external>\", line 916, in get_code\n",
      "  File \"<frozen importlib._bootstrap_external>\", line 846, in source_to_code\n",
      "  File \"<frozen importlib._bootstrap>\", line 219, in _call_with_frames_removed\n",
      "  File \"/Users/syeehyn/Desktop/fall2021/capstone/apulu/apulu/data_pipeline/pipeline.py\", line 88\n",
      "    with open( os.path.join(self.configs[\"data_root\"], \"raw\", component, \"raw.json\"), \"w+\") as f:\n",
      "    ^\n",
      "IndentationError: expected an indented block\n",
      "]\n"
     ]
    }
   ],
   "source": [
    "import json"
   ]
  },
  {
   "cell_type": "code",
   "execution_count": null,
   "id": "4f157860",
   "metadata": {},
   "outputs": [],
   "source": []
  }
 ],
 "metadata": {
  "kernelspec": {
   "display_name": "Python 3 (ipykernel)",
   "language": "python",
   "name": "python3"
  },
  "language_info": {
   "codemirror_mode": {
    "name": "ipython",
    "version": 3
   },
   "file_extension": ".py",
   "mimetype": "text/x-python",
   "name": "python",
   "nbconvert_exporter": "python",
   "pygments_lexer": "ipython3",
   "version": "3.8.5"
  }
 },
 "nbformat": 4,
 "nbformat_minor": 5
}
