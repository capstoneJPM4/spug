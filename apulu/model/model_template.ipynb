{
 "cells": [
  {
   "cell_type": "markdown",
   "metadata": {},
   "source": [
    "### Model and Train"
   ]
  },
  {
   "cell_type": "code",
   "execution_count": 30,
   "metadata": {},
   "outputs": [],
   "source": [
    "import torch\n",
    "import torch.nn.functional as F \n",
    "from torch.nn import Linear\n",
    "from torch_geometric.nn import GCNConv\n",
    "\n",
    "class GNN(torch.nn.Module):\n",
    "    def __init__(self, dataset, feature_size):\n",
    "        super(GNN, self).__init__()\n",
    "        torch.manual_seed(10)\n",
    "\n",
    "        input_size = dataset.num_features\n",
    "        output_size = dataset.num_classes\n",
    "        self.conv1 = GCNConv(in_channels=input_size, out_channels=feature_size)\n",
    "        self.conv2 = GCNConv(in_channels=feature_size, out_channels=feature_size)\n",
    "        self.d1 = torch.nn.Linear(feature_size, output_size)\n",
    "\n",
    "    def forward(self, x, edge_index):\n",
    "        # First Message Passing Layer\n",
    "        x = self.conv1(x, edge_index)\n",
    "        x = x.relu()\n",
    "        x = F.dropout(x, p=0.2, training=self.training)\n",
    "\n",
    "        # Second Message Passing Layer\n",
    "        x = self.conv2(x, edge_index)\n",
    "        x = x.relu()\n",
    "        x = F.dropout(x, p=0.2, training=self.training)\n",
    "\n",
    "        # Output layer \n",
    "        x = F.softmax(self.d1(x), dim=1)\n",
    "        return x"
   ]
  },
  {
   "cell_type": "code",
   "execution_count": 40,
   "metadata": {},
   "outputs": [],
   "source": [
    "import collections\n",
    "import numpy as np\n",
    "import pandas as pd\n",
    "\n",
    "import matplotlib.pyplot as plt \n",
    "import seaborn as sns\n",
    "from sklearn.metrics import confusion_matrix, f1_score, accuracy_score, precision_score, recall_score, roc_auc_score\n",
    "\n",
    "import torch\n",
    "import torch.nn as nn\n",
    "import torch.nn.functional as F\n",
    "\n",
    "from torch_geometric.data import Data\n",
    "from tqdm import tqdm\n",
    "# from model import GNN\n",
    "\n",
    "class Train():\n",
    "    def __init__(self, dataset, feature_size, epochs = 10, learning_rate = 0.01):\n",
    "        self.dataset = dataset\n",
    "        self.fs = feature_size\n",
    "        \n",
    "        self.model = GNN(self.dataset, self.fs)\n",
    "        self.epochs = epochs\n",
    "        self.optimizer = torch.optim.Adam(self.model.parameters(), lr = learning_rate)\n",
    "        self.loss_func = torch.nn.CrossEntropyLoss()\n",
    "        self.train_network()\n",
    "\n",
    "    def train_network(self):\n",
    "        data = self.dataset[0]\n",
    "        optimizer = self.optimizer\n",
    "        epochs = self.epochs\n",
    "        \n",
    "        train_losses = []\n",
    "        train_accs = []\n",
    "        test_losses = []\n",
    "        test_accs = []\n",
    "\n",
    "        for epoch in range(epochs + 1):\n",
    "            optimizer.zero_grad()\n",
    "            output = self.model(data.x, data.edge_index)\n",
    "#             output = self.model(data, data.edge_index, data.edge_attr)\n",
    "            loss = self.loss_func(output[data.train_mask], data.y[data.train_mask])\n",
    "            loss.backward()\n",
    "            optimizer.step()\n",
    "            train_losses += [loss.item()]\n",
    "            \n",
    "            train_correct = torch.argmax(output[data.train_mask], dim=1) == data.y[data.train_mask]\n",
    "            train_acc = int(train_correct.sum()) / int(data.train_mask.sum())\n",
    "            train_accs += [train_acc]\n",
    "\n",
    "            test_correct = torch.argmax(output[data.test_mask], dim=1) == data.y[data.test_mask]\n",
    "            test_acc = int(test_correct.sum()) / int(data.test_mask.sum())\n",
    "            test_accs += [test_acc]\n",
    "\n",
    "            print(f\"Epoch {epoch + 1}/{epochs}, Train_Loss: {loss:.4f}, Train_Accuracy: {train_acc:.4f}, Test_Accuracy: {test_acc:.4f}\")\n",
    "        print(train_losses)\n",
    "        print(type(train_losses))\n",
    "        print(type(train_losses[0]))\n",
    "        \n",
    "        plt.plot(train_losses)\n",
    "        plt.show()\n",
    "\n",
    "        plt.plot(train_accs)\n",
    "        plt.plot(test_accs) \n",
    "        plt.show()"
   ]
  },
  {
   "cell_type": "markdown",
   "metadata": {},
   "source": [
    "### Test data"
   ]
  },
  {
   "cell_type": "code",
   "execution_count": 41,
   "metadata": {},
   "outputs": [
    {
     "name": "stdout",
     "output_type": "stream",
     "text": [
      "\n",
      "Dataset: Cora():\n",
      "======================\n",
      "Number of graphs: 1\n",
      "Number of features: 1433\n",
      "Number of classes: 7\n",
      "\n",
      "Data(x=[2708, 1433], edge_index=[2, 10556], y=[2708], train_mask=[2708], val_mask=[2708], test_mask=[2708])\n",
      "===========================================================================================================\n",
      "Number of nodes: 2708\n",
      "Number of edges: 10556\n",
      "Average node degree: 3.90\n",
      "Number of training nodes: 140\n",
      "Training node label rate: 0.05\n",
      "Has isolated nodes: False\n",
      "Has self-loops: False\n",
      "Is undirected: True\n"
     ]
    }
   ],
   "source": [
    "from torch_geometric.datasets import Planetoid\n",
    "from torch_geometric.transforms import NormalizeFeatures\n",
    "\n",
    "dataset = Planetoid(root='data/Planetoid', name='Cora', transform=NormalizeFeatures())\n",
    "\n",
    "print()\n",
    "print(f'Dataset: {dataset}:')\n",
    "print('======================')\n",
    "print(f'Number of graphs: {len(dataset)}')\n",
    "print(f'Number of features: {dataset.num_features}')\n",
    "print(f'Number of classes: {dataset.num_classes}')\n",
    "\n",
    "data = dataset[0]  # Get the first graph object.\n",
    "\n",
    "print()\n",
    "print(data)\n",
    "print('===========================================================================================================')\n",
    "\n",
    "# Gather some statistics about the graph.\n",
    "print(f'Number of nodes: {data.num_nodes}')\n",
    "print(f'Number of edges: {data.num_edges}')\n",
    "print(f'Average node degree: {data.num_edges / data.num_nodes:.2f}')\n",
    "print(f'Number of training nodes: {data.train_mask.sum()}')\n",
    "print(f'Training node label rate: {int(data.train_mask.sum()) / data.num_nodes:.2f}')\n",
    "print(f'Has isolated nodes: {data.has_isolated_nodes()}')\n",
    "print(f'Has self-loops: {data.has_self_loops()}')\n",
    "print(f'Is undirected: {data.is_undirected()}')"
   ]
  },
  {
   "cell_type": "code",
   "execution_count": 8,
   "metadata": {},
   "outputs": [
    {
     "name": "stdout",
     "output_type": "stream",
     "text": [
      "GNN(\n",
      "  (conv1): GCNConv(1433, 16)\n",
      "  (conv2): GCNConv(16, 16)\n",
      "  (d1): Linear(in_features=16, out_features=7, bias=True)\n",
      ")\n"
     ]
    }
   ],
   "source": [
    "model = GNN(dataset = dataset, feature_size=16)\n",
    "print(model)"
   ]
  },
  {
   "cell_type": "code",
   "execution_count": 42,
   "metadata": {},
   "outputs": [
    {
     "name": "stdout",
     "output_type": "stream",
     "text": [
      "Epoch 1/10, Train_Loss: 1.9462, Train_Accuracy: 0.1429, Test_Accuracy: 0.1030\n",
      "Epoch 2/10, Train_Loss: 1.9459, Train_Accuracy: 0.1429, Test_Accuracy: 0.1030\n",
      "Epoch 3/10, Train_Loss: 1.9456, Train_Accuracy: 0.1429, Test_Accuracy: 0.1030\n",
      "Epoch 4/10, Train_Loss: 1.9451, Train_Accuracy: 0.1500, Test_Accuracy: 0.1050\n",
      "Epoch 5/10, Train_Loss: 1.9445, Train_Accuracy: 0.1786, Test_Accuracy: 0.1300\n",
      "Epoch 6/10, Train_Loss: 1.9437, Train_Accuracy: 0.2500, Test_Accuracy: 0.1810\n",
      "Epoch 7/10, Train_Loss: 1.9436, Train_Accuracy: 0.2429, Test_Accuracy: 0.2180\n",
      "Epoch 8/10, Train_Loss: 1.9419, Train_Accuracy: 0.3214, Test_Accuracy: 0.2840\n",
      "Epoch 9/10, Train_Loss: 1.9408, Train_Accuracy: 0.2571, Test_Accuracy: 0.3160\n",
      "Epoch 10/10, Train_Loss: 1.9397, Train_Accuracy: 0.2500, Test_Accuracy: 0.3230\n",
      "Epoch 11/10, Train_Loss: 1.9377, Train_Accuracy: 0.3000, Test_Accuracy: 0.3370\n",
      "[1.9462072849273682, 1.9459389448165894, 1.945647120475769, 1.9450585842132568, 1.9445101022720337, 1.9437373876571655, 1.9435629844665527, 1.9418747425079346, 1.9407553672790527, 1.939736247062683, 1.9376962184906006]\n",
      "<class 'list'>\n",
      "<class 'float'>\n"
     ]
    },
    {
     "data": {
      "image/png": "[encoded data removed]",
      "text/plain": [
       "<Figure size 432x288 with 1 Axes>"
      ]
     },
     "metadata": {
      "needs_background": "light"
     },
     "output_type": "display_data"
    },
    {
     "data": {
      "image/png": "[encoded data removed]",
      "text/plain": [
       "<Figure size 432x288 with 1 Axes>"
      ]
     },
     "metadata": {
      "needs_background": "light"
     },
     "output_type": "display_data"
    }
   ],
   "source": [
    "training_result = Train(dataset = dataset, feature_size = 16, epochs = 10, learning_rate = 0.01)"
   ]
  },
  {
   "cell_type": "code",
   "execution_count": null,
   "metadata": {},
   "outputs": [],
   "source": []
  }
 ],
 "metadata": {
  "kernelspec": {
   "display_name": "Python 3",
   "language": "python",
   "name": "python3"
  },
  "language_info": {
   "codemirror_mode": {
    "name": "ipython",
    "version": 3
   },
   "file_extension": ".py",
   "mimetype": "text/x-python",
   "name": "python",
   "nbconvert_exporter": "python",
   "pygments_lexer": "ipython3",
   "version": "3.8.8"
  }
 },
 "nbformat": 4,
 "nbformat_minor": 4
}
