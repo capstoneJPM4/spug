{
 "cells": [
  {
   "cell_type": "markdown",
   "metadata": {},
   "source": [
    "### Model and Train"
   ]
  },
  {
   "cell_type": "code",
   "execution_count": 30,
   "metadata": {},
   "outputs": [],
   "source": [
    "import torch\n",
    "import torch.nn.functional as F \n",
    "from torch.nn import Linear\n",
    "from torch_geometric.nn import GCNConv\n",
    "\n",
    "class GNN(torch.nn.Module):\n",
    "    def __init__(self, dataset, feature_size):\n",
    "        super(GNN, self).__init__()\n",
    "        torch.manual_seed(10)\n",
    "\n",
    "        input_size = dataset.num_features\n",
    "        output_size = dataset.num_classes\n",
    "        self.conv1 = GCNConv(in_channels=input_size, out_channels=feature_size)\n",
    "        self.conv2 = GCNConv(in_channels=feature_size, out_channels=feature_size)\n",
    "        self.d1 = torch.nn.Linear(feature_size, output_size)\n",
    "\n",
    "    def forward(self, x, edge_index):\n",
    "        # First Message Passing Layer\n",
    "        x = self.conv1(x, edge_index)\n",
    "        x = x.relu()\n",
    "        x = F.dropout(x, p=0.2, training=self.training)\n",
    "\n",
    "        # Second Message Passing Layer\n",
    "        x = self.conv2(x, edge_index)\n",
    "        x = x.relu()\n",
    "        x = F.dropout(x, p=0.2, training=self.training)\n",
    "\n",
    "        # Output layer \n",
    "        x = F.softmax(self.d1(x), dim=1)\n",
    "        return x"
   ]
  },
  {
   "cell_type": "code",
   "execution_count": 40,
   "metadata": {},
   "outputs": [],
   "source": [
    "import collections\n",
    "import numpy as np\n",
    "import pandas as pd\n",
    "\n",
    "import matplotlib.pyplot as plt \n",
    "import seaborn as sns\n",
    "from sklearn.metrics import confusion_matrix, f1_score, accuracy_score, precision_score, recall_score, roc_auc_score\n",
    "\n",
    "import torch\n",
    "import torch.nn as nn\n",
    "import torch.nn.functional as F\n",
    "\n",
    "from torch_geometric.data import Data\n",
    "from tqdm import tqdm\n",
    "# from model import GNN\n",
    "\n",
    "class Train():\n",
    "    def __init__(self, dataset, feature_size, epochs = 10, learning_rate = 0.01):\n",
    "        self.dataset = dataset\n",
    "        self.fs = feature_size\n",
    "        \n",
    "        self.model = GNN(self.dataset, self.fs)\n",
    "        self.epochs = epochs\n",
    "        self.optimizer = torch.optim.Adam(self.model.parameters(), lr = learning_rate)\n",
    "        self.loss_func = torch.nn.CrossEntropyLoss()\n",
    "        self.train_network()\n",
    "\n",
    "    def train_network(self):\n",
    "        data = self.dataset[0]\n",
    "        optimizer = self.optimizer\n",
    "        epochs = self.epochs\n",
    "        \n",
    "        train_losses = []\n",
    "        train_accs = []\n",
    "        test_losses = []\n",
    "        test_accs = []\n",
    "\n",
    "        for epoch in range(epochs + 1):\n",
    "            optimizer.zero_grad()\n",
    "            output = self.model(data.x, data.edge_index)\n",
    "#             output = self.model(data, data.edge_index, data.edge_attr)\n",
    "            loss = self.loss_func(output[data.train_mask], data.y[data.train_mask])\n",
    "            loss.backward()\n",
    "            optimizer.step()\n",
    "            train_losses += [loss.item()]\n",
    "            \n",
    "            train_correct = torch.argmax(output[data.train_mask], dim=1) == data.y[data.train_mask]\n",
    "            train_acc = int(train_correct.sum()) / int(data.train_mask.sum())\n",
    "            train_accs += [train_acc]\n",
    "\n",
    "            test_correct = torch.argmax(output[data.test_mask], dim=1) == data.y[data.test_mask]\n",
    "            test_acc = int(test_correct.sum()) / int(data.test_mask.sum())\n",
    "            test_accs += [test_acc]\n",
    "\n",
    "            print(f\"Epoch {epoch + 1}/{epochs}, Train_Loss: {loss:.4f}, Train_Accuracy: {train_acc:.4f}, Test_Accuracy: {test_acc:.4f}\")\n",
    "        print(train_losses)\n",
    "        print(type(train_losses))\n",
    "        print(type(train_losses[0]))\n",
    "        \n",
    "        plt.plot(train_losses)\n",
    "        plt.show()\n",
    "\n",
    "        plt.plot(train_accs)\n",
    "        plt.plot(test_accs) \n",
    "        plt.show()"
   ]
  },
  {
   "cell_type": "markdown",
   "metadata": {},
   "source": [
    "### Test data"
   ]
  },
  {
   "cell_type": "code",
   "execution_count": 41,
   "metadata": {},
   "outputs": [
    {
     "name": "stdout",
     "output_type": "stream",
     "text": [
      "\n",
      "Dataset: Cora():\n",
      "======================\n",
      "Number of graphs: 1\n",
      "Number of features: 1433\n",
      "Number of classes: 7\n",
      "\n",
      "Data(x=[2708, 1433], edge_index=[2, 10556], y=[2708], train_mask=[2708], val_mask=[2708], test_mask=[2708])\n",
      "===========================================================================================================\n",
      "Number of nodes: 2708\n",
      "Number of edges: 10556\n",
      "Average node degree: 3.90\n",
      "Number of training nodes: 140\n",
      "Training node label rate: 0.05\n",
      "Has isolated nodes: False\n",
      "Has self-loops: False\n",
      "Is undirected: True\n"
     ]
    }
   ],
   "source": [
    "from torch_geometric.datasets import Planetoid\n",
    "from torch_geometric.transforms import NormalizeFeatures\n",
    "\n",
    "dataset = Planetoid(root='data/Planetoid', name='Cora', transform=NormalizeFeatures())\n",
    "\n",
    "print()\n",
    "print(f'Dataset: {dataset}:')\n",
    "print('======================')\n",
    "print(f'Number of graphs: {len(dataset)}')\n",
    "print(f'Number of features: {dataset.num_features}')\n",
    "print(f'Number of classes: {dataset.num_classes}')\n",
    "\n",
    "data = dataset[0]  # Get the first graph object.\n",
    "\n",
    "print()\n",
    "print(data)\n",
    "print('===========================================================================================================')\n",
    "\n",
    "# Gather some statistics about the graph.\n",
    "print(f'Number of nodes: {data.num_nodes}')\n",
    "print(f'Number of edges: {data.num_edges}')\n",
    "print(f'Average node degree: {data.num_edges / data.num_nodes:.2f}')\n",
    "print(f'Number of training nodes: {data.train_mask.sum()}')\n",
    "print(f'Training node label rate: {int(data.train_mask.sum()) / data.num_nodes:.2f}')\n",
    "print(f'Has isolated nodes: {data.has_isolated_nodes()}')\n",
    "print(f'Has self-loops: {data.has_self_loops()}')\n",
    "print(f'Is undirected: {data.is_undirected()}')"
   ]
  },
  {
   "cell_type": "code",
   "execution_count": 8,
   "metadata": {},
   "outputs": [
    {
     "name": "stdout",
     "output_type": "stream",
     "text": [
      "GNN(\n",
      "  (conv1): GCNConv(1433, 16)\n",
      "  (conv2): GCNConv(16, 16)\n",
      "  (d1): Linear(in_features=16, out_features=7, bias=True)\n",
      ")\n"
     ]
    }
   ],
   "source": [
    "model = GNN(dataset = dataset, feature_size=16)\n",
    "print(model)"
   ]
  },
  {
   "cell_type": "code",
   "execution_count": 43,
   "metadata": {},
   "outputs": [
    {
     "name": "stdout",
     "output_type": "stream",
     "text": [
      "Epoch 1/50, Train_Loss: 1.9462, Train_Accuracy: 0.1429, Test_Accuracy: 0.1030\n",
      "Epoch 2/50, Train_Loss: 1.9459, Train_Accuracy: 0.1429, Test_Accuracy: 0.1030\n",
      "Epoch 3/50, Train_Loss: 1.9456, Train_Accuracy: 0.1429, Test_Accuracy: 0.1030\n",
      "Epoch 4/50, Train_Loss: 1.9451, Train_Accuracy: 0.1500, Test_Accuracy: 0.1050\n",
      "Epoch 5/50, Train_Loss: 1.9445, Train_Accuracy: 0.1786, Test_Accuracy: 0.1300\n",
      "Epoch 6/50, Train_Loss: 1.9437, Train_Accuracy: 0.2500, Test_Accuracy: 0.1810\n",
      "Epoch 7/50, Train_Loss: 1.9436, Train_Accuracy: 0.2429, Test_Accuracy: 0.2180\n",
      "Epoch 8/50, Train_Loss: 1.9419, Train_Accuracy: 0.3214, Test_Accuracy: 0.2840\n",
      "Epoch 9/50, Train_Loss: 1.9408, Train_Accuracy: 0.2571, Test_Accuracy: 0.3160\n",
      "Epoch 10/50, Train_Loss: 1.9397, Train_Accuracy: 0.2500, Test_Accuracy: 0.3230\n",
      "Epoch 11/50, Train_Loss: 1.9377, Train_Accuracy: 0.3000, Test_Accuracy: 0.3370\n",
      "Epoch 12/50, Train_Loss: 1.9374, Train_Accuracy: 0.3143, Test_Accuracy: 0.3470\n",
      "Epoch 13/50, Train_Loss: 1.9337, Train_Accuracy: 0.3357, Test_Accuracy: 0.3620\n",
      "Epoch 14/50, Train_Loss: 1.9312, Train_Accuracy: 0.4143, Test_Accuracy: 0.3930\n",
      "Epoch 15/50, Train_Loss: 1.9301, Train_Accuracy: 0.4000, Test_Accuracy: 0.3960\n",
      "Epoch 16/50, Train_Loss: 1.9265, Train_Accuracy: 0.4357, Test_Accuracy: 0.4020\n",
      "Epoch 17/50, Train_Loss: 1.9196, Train_Accuracy: 0.5000, Test_Accuracy: 0.4170\n",
      "Epoch 18/50, Train_Loss: 1.9185, Train_Accuracy: 0.4714, Test_Accuracy: 0.4050\n",
      "Epoch 19/50, Train_Loss: 1.9137, Train_Accuracy: 0.4571, Test_Accuracy: 0.4330\n",
      "Epoch 20/50, Train_Loss: 1.9091, Train_Accuracy: 0.5071, Test_Accuracy: 0.4200\n",
      "Epoch 21/50, Train_Loss: 1.9009, Train_Accuracy: 0.5071, Test_Accuracy: 0.4470\n",
      "Epoch 22/50, Train_Loss: 1.8979, Train_Accuracy: 0.4929, Test_Accuracy: 0.4330\n",
      "Epoch 23/50, Train_Loss: 1.8915, Train_Accuracy: 0.4857, Test_Accuracy: 0.4190\n",
      "Epoch 24/50, Train_Loss: 1.8850, Train_Accuracy: 0.4714, Test_Accuracy: 0.4430\n",
      "Epoch 25/50, Train_Loss: 1.8781, Train_Accuracy: 0.5143, Test_Accuracy: 0.4420\n",
      "Epoch 26/50, Train_Loss: 1.8649, Train_Accuracy: 0.5429, Test_Accuracy: 0.4620\n",
      "Epoch 27/50, Train_Loss: 1.8517, Train_Accuracy: 0.6071, Test_Accuracy: 0.4740\n",
      "Epoch 28/50, Train_Loss: 1.8425, Train_Accuracy: 0.5929, Test_Accuracy: 0.4780\n",
      "Epoch 29/50, Train_Loss: 1.8314, Train_Accuracy: 0.5929, Test_Accuracy: 0.5010\n",
      "Epoch 30/50, Train_Loss: 1.8148, Train_Accuracy: 0.5786, Test_Accuracy: 0.5000\n",
      "Epoch 31/50, Train_Loss: 1.8133, Train_Accuracy: 0.5714, Test_Accuracy: 0.5150\n",
      "Epoch 32/50, Train_Loss: 1.7979, Train_Accuracy: 0.6071, Test_Accuracy: 0.5340\n",
      "Epoch 33/50, Train_Loss: 1.7740, Train_Accuracy: 0.6143, Test_Accuracy: 0.5040\n",
      "Epoch 34/50, Train_Loss: 1.7551, Train_Accuracy: 0.6500, Test_Accuracy: 0.4950\n",
      "Epoch 35/50, Train_Loss: 1.7458, Train_Accuracy: 0.6143, Test_Accuracy: 0.5020\n",
      "Epoch 36/50, Train_Loss: 1.7350, Train_Accuracy: 0.5786, Test_Accuracy: 0.4990\n",
      "Epoch 37/50, Train_Loss: 1.7077, Train_Accuracy: 0.6500, Test_Accuracy: 0.5060\n",
      "Epoch 38/50, Train_Loss: 1.7034, Train_Accuracy: 0.6000, Test_Accuracy: 0.5130\n",
      "Epoch 39/50, Train_Loss: 1.6782, Train_Accuracy: 0.6571, Test_Accuracy: 0.5200\n",
      "Epoch 40/50, Train_Loss: 1.6498, Train_Accuracy: 0.6714, Test_Accuracy: 0.5200\n",
      "Epoch 41/50, Train_Loss: 1.6365, Train_Accuracy: 0.6571, Test_Accuracy: 0.5430\n",
      "Epoch 42/50, Train_Loss: 1.6300, Train_Accuracy: 0.6071, Test_Accuracy: 0.5250\n",
      "Epoch 43/50, Train_Loss: 1.6200, Train_Accuracy: 0.6643, Test_Accuracy: 0.5060\n",
      "Epoch 44/50, Train_Loss: 1.5848, Train_Accuracy: 0.6714, Test_Accuracy: 0.5450\n",
      "Epoch 45/50, Train_Loss: 1.5678, Train_Accuracy: 0.6857, Test_Accuracy: 0.5270\n",
      "Epoch 46/50, Train_Loss: 1.5641, Train_Accuracy: 0.6929, Test_Accuracy: 0.5460\n",
      "Epoch 47/50, Train_Loss: 1.5419, Train_Accuracy: 0.7143, Test_Accuracy: 0.5530\n",
      "Epoch 48/50, Train_Loss: 1.5217, Train_Accuracy: 0.7357, Test_Accuracy: 0.5730\n",
      "Epoch 49/50, Train_Loss: 1.4991, Train_Accuracy: 0.7500, Test_Accuracy: 0.5600\n",
      "Epoch 50/50, Train_Loss: 1.4929, Train_Accuracy: 0.7786, Test_Accuracy: 0.5910\n",
      "Epoch 51/50, Train_Loss: 1.4851, Train_Accuracy: 0.7857, Test_Accuracy: 0.5720\n",
      "[1.9462072849273682, 1.9459389448165894, 1.945647120475769, 1.9450585842132568, 1.9445101022720337, 1.9437373876571655, 1.9435629844665527, 1.9418747425079346, 1.9407553672790527, 1.939736247062683, 1.9376962184906006, 1.9373805522918701, 1.9336944818496704, 1.9312310218811035, 1.9301317930221558, 1.926476001739502, 1.9196404218673706, 1.9184975624084473, 1.9136500358581543, 1.9091081619262695, 1.9008980989456177, 1.8978761434555054, 1.8915055990219116, 1.8849881887435913, 1.8781441450119019, 1.8648775815963745, 1.8517227172851562, 1.8425201177597046, 1.8313947916030884, 1.814765453338623, 1.8133277893066406, 1.7979391813278198, 1.7740426063537598, 1.7551393508911133, 1.74577796459198, 1.7349807024002075, 1.707702875137329, 1.70338773727417, 1.6781606674194336, 1.6497859954833984, 1.6364794969558716, 1.629963755607605, 1.619959831237793, 1.5847569704055786, 1.5677623748779297, 1.5640838146209717, 1.5418936014175415, 1.521687626838684, 1.4991211891174316, 1.4928879737854004, 1.485076665878296]\n",
      "<class 'list'>\n",
      "<class 'float'>\n"
     ]
    },
    {
     "data": {
      "image/png": "[encoded data removed]",
      "text/plain": [
       "<Figure size 432x288 with 1 Axes>"
      ]
     },
     "metadata": {
      "needs_background": "light"
     },
     "output_type": "display_data"
    },
    {
     "data": {
      "image/png": "[encoded data removed]",
      "text/plain": [
       "<Figure size 432x288 with 1 Axes>"
      ]
     },
     "metadata": {
      "needs_background": "light"
     },
     "output_type": "display_data"
    }
   ],
   "source": [
    "training_result = Train(dataset = dataset, feature_size = 16, epochs = 50, learning_rate = 0.01)"
   ]
  },
  {
   "cell_type": "code",
   "execution_count": null,
   "metadata": {},
   "outputs": [],
   "source": []
  }
 ],
 "metadata": {
  "kernelspec": {
   "display_name": "Python 3",
   "language": "python",
   "name": "python3"
  },
  "language_info": {
   "codemirror_mode": {
    "name": "ipython",
    "version": 3
   },
   "file_extension": ".py",
   "mimetype": "text/x-python",
   "name": "python",
   "nbconvert_exporter": "python",
   "pygments_lexer": "ipython3",
   "version": "3.8.8"
  }
 },
 "nbformat": 4,
 "nbformat_minor": 4
}
