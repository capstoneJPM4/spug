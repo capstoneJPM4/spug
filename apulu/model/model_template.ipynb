{
 "cells": [
  {
   "cell_type": "markdown",
   "metadata": {},
   "source": [
    "### Model and Train"
   ]
  },
  {
   "cell_type": "code",
   "execution_count": 9,
   "metadata": {},
   "outputs": [],
   "source": [
    "import torch\n",
    "import torch.nn.functional as F \n",
    "from torch.nn import Linear\n",
    "from torch_geometric.nn import GCNConv\n",
    "\n",
    "class GNN(torch.nn.Module):\n",
    "    \n",
    "    # =============== binary classification ================\n",
    "#     def __init__(self, dataset, feature_size):\n",
    "#         super(GNN, self).__init__()\n",
    "#         input_size = dataset[0].num_features\n",
    "#         output_size = 2\n",
    "#         self.conv1 = GCNConv(in_channels=input_size, out_channels=feature_size)\n",
    "#         self.conv2 = GCNConv(in_channels=feature_size, out_channels=output_size)\n",
    "\n",
    "#     def forward(self, x, edge_index, edge_attr=None):\n",
    "#         # First Message Passing Layer\n",
    "#         x = x.to(torch.float32)\n",
    "#         x = self.conv1(x=x, edge_index=edge_index, edge_weight=edge_attr)\n",
    "#         x = x.relu()\n",
    "\n",
    "#         # Second Message Passing Layer\n",
    "#         x = self.conv2(x=x, edge_index=edge_index, edge_weight=edge_attr)\n",
    "#         return x\n",
    "\n",
    "\n",
    "    def __init__(self, dataset, feature_size):\n",
    "        super(GNN, self).__init__()\n",
    "\n",
    "        input_size = dataset[0].num_features\n",
    "        output_size = 2\n",
    "        self.conv1 = GCNConv(in_channels=input_size, out_channels=feature_size)\n",
    "        self.conv2 = GCNConv(in_channels=feature_size, out_channels=feature_size)\n",
    "        self.d1 = torch.nn.Linear(feature_size, output_size)\n",
    "\n",
    "    def forward(self, x, edge_index, edge_attr=None):\n",
    "        # First Message Passing Layer\n",
    "        x = x.to(torch.float32)\n",
    "        x = self.conv1(x=x, edge_index=edge_index, edge_weight=edge_attr)\n",
    "        x = x.relu()\n",
    "        x = F.dropout(x, p=0.2, training=self.training)\n",
    "\n",
    "        # Second Message Passing Layer\n",
    "        x = self.conv2(x=x, edge_index=edge_index, edge_weight=edge_attr)\n",
    "        x = x.relu()\n",
    "        x = F.dropout(x, p=0.2, training=self.training)\n",
    "\n",
    "        # Output layer \n",
    "        x = F.softmax(self.d1(x), dim=1)\n",
    "        return x"
   ]
  },
  {
   "cell_type": "code",
   "execution_count": 10,
   "metadata": {},
   "outputs": [],
   "source": [
    "import collections\n",
    "import numpy as np\n",
    "import pandas as pd\n",
    "\n",
    "import networkx as nx\n",
    "import matplotlib.pyplot as plt \n",
    "import seaborn as sns\n",
    "from sklearn.metrics import confusion_matrix, f1_score, accuracy_score, precision_score, recall_score, roc_auc_score\n",
    "\n",
    "import torch\n",
    "import torch.nn as nn\n",
    "import torch.nn.functional as F\n",
    "\n",
    "from torch_geometric.data import Data\n",
    "from torch_geometric.transforms import RandomNodeSplit as nodeSplit\n",
    "from torch_geometric.utils.convert import to_networkx\n",
    "from tqdm import tqdm\n",
    "# from model import GNN\n",
    "\n",
    "class Train():\n",
    "    def __init__(self, model, data, epochs = 10, learning_rate = 0.01):\n",
    "        self.data = data\n",
    "        self.model = model\n",
    "        self.epochs = epochs\n",
    "        self.optimizer = torch.optim.Adam(self.model.parameters(), lr = learning_rate)\n",
    "        self.loss_func = torch.nn.CrossEntropyLoss()\n",
    "        self.train_network()\n",
    "\n",
    "    def train_network(self):\n",
    "        data = self.data\n",
    "        optimizer = self.optimizer\n",
    "        epochs = self.epochs\n",
    "        \n",
    "        train_losses = []\n",
    "        train_accs = []\n",
    "        test_losses = []\n",
    "        test_accs = []\n",
    "\n",
    "        for epoch in range(epochs + 1):\n",
    "            optimizer.zero_grad()\n",
    "            output = self.model(data.x, data.edge_index)\n",
    "#             output = self.model(data.x, data.edge_index, data.edge_attr)\n",
    "            loss = self.loss_func(output[data.train_mask], data.y[data.train_mask].long())\n",
    "            loss.backward()\n",
    "            optimizer.step()\n",
    "            train_losses += [loss.item()]\n",
    "            \n",
    "            train_correct = torch.argmax(output[data.train_mask], dim=1) == data.y[data.train_mask]\n",
    "            \n",
    "            print(\"types:\")\n",
    "            print(type(torch.argmax(output[data.train_mask], dim=1)))\n",
    "            print(type(data.y[data.train_mask]))\n",
    "            print(torch.argmax(output[data.train_mask], dim=1))\n",
    "            print(data.y[data.train_mask])\n",
    "            print()\n",
    "            \n",
    "            \n",
    "            train_acc = int(train_correct.sum()) / int(data.train_mask.sum())\n",
    "            train_accs += [train_acc]\n",
    "\n",
    "            test_correct = torch.argmax(output[data.test_mask], dim=1) == data.y[data.test_mask]\n",
    "            test_acc = int(test_correct.sum()) / int(data.test_mask.sum())\n",
    "            test_accs += [test_acc]\n",
    "\n",
    "            print(f\"Epoch {epoch + 1}/{epochs}, Train_Loss: {loss:.4f}, Train_Accuracy: {train_acc:.4f}, Test_Accuracy: {test_acc:.4f}\")\n",
    "        print(train_losses)\n",
    "        print(type(train_losses))\n",
    "        print(type(train_losses[0]))\n",
    "        \n",
    "        plt.plot(train_losses)\n",
    "        plt.show()\n",
    "\n",
    "        plt.plot(train_accs)\n",
    "        plt.plot(test_accs) \n",
    "        plt.show()"
   ]
  },
  {
   "cell_type": "markdown",
   "metadata": {},
   "source": [
    "### Test with twitter data"
   ]
  },
  {
   "cell_type": "code",
   "execution_count": 11,
   "metadata": {},
   "outputs": [
    {
     "name": "stdout",
     "output_type": "stream",
     "text": [
      "\n",
      "Dataset: (Data(x=[29, 64], edge_index=[2, 741], edge_attr=[741], y=[29]), None):\n",
      "======================\n",
      "Number of graphs: 2\n",
      "\n",
      "Data(x=[29, 64], edge_index=[2, 741], edge_attr=[741], y=[29])\n",
      "===========================================================================================================\n",
      "Number of nodes: 29\n",
      "Number of edges: 741\n",
      "Average node degree: 25.55\n",
      "Has isolated nodes: False\n",
      "Has self-loops: True\n",
      "Is undirected: True\n"
     ]
    }
   ],
   "source": [
    "path = \"../../data/processed/twitter/2021_q3.pt\"\n",
    "dataset = torch.load(path)\n",
    "print()\n",
    "print(f'Dataset: {dataset}:')\n",
    "print('======================')\n",
    "print(f'Number of graphs: {len(dataset)}')\n",
    "\n",
    "data = dataset[0]  # Get the first graph object.\n",
    "\n",
    "print()\n",
    "print(data)\n",
    "print('===========================================================================================================')\n",
    "\n",
    "# Gather some statistics about the graph.\n",
    "print(f'Number of nodes: {data.num_nodes}')\n",
    "print(f'Number of edges: {data.num_edges}')\n",
    "print(f'Average node degree: {data.num_edges / data.num_nodes:.2f}')\n",
    "# print(f'Number of training nodes: {data.train_mask.sum()}')\n",
    "# print(f'Training node label rate: {int(data.train_mask.sum()) / data.num_nodes:.2f}')\n",
    "print(f'Has isolated nodes: {data.has_isolated_nodes()}')\n",
    "print(f'Has self-loops: {data.has_self_loops()}')\n",
    "print(f'Is undirected: {data.is_undirected()}')"
   ]
  },
  {
   "cell_type": "code",
   "execution_count": 12,
   "metadata": {},
   "outputs": [
    {
     "name": "stdout",
     "output_type": "stream",
     "text": [
      "Data(x=[29, 64], edge_index=[2, 741], edge_attr=[741], y=[29], train_mask=[29], val_mask=[29], test_mask=[29])\n",
      "\n",
      "training samples 15\n",
      "validation samples 0\n",
      "test samples 14\n"
     ]
    }
   ],
   "source": [
    "msk = nodeSplit(split=\"train_rest\", num_splits = 1, num_val = 0.0, num_test= 0.5)\n",
    "g = msk(data)\n",
    "print(g)\n",
    "print()\n",
    "print(\"training samples\",torch.sum(g.train_mask).item())\n",
    "print(\"validation samples\",torch.sum(g.val_mask ).item())\n",
    "print(\"test samples\",torch.sum(g.test_mask ).item())"
   ]
  },
  {
   "cell_type": "code",
   "execution_count": 13,
   "metadata": {},
   "outputs": [
    {
     "name": "stdout",
     "output_type": "stream",
     "text": [
      "GNN(\n",
      "  (conv1): GCNConv(64, 16)\n",
      "  (conv2): GCNConv(16, 2)\n",
      ")\n"
     ]
    }
   ],
   "source": [
    "model = GNN(dataset = dataset, feature_size=16)\n",
    "print(model)"
   ]
  },
  {
   "cell_type": "code",
   "execution_count": 14,
   "metadata": {},
   "outputs": [
    {
     "name": "stdout",
     "output_type": "stream",
     "text": [
      "types:\n",
      "<class 'torch.Tensor'>\n",
      "<class 'torch.Tensor'>\n",
      "tensor([0, 0, 0, 0, 0, 0, 0, 0, 0, 0, 0, 0, 0, 0, 0])\n",
      "tensor([-0.0706,  0.0839, -0.0173,  0.0460, -0.0125, -0.0270, -0.0465,  0.0250,\n",
      "        -0.0594,  0.0660, -0.0488,  0.0178, -0.0981, -0.0525, -0.0518],\n",
      "       dtype=torch.float64)\n",
      "\n",
      "Epoch 1/10, Train_Loss: 0.0000, Train_Accuracy: 0.0000, Test_Accuracy: 0.0000\n",
      "types:\n",
      "<class 'torch.Tensor'>\n",
      "<class 'torch.Tensor'>\n",
      "tensor([0, 0, 0, 0, 0, 0, 0, 0, 0, 0, 0, 0, 0, 0, 0])\n",
      "tensor([-0.0706,  0.0839, -0.0173,  0.0460, -0.0125, -0.0270, -0.0465,  0.0250,\n",
      "        -0.0594,  0.0660, -0.0488,  0.0178, -0.0981, -0.0525, -0.0518],\n",
      "       dtype=torch.float64)\n",
      "\n",
      "Epoch 2/10, Train_Loss: 0.0000, Train_Accuracy: 0.0000, Test_Accuracy: 0.0000\n",
      "types:\n",
      "<class 'torch.Tensor'>\n",
      "<class 'torch.Tensor'>\n",
      "tensor([0, 0, 0, 0, 0, 0, 0, 0, 0, 0, 0, 0, 0, 0, 0])\n",
      "tensor([-0.0706,  0.0839, -0.0173,  0.0460, -0.0125, -0.0270, -0.0465,  0.0250,\n",
      "        -0.0594,  0.0660, -0.0488,  0.0178, -0.0981, -0.0525, -0.0518],\n",
      "       dtype=torch.float64)\n",
      "\n",
      "Epoch 3/10, Train_Loss: 0.0000, Train_Accuracy: 0.0000, Test_Accuracy: 0.0000\n",
      "types:\n",
      "<class 'torch.Tensor'>\n",
      "<class 'torch.Tensor'>\n",
      "tensor([0, 0, 0, 0, 0, 0, 0, 0, 0, 0, 0, 0, 0, 0, 0])\n",
      "tensor([-0.0706,  0.0839, -0.0173,  0.0460, -0.0125, -0.0270, -0.0465,  0.0250,\n",
      "        -0.0594,  0.0660, -0.0488,  0.0178, -0.0981, -0.0525, -0.0518],\n",
      "       dtype=torch.float64)\n",
      "\n",
      "Epoch 4/10, Train_Loss: 0.0000, Train_Accuracy: 0.0000, Test_Accuracy: 0.0000\n",
      "types:\n",
      "<class 'torch.Tensor'>\n",
      "<class 'torch.Tensor'>\n",
      "tensor([0, 0, 0, 0, 0, 0, 0, 0, 0, 0, 0, 0, 0, 0, 0])\n",
      "tensor([-0.0706,  0.0839, -0.0173,  0.0460, -0.0125, -0.0270, -0.0465,  0.0250,\n",
      "        -0.0594,  0.0660, -0.0488,  0.0178, -0.0981, -0.0525, -0.0518],\n",
      "       dtype=torch.float64)\n",
      "\n",
      "Epoch 5/10, Train_Loss: 0.0000, Train_Accuracy: 0.0000, Test_Accuracy: 0.0000\n",
      "types:\n",
      "<class 'torch.Tensor'>\n",
      "<class 'torch.Tensor'>\n",
      "tensor([0, 0, 0, 0, 0, 0, 0, 0, 0, 0, 0, 0, 0, 0, 0])\n",
      "tensor([-0.0706,  0.0839, -0.0173,  0.0460, -0.0125, -0.0270, -0.0465,  0.0250,\n",
      "        -0.0594,  0.0660, -0.0488,  0.0178, -0.0981, -0.0525, -0.0518],\n",
      "       dtype=torch.float64)\n",
      "\n",
      "Epoch 6/10, Train_Loss: 0.0000, Train_Accuracy: 0.0000, Test_Accuracy: 0.0000\n",
      "types:\n",
      "<class 'torch.Tensor'>\n",
      "<class 'torch.Tensor'>\n",
      "tensor([0, 0, 0, 0, 0, 0, 0, 0, 0, 0, 0, 0, 0, 0, 0])\n",
      "tensor([-0.0706,  0.0839, -0.0173,  0.0460, -0.0125, -0.0270, -0.0465,  0.0250,\n",
      "        -0.0594,  0.0660, -0.0488,  0.0178, -0.0981, -0.0525, -0.0518],\n",
      "       dtype=torch.float64)\n",
      "\n",
      "Epoch 7/10, Train_Loss: 0.0000, Train_Accuracy: 0.0000, Test_Accuracy: 0.0000\n",
      "types:\n",
      "<class 'torch.Tensor'>\n",
      "<class 'torch.Tensor'>\n",
      "tensor([0, 0, 0, 0, 0, 0, 0, 0, 0, 0, 0, 0, 0, 0, 0])\n",
      "tensor([-0.0706,  0.0839, -0.0173,  0.0460, -0.0125, -0.0270, -0.0465,  0.0250,\n",
      "        -0.0594,  0.0660, -0.0488,  0.0178, -0.0981, -0.0525, -0.0518],\n",
      "       dtype=torch.float64)\n",
      "\n",
      "Epoch 8/10, Train_Loss: 0.0000, Train_Accuracy: 0.0000, Test_Accuracy: 0.0000\n",
      "types:\n",
      "<class 'torch.Tensor'>\n",
      "<class 'torch.Tensor'>\n",
      "tensor([0, 0, 0, 0, 0, 0, 0, 0, 0, 0, 0, 0, 0, 0, 0])\n",
      "tensor([-0.0706,  0.0839, -0.0173,  0.0460, -0.0125, -0.0270, -0.0465,  0.0250,\n",
      "        -0.0594,  0.0660, -0.0488,  0.0178, -0.0981, -0.0525, -0.0518],\n",
      "       dtype=torch.float64)\n",
      "\n",
      "Epoch 9/10, Train_Loss: 0.0000, Train_Accuracy: 0.0000, Test_Accuracy: 0.0000\n",
      "types:\n",
      "<class 'torch.Tensor'>\n",
      "<class 'torch.Tensor'>\n",
      "tensor([0, 0, 0, 0, 0, 0, 0, 0, 0, 0, 0, 0, 0, 0, 0])\n",
      "tensor([-0.0706,  0.0839, -0.0173,  0.0460, -0.0125, -0.0270, -0.0465,  0.0250,\n",
      "        -0.0594,  0.0660, -0.0488,  0.0178, -0.0981, -0.0525, -0.0518],\n",
      "       dtype=torch.float64)\n",
      "\n",
      "Epoch 10/10, Train_Loss: 0.0000, Train_Accuracy: 0.0000, Test_Accuracy: 0.0000\n",
      "types:\n",
      "<class 'torch.Tensor'>\n",
      "<class 'torch.Tensor'>\n",
      "tensor([0, 0, 0, 0, 0, 0, 0, 0, 0, 0, 0, 0, 0, 0, 0])\n",
      "tensor([-0.0706,  0.0839, -0.0173,  0.0460, -0.0125, -0.0270, -0.0465,  0.0250,\n",
      "        -0.0594,  0.0660, -0.0488,  0.0178, -0.0981, -0.0525, -0.0518],\n",
      "       dtype=torch.float64)\n",
      "\n",
      "Epoch 11/10, Train_Loss: 0.0000, Train_Accuracy: 0.0000, Test_Accuracy: 0.0000\n",
      "[0.0, 0.0, 0.0, 0.0, 0.0, 0.0, 0.0, 0.0, 0.0, 0.0, 0.0]\n",
      "<class 'list'>\n",
      "<class 'float'>\n"
     ]
    },
    {
     "data": {
      "image/png": "[encoded data removed]",
      "text/plain": [
       "<Figure size 432x288 with 1 Axes>"
      ]
     },
     "metadata": {
      "needs_background": "light"
     },
     "output_type": "display_data"
    },
    {
     "data": {
      "image/png": "[encoded data removed]",
      "text/plain": [
       "<Figure size 432x288 with 1 Axes>"
      ]
     },
     "metadata": {
      "needs_background": "light"
     },
     "output_type": "display_data"
    }
   ],
   "source": [
    "training_result = Train(model = model, data = g, epochs = 10, learning_rate = 0.01)"
   ]
  },
  {
   "cell_type": "code",
   "execution_count": null,
   "metadata": {},
   "outputs": [],
   "source": [
    "# problem: our data.y is not binary."
   ]
  },
  {
   "cell_type": "code",
   "execution_count": null,
   "metadata": {},
   "outputs": [],
   "source": []
  }
 ],
 "metadata": {
  "kernelspec": {
   "display_name": "Python 3",
   "language": "python",
   "name": "python3"
  },
  "language_info": {
   "codemirror_mode": {
    "name": "ipython",
    "version": 3
   },
   "file_extension": ".py",
   "mimetype": "text/x-python",
   "name": "python",
   "nbconvert_exporter": "python",
   "pygments_lexer": "ipython3",
   "version": "3.8.8"
  }
 },
 "nbformat": 4,
 "nbformat_minor": 4
}
