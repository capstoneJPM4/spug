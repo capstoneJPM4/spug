{
 "cells": [
  {
   "cell_type": "markdown",
   "metadata": {},
   "source": [
    "### Model and Train"
   ]
  },
  {
   "cell_type": "code",
   "execution_count": 1,
   "metadata": {},
   "outputs": [],
   "source": [
    "import torch\n",
    "import torch.nn.functional as F \n",
    "from torch.nn import Linear\n",
    "from torch_geometric.nn import GCNConv\n",
    "\n",
    "class GNN(torch.nn.Module):\n",
    "    \n",
    "    def __init__(self, dataset, feature_size):\n",
    "        super(GNN, self).__init__()\n",
    "        input_size = dataset[0].num_features\n",
    "        output_size = 2 # binary classification\n",
    "        self.conv1 = GCNConv(in_channels=input_size, out_channels=feature_size)\n",
    "        self.conv2 = GCNConv(in_channels=feature_size, out_channels=output_size)\n",
    "\n",
    "    def forward(self, x, edge_index, edge_attr=None):\n",
    "            \n",
    "        # First Message Passing Layer\n",
    "        x = self.conv1(x=x, edge_index=edge_index, edge_weight=edge_attr)\n",
    "        x = x.relu()\n",
    "            \n",
    "        # Second Message Passing Layer\n",
    "        x = self.conv2(x=x, edge_index=edge_index, edge_weight=edge_attr)\n",
    "        return x\n",
    "\n",
    "\n",
    "#     def __init__(self, dataset, feature_size):\n",
    "#         super(GNN, self).__init__()\n",
    "\n",
    "#         input_size = dataset[0].num_features\n",
    "#         output_size = 2\n",
    "#         self.conv1 = GCNConv(in_channels=input_size, out_channels=feature_size)\n",
    "#         self.conv2 = GCNConv(in_channels=feature_size, out_channels=feature_size)\n",
    "#         self.d1 = torch.nn.Linear(feature_size, output_size)\n",
    "\n",
    "#     def forward(self, x, edge_index, edge_attr=None):\n",
    "#         # First Message Passing Layer\n",
    "#         x = x.to(torch.float32)\n",
    "#         x = self.conv1(x=x, edge_index=edge_index, edge_weight=edge_attr)\n",
    "#         x = x.relu()\n",
    "#         x = F.dropout(x, p=0.2, training=self.training)\n",
    "\n",
    "#         # Second Message Passing Layer\n",
    "#         x = self.conv2(x=x, edge_index=edge_index, edge_weight=edge_attr)\n",
    "#         x = x.relu()\n",
    "#         x = F.dropout(x, p=0.2, training=self.training)\n",
    "\n",
    "#         # Output layer \n",
    "#         x = F.softmax(self.d1(x), dim=1)\n",
    "#         return x"
   ]
  },
  {
   "cell_type": "code",
   "execution_count": 2,
   "metadata": {},
   "outputs": [],
   "source": [
    "import collections\n",
    "import numpy as np\n",
    "import pandas as pd\n",
    "\n",
    "import networkx as nx\n",
    "import matplotlib.pyplot as plt \n",
    "import seaborn as sns\n",
    "from sklearn.metrics import confusion_matrix, f1_score, accuracy_score, precision_score, recall_score, roc_auc_score\n",
    "\n",
    "import torch\n",
    "import torch.nn as nn\n",
    "import torch.nn.functional as F\n",
    "\n",
    "from torch_geometric.data import Data\n",
    "from torch_geometric.transforms import RandomNodeSplit as nodeSplit\n",
    "from torch_geometric.utils.convert import to_networkx\n",
    "from tqdm import tqdm\n",
    "# from model import GNN\n",
    "\n",
    "class Train():\n",
    "    def __init__(self, model, data, epochs = 10, learning_rate = 0.01):\n",
    "        self.data = data\n",
    "        self.model = model\n",
    "        self.epochs = epochs\n",
    "        self.optimizer = torch.optim.Adam(self.model.parameters(), lr = learning_rate)\n",
    "        self.loss_func = torch.nn.CrossEntropyLoss()\n",
    "        self.train_network()\n",
    "\n",
    "    def train_network(self):\n",
    "        data = self.data\n",
    "        optimizer = self.optimizer\n",
    "        epochs = self.epochs\n",
    "        \n",
    "        train_losses = []\n",
    "        train_accs = []\n",
    "        test_losses = []\n",
    "        test_accs = []\n",
    "\n",
    "        for epoch in range(epochs + 1):\n",
    "            optimizer.zero_grad()\n",
    "#             output = self.model(data.x, data.edge_index)\n",
    "            output = self.model(data.x, data.edge_index, data.edge_attr)\n",
    "            loss = self.loss_func(output[data.train_mask], data.y[data.train_mask].long())\n",
    "            loss.backward()\n",
    "            optimizer.step()\n",
    "            train_losses += [loss.item()]\n",
    "            train_correct = torch.argmax(output[data.train_mask], dim=1) == data.y[data.train_mask]\n",
    "            \n",
    "#             print(\"Predicted label vs actual label:\")\n",
    "#             print(torch.argmax(output[data.train_mask], dim=1))\n",
    "#             print(data.y[data.train_mask])\n",
    "#             print()\n",
    "            \n",
    "            train_acc = int(train_correct.sum()) / int(data.train_mask.sum())\n",
    "            train_accs += [train_acc]\n",
    "\n",
    "            test_correct = torch.argmax(output[data.test_mask], dim=1) == data.y[data.test_mask]\n",
    "            test_acc = int(test_correct.sum()) / int(data.test_mask.sum())\n",
    "            test_accs += [test_acc]\n",
    "\n",
    "            print(f\"Epoch {epoch + 1}/{epochs}, Train_Loss: {loss:.4f}, Train_Accuracy: {train_acc:.4f}, Test_Accuracy: {test_acc:.4f}\")\n",
    "        \n",
    "        plt.plot(train_losses)\n",
    "        plt.show()\n",
    "\n",
    "        plt.plot(train_accs)\n",
    "        plt.plot(test_accs) \n",
    "        plt.show()"
   ]
  },
  {
   "cell_type": "markdown",
   "metadata": {},
   "source": [
    "### Get data"
   ]
  },
  {
   "cell_type": "code",
   "execution_count": 3,
   "metadata": {},
   "outputs": [
    {
     "name": "stdout",
     "output_type": "stream",
     "text": [
      "\n",
      "Data(x=[29, 64], edge_index=[2, 741], edge_attr=[741], y=[29])\n",
      "===========================================================================================================\n",
      "Number of nodes: 29\n",
      "Number of edges: 741\n",
      "Average node degree: 25.55\n",
      "Has isolated nodes: False\n",
      "Has self-loops: True\n",
      "Is undirected: True\n"
     ]
    }
   ],
   "source": [
    "# Customize...\n",
    "path = \"../../data/processed/twitter/2021_q3.pt\"\n",
    "\n",
    "dataset = torch.load(path)\n",
    "data = dataset[0]  # Get the first graph\n",
    "\n",
    "print()\n",
    "print(data)\n",
    "print('===========================================================================================================')\n",
    "\n",
    "# Gather some statistics about the graph.\n",
    "print(f'Number of nodes: {data.num_nodes}')\n",
    "print(f'Number of edges: {data.num_edges}')\n",
    "print(f'Average node degree: {data.num_edges / data.num_nodes:.2f}')\n",
    "print(f'Has isolated nodes: {data.has_isolated_nodes()}')\n",
    "print(f'Has self-loops: {data.has_self_loops()}')\n",
    "print(f'Is undirected: {data.is_undirected()}')"
   ]
  },
  {
   "cell_type": "markdown",
   "metadata": {},
   "source": [
    "### Split data"
   ]
  },
  {
   "cell_type": "code",
   "execution_count": 4,
   "metadata": {},
   "outputs": [
    {
     "name": "stdout",
     "output_type": "stream",
     "text": [
      "Training samples: 15\n",
      "Validation samples: 0\n",
      "Test samples: 14\n"
     ]
    }
   ],
   "source": [
    "split = nodeSplit(split=\"train_rest\", num_splits = 1, num_val = 0.0, num_test= 0.5)\n",
    "masked_data = split(data)\n",
    "\n",
    "print(\"Training samples:\", torch.sum(masked_data.train_mask).item())\n",
    "print(\"Validation samples:\", torch.sum(masked_data.val_mask ).item())\n",
    "print(\"Test samples:\", torch.sum(masked_data.test_mask ).item())"
   ]
  },
  {
   "cell_type": "markdown",
   "metadata": {},
   "source": [
    "### Create model and train"
   ]
  },
  {
   "cell_type": "code",
   "execution_count": 5,
   "metadata": {},
   "outputs": [
    {
     "name": "stdout",
     "output_type": "stream",
     "text": [
      "GNN(\n",
      "  (conv1): GCNConv(64, 32)\n",
      "  (conv2): GCNConv(32, 2)\n",
      ")\n"
     ]
    }
   ],
   "source": [
    "model = GNN(dataset = dataset, feature_size=32)\n",
    "print(model)"
   ]
  },
  {
   "cell_type": "code",
   "execution_count": 6,
   "metadata": {},
   "outputs": [
    {
     "name": "stdout",
     "output_type": "stream",
     "text": [
      "Epoch 1/20, Train_Loss: 315.2726, Train_Accuracy: 0.2667, Test_Accuracy: 0.3571\n",
      "Epoch 2/20, Train_Loss: 3.3109, Train_Accuracy: 0.7333, Test_Accuracy: 0.6429\n",
      "Epoch 3/20, Train_Loss: 41.7689, Train_Accuracy: 0.7333, Test_Accuracy: 0.6429\n",
      "Epoch 4/20, Train_Loss: 46.5843, Train_Accuracy: 0.7333, Test_Accuracy: 0.6429\n",
      "Epoch 5/20, Train_Loss: 33.7522, Train_Accuracy: 0.7333, Test_Accuracy: 0.6429\n",
      "Epoch 6/20, Train_Loss: 10.1735, Train_Accuracy: 0.7333, Test_Accuracy: 0.6429\n",
      "Epoch 7/20, Train_Loss: 58.2679, Train_Accuracy: 0.2667, Test_Accuracy: 0.3571\n",
      "Epoch 8/20, Train_Loss: 42.9816, Train_Accuracy: 0.2667, Test_Accuracy: 0.3571\n",
      "Epoch 9/20, Train_Loss: 10.4386, Train_Accuracy: 0.7333, Test_Accuracy: 0.6429\n",
      "Epoch 10/20, Train_Loss: 25.1559, Train_Accuracy: 0.7333, Test_Accuracy: 0.6429\n",
      "Epoch 11/20, Train_Loss: 30.9488, Train_Accuracy: 0.7333, Test_Accuracy: 0.6429\n",
      "Epoch 12/20, Train_Loss: 29.2519, Train_Accuracy: 0.7333, Test_Accuracy: 0.6429\n",
      "Epoch 13/20, Train_Loss: 21.3407, Train_Accuracy: 0.7333, Test_Accuracy: 0.6429\n",
      "Epoch 14/20, Train_Loss: 8.3371, Train_Accuracy: 0.7333, Test_Accuracy: 0.6429\n",
      "Epoch 15/20, Train_Loss: 25.4245, Train_Accuracy: 0.2667, Test_Accuracy: 0.3571\n",
      "Epoch 16/20, Train_Loss: 21.4694, Train_Accuracy: 0.2667, Test_Accuracy: 0.3571\n",
      "Epoch 17/20, Train_Loss: 7.7315, Train_Accuracy: 0.7333, Test_Accuracy: 0.6429\n",
      "Epoch 18/20, Train_Loss: 16.4280, Train_Accuracy: 0.7333, Test_Accuracy: 0.6429\n",
      "Epoch 19/20, Train_Loss: 19.3802, Train_Accuracy: 0.7333, Test_Accuracy: 0.6429\n",
      "Epoch 20/20, Train_Loss: 17.2771, Train_Accuracy: 0.7333, Test_Accuracy: 0.6429\n",
      "Epoch 21/20, Train_Loss: 10.7719, Train_Accuracy: 0.7333, Test_Accuracy: 0.6429\n"
     ]
    },
    {
     "data": {
      "image/png": "[encoded data removed]",
      "text/plain": [
       "<Figure size 432x288 with 1 Axes>"
      ]
     },
     "metadata": {
      "needs_background": "light"
     },
     "output_type": "display_data"
    },
    {
     "data": {
      "image/png": "[encoded data removed]",
      "text/plain": [
       "<Figure size 432x288 with 1 Axes>"
      ]
     },
     "metadata": {
      "needs_background": "light"
     },
     "output_type": "display_data"
    }
   ],
   "source": [
    "model = model.to(torch.float64)\n",
    "masked_data.x = masked_data.x.to(torch.float64)\n",
    "masked_data.y = masked_data.y.apply_(lambda x:  1 if (x > 0) else 0) # Change y into {0, 1} for binary classification\n",
    "masked_data.y = masked_data.y.to(torch.float64)\n",
    "masked_data.edge_attr = masked_data.edge_attr.to(torch.double)\n",
    "\n",
    "# Customize...\n",
    "training_result = Train(model = model, data = masked_data, epochs = 20, learning_rate = 0.01)"
   ]
  },
  {
   "cell_type": "code",
   "execution_count": null,
   "metadata": {},
   "outputs": [],
   "source": []
  }
 ],
 "metadata": {
  "kernelspec": {
   "display_name": "Python 3",
   "language": "python",
   "name": "python3"
  },
  "language_info": {
   "codemirror_mode": {
    "name": "ipython",
    "version": 3
   },
   "file_extension": ".py",
   "mimetype": "text/x-python",
   "name": "python",
   "nbconvert_exporter": "python",
   "pygments_lexer": "ipython3",
   "version": "3.8.8"
  }
 },
 "nbformat": 4,
 "nbformat_minor": 4
}
